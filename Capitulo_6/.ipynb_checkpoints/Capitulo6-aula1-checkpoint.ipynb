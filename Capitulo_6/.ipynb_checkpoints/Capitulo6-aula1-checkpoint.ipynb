{
 "cells": [
  {
   "cell_type": "markdown",
   "id": "4d82140c-0295-417c-8c5e-bdb067bc86a1",
   "metadata": {},
   "source": [
    "\n",
    " \n",
    " Modelos estatísticos lineares para séries temporais. Estão relacionados à regressão linear, porém representam as correlações entre os pontos de dados na mesma série temporal. Exitem os:\n",
    "\n",
    " - Modelos autorregressivos (AR), modelos de média móvel (MA) e modelos autorregressivos de média móvel (ARIMA). \n",
    "\n",
    " - Autorregressão vertical (VAR).\n",
    "\n",
    " - Modelos hierárquicos. \n",
    "\n",
    " Que são utilizados para a previsão de sérires temporais.\n",
    "\n",
    "-----------------------------------------\n",
    " \n",
    " Regressão Linear presume que você tem dados independentes e indenticamente distribuídos (iid).\n",
    "\n",
    " Mas, em dados de séries temporais isso não ocorre. O que acontece na ST é que os pontos próximos no tempo costumam estar fortemente correlacionados uns com os outros. Na realidade, quando não há correlações temporais, os dados de séries temporais dificilmente servem para tarefas tradicionais de séries temporais, como predizer o futuro ou compreender a dinâmica temporal. \n",
    "\n",
    " Não raro, os tutorais e os livros de séries temporais nos passam a impressão indevida de que a regressão linear não serve para séries temporais. O que faz os alunos acreditarem que regressões lineares simples não são suficientes. Mas não é assim que funciona. <b> A regressão linear de mínimos quadrados ordinários pode ser aplicada aos dados da série temporal desde que as seguintes condições sejam atendidas:</b>\n",
    "\n",
    "\n",
    " Suposições ao comportamento das séries temporais:\n",
    "\n",
    " - A séire temporal tem uma resposta linear aos seus preditores. \n",
    " - nenhuma variável de entrada é constante ao longo do tempo ou perfeitamente correlacionada com outra variável de entrada. Assim, o tradicional requisito de regressão linear de variáveis independentes se amplifica para considerar a dimensão temporal dos dados. \n",
    "\n",
    " Suposições a respeito do erro:\n",
    "\n",
    " - Para cada ponto no tempo, o valor esperado do erro, dadas todas as variáveis explicativas para todos os períodos de tempo (passo à frente [forward] e passo para trás [backward]), é 0.\n",
    "\n",
    " - o erro em qualquer período de tempo determinado não se correlaciona com as entradas em nenhum período de tempo no passado ou futuro. Portanto, um gráfico da função de autocorrelação dos erros não indicará nenhum padrão. \n",
    "\n",
    " - a variância do erro independe do tempo. \n",
    "\n",
    "\n",
    "\n",
    "\n",
    " se for válido, a regressão de mínimos quadrados ordinários é um estimado não viesado dos coeficientes dos dados de entrada, mesmo em séries temporais. Nesse caos, as variâncias das estimativas amostradas têm a mesma forma matemática para a regressão linear padrão. Logo, se seus dados atenderem às suposições enumeradas, dá para aplicar a regressão linear. Dados sempelhates aos da regressão linear padrão aplicada a dados transversais. \n",
    "\n",
    " Não force a regressão linear:\n",
    "\n",
    " - Seus coeficientes não minimizarão o ero de seu modelo. \n",
    "\n",
    " - Seus valores-p para determinar se seus coeficientes são diferentes de zero estarão incorretos, pois eles se baseiam em suposições ue não são atendidas. Isso significaque suas avaliações da significância do coeficiente podem estar errados. \n",
    "\n",
    "\n",
    "\n",
    " se uma estimativa não for superestimada ou subestimara, o estimador é não viesado. Isso costuma ser bom, embora tende estar atento ao trade-off de viés/variância, a representação dos problemas estatísticos e de aprendizado de máquina em que modelos com um viés inferior em sua estimativas de parâmetros tendem a ter uma maior variância dessa mesma estimativa. A variância da estimativa do parâmetro retrata o nível de variância de uma estimativa em diferentes amostras de dados. \n",
    "\n",
    "-----------------------------------------\n",
    " \n",
    " https://github.com/PracticalTimeSeriesAnalysis/BookRepo/tree/master/Ch07\n",
    "\n",
    "-----------------------------------------\n",
    " \n",
    " Regressão ok, o pacorte tsml para função de forecast é válida \n",
    "\n",
    " https://robjhyndman.com/hyndsight/forecast7-part-2/\n",
    "\n",
    "-----------------------------------------"
   ]
  },
  {
   "cell_type": "code",
   "execution_count": 151,
   "id": "c9901a46-53e9-4375-a5d7-bb597ae2361f",
   "metadata": {},
   "outputs": [],
   "source": [
    "#!pip install rpy2"
   ]
  },
  {
   "cell_type": "code",
   "execution_count": 152,
   "id": "f0bff098-b836-4974-841d-17482aa1611b",
   "metadata": {},
   "outputs": [
    {
     "name": "stdout",
     "output_type": "stream",
     "text": [
      "3.5.16\n"
     ]
    }
   ],
   "source": [
    "\n",
    "import rpy2\n",
    "print(rpy2.__version__)\n",
    "\n",
    "\n",
    "import rpy2.robjects as robjects\n",
    "\n",
    "\n",
    "from rpy2.robjects.packages import importr\n",
    "# import R's \"base\" package\n",
    "base = importr('base')\n",
    "\n",
    "# import R's \"utils\" package\n",
    "utils = importr('utils')\n"
   ]
  },
  {
   "cell_type": "code",
   "execution_count": 153,
   "id": "8afc6fa9-0ab0-4350-a8a2-85019fa26a5b",
   "metadata": {},
   "outputs": [],
   "source": [
    "#robjects.r(\"install.packages('forecast', repos = 'https://cran.r-project.org/')\")\n"
   ]
  },
  {
   "cell_type": "code",
   "execution_count": 154,
   "id": "718cc567-d7cd-4d8e-9ce7-8377135bd152",
   "metadata": {},
   "outputs": [],
   "source": [
    "#robjects.r(\"install.packages('forecast')\")\n"
   ]
  },
  {
   "cell_type": "raw",
   "id": "fd07fe6d-b7e3-40ad-bd1e-293e2356ef29",
   "metadata": {},
   "source": [
    "codigo = \"\"\"\n",
    "install.packages('forecast')\n",
    "library(forecast)\n",
    "# Your remaining code goes here\n",
    "\"\"\"\n",
    "robjects.r(codigo)"
   ]
  },
  {
   "cell_type": "raw",
   "id": "61117ffb-a361-4174-b1df-7a06e22a9fcf",
   "metadata": {},
   "source": [
    "codigo = \"\"\"install.packages(\"MASS\")\n",
    "install.packages(\"mgcv\")\n",
    "install.packages(\"ggplot2\")\n",
    "install.packages(\"forecast\")\n",
    "\"\"\"\n",
    "robjects.r(codigo)"
   ]
  },
  {
   "cell_type": "code",
   "execution_count": 155,
   "id": "1ced963a-ea46-455f-958d-7dab5d483166",
   "metadata": {},
   "outputs": [],
   "source": [
    "#conda activate RBA_est\n",
    "# conda install -c r r-forecast r-ggplot2 r-mgcv r-mass\n"
   ]
  },
  {
   "cell_type": "code",
   "execution_count": 156,
   "id": "84667212-6777-4a24-a266-3c66be71fb3a",
   "metadata": {},
   "outputs": [
    {
     "data": {
      "text/html": [
       "\n",
       "        <span>IntVector with 1 elements.</span>\n",
       "        <table>\n",
       "        <tbody>\n",
       "          <tr>\n",
       "          \n",
       "            <td>\n",
       "            3\n",
       "            </td>\n",
       "          \n",
       "          </tr>\n",
       "        </tbody>\n",
       "        </table>\n",
       "        "
      ],
      "text/plain": [
       "<rpy2.robjects.vectors.IntVector object at 0x700dac1e8dd0> [13]\n",
       "R classes: ('integer',)\n",
       "[3]"
      ]
     },
     "execution_count": 156,
     "metadata": {},
     "output_type": "execute_result"
    }
   ],
   "source": [
    "codigo = \"\"\"\n",
    "#install.packages('forecast')\n",
    "library(forecast)\n",
    "library(ggplot2)\n",
    "\n",
    "png(filename = \"Figura1.png\",width = 10, height = 8, \n",
    "     units = \"cm\",pointsize = 12, res = 1200)\n",
    "\n",
    "deaths.lm  <- tslm(mdeaths ~ trend + fourier(mdeaths,3))\n",
    "mdeaths.fcast <- forecast(deaths.lm,\n",
    "    data.frame(fourier(mdeaths,3,36)))\n",
    "autoplot(mdeaths.fcast)\n",
    "\n",
    "dev.off()\n",
    "\"\"\"\n",
    "\n",
    "robjects.r(codigo)\n"
   ]
  },
  {
   "cell_type": "code",
   "execution_count": 157,
   "id": "b0549429-0845-4eb0-aff4-182075d0ed07",
   "metadata": {},
   "outputs": [
    {
     "data": {
      "text/html": [
       "\n",
       "        <span>IntVector with 1 elements.</span>\n",
       "        <table>\n",
       "        <tbody>\n",
       "          <tr>\n",
       "          \n",
       "            <td>\n",
       "            3\n",
       "            </td>\n",
       "          \n",
       "          </tr>\n",
       "        </tbody>\n",
       "        </table>\n",
       "        "
      ],
      "text/plain": [
       "<rpy2.robjects.vectors.IntVector object at 0x700dac1eb590> [13]\n",
       "R classes: ('integer',)\n",
       "[3]"
      ]
     },
     "execution_count": 157,
     "metadata": {},
     "output_type": "execute_result"
    }
   ],
   "source": [
    "codigo = \"\"\"\n",
    "library(forecast)\n",
    "library(ggplot2)\n",
    "\n",
    "\n",
    "png(filename = \"Figura1.png\",width = 10, height = 8, \n",
    "     units = \"cm\",pointsize = 12, res = 1200)\n",
    "\n",
    "\n",
    "deaths.lm  <- tslm(mdeaths ~ trend + fourier(mdeaths,3))\n",
    "mdeaths.fcast <- forecast(deaths.lm,\n",
    "    data.frame(fourier(mdeaths,3,36)))\n",
    "autoplot(mdeaths.fcast)\n",
    "\n",
    "dev.off()\n",
    "\"\"\"\n",
    "\n",
    "robjects.r(codigo)\n"
   ]
  },
  {
   "cell_type": "code",
   "execution_count": 158,
   "id": "b56d78bf-8af6-4d80-99a1-630e34cfa0c6",
   "metadata": {},
   "outputs": [
    {
     "data": {
      "text/html": [
       "\n",
       "        <span>IntVector with 1 elements.</span>\n",
       "        <table>\n",
       "        <tbody>\n",
       "          <tr>\n",
       "          \n",
       "            <td>\n",
       "            3\n",
       "            </td>\n",
       "          \n",
       "          </tr>\n",
       "        </tbody>\n",
       "        </table>\n",
       "        "
      ],
      "text/plain": [
       "<rpy2.robjects.vectors.IntVector object at 0x700d47ba4710> [13]\n",
       "R classes: ('integer',)\n",
       "[3]"
      ]
     },
     "execution_count": 158,
     "metadata": {},
     "output_type": "execute_result"
    }
   ],
   "source": [
    "\n",
    "codigo = \"\"\"\n",
    "library(forecast)\n",
    "library(ggplot2)\n",
    "\n",
    "png(filename = \"Figura1.png\",width = 10, height = 8, \n",
    "     units = \"cm\",pointsize = 12, res = 1200)\n",
    "\n",
    "deaths.lm <- tslm(mdeaths ~ trend + fourier(mdeaths,3))\n",
    "mdeaths.fcast <- forecast(deaths.lm,\n",
    "                          data.frame(fourier(mdeaths,3,36)))\n",
    "\n",
    "plot(mdeaths.fcast)\n",
    "\n",
    "dev.off()\n",
    "\"\"\"\n",
    "\n",
    "robjects.r(codigo)"
   ]
  },
  {
   "cell_type": "markdown",
   "id": "7448d422-4e1c-48f4-9789-16d0ca053789",
   "metadata": {},
   "source": [
    "<img src=\"Figura1.png\" />\n",
    "\n",
    " \n",
    "<img src=\"Figura1.png\" width=\"720\" height=\"500\" />"
   ]
  },
  {
   "cell_type": "markdown",
   "id": "64686494-6b1d-498f-a944-7249384c516f",
   "metadata": {},
   "source": [
    "Note that fourier now takes 3 arguments. The first is the series, which is only used to grab the seasonal period and the tsp attribute. The second argument K is the number of Fourier harmonics to compute. If the third argument h is NULL (the default), the function returns Fourier terms for the times of the historical observations. But if h is a positive integer, the function returns Fourier terms for the next h time periods after the end of the historical data.\n",
    "\n",
    "The lm function has long allowed a matrix to be passed and independent linear models fitted to each column. The new tslm function also allows this now.\n",
    "\n",
    "---------------------------------------------------------\n",
    "\n",
    "# Bias adjustment for Box-Cox transformations\n",
    "\n",
    "Almost all modelling and forecasting functions in the package allow Box-Cox transformations to be applied before the model is fitted, and for the forecasts to be back transformed. This will give median forecasts on the original scale, as I’ve explained before.\n",
    "\n",
    "There is now an option to adjust the forecasts so they are means rather than medians, but setting biasadj=TRUE whenever the forecasts are computed. I will probably make this the default in some future version, but for now the default is biasadj=FALSE so the forecasts are actually medians."
   ]
  },
  {
   "cell_type": "code",
   "execution_count": 159,
   "id": "a784e208-f54a-4034-8994-af9a8741d645",
   "metadata": {},
   "outputs": [
    {
     "name": "stderr",
     "output_type": "stream",
     "text": [
      "R[write to console]: tentando a URL 'https://cran.r-project.org/src/contrib/fpp_0.5.tar.gz'\n",
      "\n",
      "R[write to console]: Content type 'application/x-gzip'\n",
      "R[write to console]:  length 45952 bytes (44 KB)\n",
      "\n",
      "R[write to console]: =\n",
      "R[write to console]: =\n",
      "R[write to console]: =\n",
      "R[write to console]: =\n",
      "R[write to console]: =\n",
      "R[write to console]: =\n",
      "R[write to console]: =\n",
      "R[write to console]: =\n",
      "R[write to console]: =\n",
      "R[write to console]: =\n",
      "R[write to console]: =\n",
      "R[write to console]: =\n",
      "R[write to console]: =\n",
      "R[write to console]: =\n",
      "R[write to console]: =\n",
      "R[write to console]: =\n",
      "R[write to console]: =\n",
      "R[write to console]: =\n",
      "R[write to console]: =\n",
      "R[write to console]: =\n",
      "R[write to console]: =\n",
      "R[write to console]: =\n",
      "R[write to console]: =\n",
      "R[write to console]: =\n",
      "R[write to console]: =\n",
      "R[write to console]: =\n",
      "R[write to console]: =\n",
      "R[write to console]: =\n",
      "R[write to console]: =\n",
      "R[write to console]: =\n",
      "R[write to console]: =\n",
      "R[write to console]: =\n",
      "R[write to console]: =\n",
      "R[write to console]: =\n",
      "R[write to console]: =\n",
      "R[write to console]: =\n",
      "R[write to console]: =\n",
      "R[write to console]: =\n",
      "R[write to console]: =\n",
      "R[write to console]: =\n",
      "R[write to console]: =\n",
      "R[write to console]: =\n",
      "R[write to console]: =\n",
      "R[write to console]: =\n",
      "R[write to console]: =\n",
      "R[write to console]: =\n",
      "R[write to console]: =\n",
      "R[write to console]: =\n",
      "R[write to console]: =\n",
      "R[write to console]: =\n",
      "R[write to console]: \n",
      "\n",
      "R[write to console]: downloaded 44 KB\n",
      "\n",
      "\n",
      "* installing *source* package ‘fpp’ ...\n",
      "** package ‘fpp’ successfully unpacked and MD5 sums checked\n",
      "** using staged installation\n",
      "** data\n",
      "*** moving datasets to lazyload DB\n",
      "** help\n",
      "*** installing help indices\n",
      "** building package indices\n",
      "** testing if installed package can be loaded from temporary location\n",
      "** testing if installed package can be loaded from final location\n",
      "** testing if installed package keeps a record of temporary installation path\n",
      "* DONE (fpp)\n",
      "R[write to console]: \n",
      "\n",
      "R[write to console]: \n",
      "R[write to console]: The downloaded source packages are in\n",
      "\t‘/tmp/RtmpRFfVB8/downloaded_packages’\n",
      "R[write to console]: \n",
      "R[write to console]: \n",
      "\n",
      "R[write to console]: Updating HTML index of packages in '.Library'\n",
      "\n",
      "R[write to console]: Making 'packages.html' ...\n",
      "R[write to console]:  done\n",
      "\n"
     ]
    }
   ],
   "source": [
    "robjects.r(\"install.packages('fpp', repos = 'https://cran.r-project.org/')\")"
   ]
  },
  {
   "cell_type": "code",
   "execution_count": 160,
   "id": "84287f84-b0de-4228-87f4-821be6cb2041",
   "metadata": {},
   "outputs": [],
   "source": [
    "#robjects.r(\"install.packages('ggplot2', repos = 'https://cran.r-project.org/')\")\n"
   ]
  },
  {
   "cell_type": "code",
   "execution_count": 161,
   "id": "2c9b3a4c-ec9e-40c8-8a34-a61ecb31fb87",
   "metadata": {},
   "outputs": [],
   "source": [
    "codigo = \"\"\"\n",
    "# Install and load the required package\n",
    "if (!require(fpp)) {\n",
    "  install.packages(\"fpp\")\n",
    "}\n",
    "library(fpp)\n",
    "\"\"\"\n",
    "robjects.r(codigo)\n"
   ]
  },
  {
   "cell_type": "code",
   "execution_count": 162,
   "id": "cb503b7d-419e-4fe8-8353-9abee62b1db9",
   "metadata": {},
   "outputs": [],
   "source": [
    "#não rodou\n",
    "codigo = \"\"\"\n",
    "\n",
    "png(filename = \"Figura2.png\")\n",
    "\n",
    "library(fpp, quietly=TRUE)\n",
    "\n",
    "fit <- ets(eggs, model=\"AAN\", lambda=0)\n",
    "fc1 <- forecast(fit, biasadj=TRUE, h=20, level=95)\n",
    "fc2 <- forecast(fit, biasadj=FALSE, h=20)\n",
    "cols <- c(\"Mean\"=\"#0000ee\",\"Median\"=\"#ee0000\")\n",
    "autoplot(fc1) + ylab(\"Price\") + xlab(\"Year\") +\n",
    "  autolayer(fc2, PI=FALSE, series=\"Median\") +\n",
    "  autolayer(fc1, PI=FALSE, series=\"Mean\") +\n",
    "  guides(fill=FALSE) +\n",
    "  cscale_colour_manual(name=\"Forecasts\",values=cols)\n",
    "\n",
    "\n",
    "\n",
    "\n",
    "\n",
    "dev.off()\n",
    "\"\"\"\n",
    "#robjects.r(codigo)\n",
    "\n"
   ]
  },
  {
   "cell_type": "code",
   "execution_count": 163,
   "id": "1af1e3fa-7f9d-4552-9493-47dc57535531",
   "metadata": {},
   "outputs": [
    {
     "name": "stderr",
     "output_type": "stream",
     "text": [
      "R[write to console]: Além disso: \n",
      "R[write to console]: Warning message:\n",
      "\n",
      "R[write to console]: `guides(<scale> = FALSE)` is deprecated. Please use `guides(<scale> = \"none\")` instead. \n",
      "\n"
     ]
    },
    {
     "data": {
      "text/html": [
       "\n",
       "        <span>IntVector with 1 elements.</span>\n",
       "        <table>\n",
       "        <tbody>\n",
       "          <tr>\n",
       "          \n",
       "            <td>\n",
       "            3\n",
       "            </td>\n",
       "          \n",
       "          </tr>\n",
       "        </tbody>\n",
       "        </table>\n",
       "        "
      ],
      "text/plain": [
       "<rpy2.robjects.vectors.IntVector object at 0x700dac1f19d0> [13]\n",
       "R classes: ('integer',)\n",
       "[3]"
      ]
     },
     "execution_count": 163,
     "metadata": {},
     "output_type": "execute_result"
    }
   ],
   "source": [
    "\n",
    "codigo = \"\"\" png(filename = \"Figura2.png\")\n",
    "\n",
    "library(fpp, quietly=TRUE)\n",
    "library(ggplot2)\n",
    "\n",
    "fit <- ets(eggs, model=\"AAN\", lambda=0)\n",
    "fc1 <- forecast(fit, biasadj=TRUE, h=20, level=95)\n",
    "fc2 <- forecast(fit, biasadj=FALSE, h=20)\n",
    "cols <- c(\"Mean\"=\"#0000ee\",\"Median\"=\"#ee0000\")\n",
    "\n",
    "autoplot(fc1) + ylab(\"Price\") + xlab(\"Year\") +\n",
    "  autolayer(fc2, PI=FALSE, series=\"Median\") +\n",
    "  autolayer(fc1, PI=FALSE, series=\"Mean\") +\n",
    "  guides(fill=FALSE) +\n",
    "  scale_colour_manual(name=\"Forecasts\",values=cols) \n",
    "\n",
    "dev.off()\"\"\"\n",
    "robjects.r(codigo)"
   ]
  },
  {
   "cell_type": "code",
   "execution_count": 164,
   "id": "e7e209b1-2ab2-4408-bdd1-603b48960f63",
   "metadata": {},
   "outputs": [
    {
     "name": "stderr",
     "output_type": "stream",
     "text": [
      "R[write to console]: Além disso: \n",
      "R[write to console]: Warning message:\n",
      "\n",
      "R[write to console]: `guides(<scale> = FALSE)` is deprecated. Please use `guides(<scale> = \"none\")` instead. \n",
      "\n"
     ]
    },
    {
     "data": {
      "text/html": [
       "\n",
       "        <span>IntVector with 1 elements.</span>\n",
       "        <table>\n",
       "        <tbody>\n",
       "          <tr>\n",
       "          \n",
       "            <td>\n",
       "            3\n",
       "            </td>\n",
       "          \n",
       "          </tr>\n",
       "        </tbody>\n",
       "        </table>\n",
       "        "
      ],
      "text/plain": [
       "<rpy2.robjects.vectors.IntVector object at 0x700d47a5b890> [13]\n",
       "R classes: ('integer',)\n",
       "[3]"
      ]
     },
     "execution_count": 164,
     "metadata": {},
     "output_type": "execute_result"
    }
   ],
   "source": [
    "\n",
    "codigo = \"\"\" png(filename = \"Figura2.png\")\n",
    "\n",
    "library(fpp, quietly=TRUE)\n",
    "library(ggplot2)\n",
    "\n",
    "fit <- ets(eggs, model=\"AAN\", lambda=0)\n",
    "fc1 <- forecast(fit, biasadj=TRUE, h=20, level=95)\n",
    "fc2 <- forecast(fit, biasadj=FALSE, h=20)\n",
    "cols <- c(\"Mean\"=\"#0000ee\",\"Median\"=\"#ee0000\")\n",
    "\n",
    "plot(autoplot(fc1) + ylab(\"Price\") + xlab(\"Year\") +\n",
    "  autolayer(fc2, PI=FALSE, series=\"Median\") +\n",
    "  autolayer(fc1, PI=FALSE, series=\"Mean\") +\n",
    "  guides(fill=FALSE) +\n",
    "  scale_color_manual(name=\"Forecasts\",values=cols)) # Correção: Use scale_color_manual\n",
    "\n",
    "dev.off()\n",
    "\"\"\"\n",
    "robjects.r(codigo)"
   ]
  },
  {
   "cell_type": "markdown",
   "id": "8091226c-14f7-433e-aff2-3659578b00b9",
   "metadata": {},
   "source": [
    "<img src=\"Figura2.png\" width=\"720\" height=\"500\" />\n"
   ]
  },
  {
   "cell_type": "markdown",
   "id": "27c58396-d488-4d3e-bf13-4458f3e2080a",
   "metadata": {},
   "source": [
    " <img src=\"Figura2.png\" />"
   ]
  },
  {
   "cell_type": "markdown",
   "id": "0451fcf1-940e-4db3-860e-133dfdfecaa9",
   "metadata": {},
   "source": [
    "A new Ccf function\n",
    "Cross-correlations can now be computed using Ccf, mimicing ccf except that the axes are more informative.\n",
    "\n",
    "The Acf function now handles multivariate time series, with cross-correlation functions computed as well as the ACFs of each series.\n",
    "\n",
    "Covariates in neural net AR models\n",
    "The nnetar function allows neural networks to be applied to time series data by building a nonlinear autoregressive model. A new feature allows additional inputs to be included in the model.\n",
    "\n",
    "Better subsetting of time series\n",
    "subset.ts allows quite sophisticated subsetting of a time series. For example"
   ]
  },
  {
   "cell_type": "code",
   "execution_count": 165,
   "id": "9be11a7b-fcc1-4411-99e0-8ae5f2eb5337",
   "metadata": {},
   "outputs": [
    {
     "data": {
      "text/html": [
       "\n",
       "        <span>IntVector with 1 elements.</span>\n",
       "        <table>\n",
       "        <tbody>\n",
       "          <tr>\n",
       "          \n",
       "            <td>\n",
       "            3\n",
       "            </td>\n",
       "          \n",
       "          </tr>\n",
       "        </tbody>\n",
       "        </table>\n",
       "        "
      ],
      "text/plain": [
       "<rpy2.robjects.vectors.IntVector object at 0x700d4c3f2b90> [13]\n",
       "R classes: ('integer',)\n",
       "[3]"
      ]
     },
     "execution_count": 165,
     "metadata": {},
     "output_type": "execute_result"
    }
   ],
   "source": [
    "codigo = \"\"\" png(filename = \"Figura3.png\")\n",
    "\n",
    "plot(subset(gas,month=\"November\"))\n",
    "\n",
    "\n",
    "dev.off()#para realmente gerar a figura\n",
    "\"\"\"\n",
    "robjects.r(codigo)"
   ]
  },
  {
   "cell_type": "markdown",
   "id": "1e2223c6-9b10-491e-bf5c-87fce689af38",
   "metadata": {},
   "source": [
    "<img src=\"Figura3.png\" />"
   ]
  },
  {
   "cell_type": "code",
   "execution_count": 166,
   "id": "25725e24-d89f-4b84-ac86-04d8d9b021f5",
   "metadata": {},
   "outputs": [
    {
     "data": {
      "text/html": [
       "\n",
       "        <span>FloatVector with 30 elements.</span>\n",
       "        <table>\n",
       "        <tbody>\n",
       "          <tr>\n",
       "          \n",
       "            <td>\n",
       "            6633.000000\n",
       "            </td>\n",
       "          \n",
       "            <td>\n",
       "            6730.000000\n",
       "            </td>\n",
       "          \n",
       "            <td>\n",
       "            6946.000000\n",
       "            </td>\n",
       "          \n",
       "            <td>\n",
       "            ...\n",
       "            </td>\n",
       "          \n",
       "            <td>\n",
       "            4954.000000\n",
       "            </td>\n",
       "          \n",
       "            <td>\n",
       "            5309.000000\n",
       "            </td>\n",
       "          \n",
       "            <td>\n",
       "            6396.000000\n",
       "            </td>\n",
       "          \n",
       "          </tr>\n",
       "        </tbody>\n",
       "        </table>\n",
       "        "
      ],
      "text/plain": [
       "<rpy2.robjects.vectors.FloatVector object at 0x700d47a59a50> [14]\n",
       "R classes: ('ts',)\n",
       "[6633.000000, 6730.000000, 6946.000000, 6915.000000, ..., 5222.000000, 4954.000000, 5309.000000, 6396.000000]"
      ]
     },
     "execution_count": 166,
     "metadata": {},
     "output_type": "execute_result"
    }
   ],
   "source": [
    "\n",
    "codigo = \"\"\" subset(woolyrnq,quarter=3)\n",
    "\"\"\"\n",
    "robjects.r(codigo)"
   ]
  },
  {
   "cell_type": "code",
   "execution_count": 167,
   "id": "37ed4514-e36e-4aeb-83cc-fea7cb8f279b",
   "metadata": {},
   "outputs": [
    {
     "name": "stdout",
     "output_type": "stream",
     "text": [
      "Time Series:\n",
      "Start = 1965.5 \n",
      "End = 1994.5 \n",
      "Frequency = 1 \n",
      " [1] 6633 6730 6946 6915 7190 7105 6840 7819 7045 5540 5906 5505 5318 5466 5696\n",
      "[16] 5341 5464 5129 5524 6080 6540 6339 6590 6077 5146 5127 5222 4954 5309 6396\n",
      "[1] \"This is now substantially more robust than it used to be.\"\n"
     ]
    }
   ],
   "source": [
    "codigo = \"\"\" print(subset(woolyrnq,quarter=3))\n",
    "\n",
    "print(\"This is now substantially more robust than it used to be.\")\n",
    "\"\"\"\n",
    "robjects.r(codigo)"
   ]
  },
  {
   "cell_type": "code",
   "execution_count": 168,
   "id": "8af16a2e-4335-4047-b0fc-3eb7855d9ec1",
   "metadata": {},
   "outputs": [
    {
     "name": "stdout",
     "output_type": "stream",
     "text": [
      "1965.5 1966.5 1967.5 1968.5 1969.5 1970.5 1971.5 1972.5 1973.5 1974.5 1975.5 \n",
      "  6633   6730   6946   6915   7190   7105   6840   7819   7045   5540   5906 \n",
      "1976.5 1977.5 1978.5 1979.5 1980.5 1981.5 1982.5 1983.5 1984.5 1985.5 1986.5 \n",
      "  5505   5318   5466   5696   5341   5464   5129   5524   6080   6540   6339 \n",
      "1987.5 1988.5 1989.5 1990.5 1991.5 1992.5 1993.5 1994.5 \n",
      "  6590   6077   5146   5127   5222   4954   5309   6396 \n",
      "[1] \"This is now substantially more robust than it used to be.\"\n"
     ]
    }
   ],
   "source": [
    "codigo = \"\"\" print(subset(woolyrnq,quarter=3),16)\n",
    "\n",
    "print(\"This is now substantially more robust than it used to be.\")\n",
    "\"\"\"\n",
    "robjects.r(codigo)"
   ]
  },
  {
   "cell_type": "code",
   "execution_count": 169,
   "id": "bf6176c2-6294-4a46-9807-aff6512f9761",
   "metadata": {},
   "outputs": [
    {
     "name": "stdout",
     "output_type": "stream",
     "text": [
      "1965.5 1966.5 1967.5 1968.5 1969.5 1970.5 1971.5 1972.5 1973.5 1974.5 1975.5 \n",
      "  6633   6730   6946   6915   7190   7105   6840   7819   7045   5540   5906 \n",
      "1976.5 1977.5 1978.5 1979.5 1980.5 1981.5 1982.5 1983.5 1984.5 1985.5 1986.5 \n",
      "  5505   5318   5466   5696   5341   5464   5129   5524   6080   6540   6339 \n",
      "1987.5 1988.5 1989.5 1990.5 1991.5 1992.5 1993.5 1994.5 \n",
      "  6590   6077   5146   5127   5222   4954   5309   6396 \n",
      "[1] \"This is now substantially more robust than it used to be.\"\n"
     ]
    }
   ],
   "source": [
    "codigo = \"\"\" print(subset(woolyrnq,quarter=3),40)\n",
    "\n",
    "print(\"This is now substantially more robust than it used to be.\")\n",
    "\"\"\"\n",
    "robjects.r(codigo)"
   ]
  },
  {
   "cell_type": "markdown",
   "id": "b9078597-f2a5-419e-9a24-b2bc20009ff0",
   "metadata": {},
   "source": [
    "--------------------------------------------------------------\n",
    "\n",
    "\n",
    "\n",
    " ### Modelo Autorregressivos (AR)\n",
    " Modelo Autorregressivos (AR) tomoa como base a inutição de que o passado prediz o futuro. Desse modo, ele pressupõe um processo de série temporal no qual o valor em um ponto no tempo t é uma função dos valores da série em pontos anteriores no tempo. \n",
    "\n",
    "  Autorregressão seroa uma regressão em valores passados para predizer valores futuros. \n",
    "\n",
    "--------------------------------------------------------------\n",
    "\n",
    "\n",
    "\n",
    "\n",
    "\n",
    " AR(1) se assemelha a regressão simples\n",
    "\n",
    " y_t = b0 +b1*y_t-1 +e_t\n",
    "\n",
    "\n",
    " y_t = série no tempo t\n",
    " b0= constante\n",
    " b1*y_t-1 = seu valor no intervalo de tempo anterior multiplicado por outra constante\n",
    " e_t= termo de erro que varia no tempo \n",
    "\n",
    "\n",
    "--------------------------------------------------------------\n",
    "\n",
    " Probabilidade condicional\n",
    " E(y_t| y_t-1) = b0 + b1*y_t-1 + e_t\n",
    "\n",
    "\n",
    "\n",
    " A <b>estacionariedade</b> é um conceito fundamental na análise de séries temporais, já que é exigência de muitos modelos de séries temporais, incluindo modelos AR. Determinamos um modelo autorregressivo (AR) com condições ser estacionário a partir da definição de estacionariedade.\n",
    "\n",
    "--------------------------------------------------------------\n",
    "\n",
    " resultados var(y_t) = var(e1)/ (1- (Ø_1)^2)\n",
    "\n",
    " considerando que a variância deve ser maior ou igual a 0 por definição, podemos ver que  (Ø_1)^2 deve ser menor que 1 para garantir um valor positivo no lado direito da equação anterior. Ou seja, para um processo estacionário, devemos ter -1 < Ø_1 < 1, o que é uma condição necessária e suficiente para esse tipo de estacionariedade fraca. \n"
   ]
  },
  {
   "cell_type": "markdown",
   "id": "834a0ae9-f2f5-40a9-89d4-c06985f23cac",
   "metadata": {},
   "source": [
    "\n",
    "<b>Estacionariedade fraca comentada no livro, que exige apenas que a média e a variância de um processo sejam invariáveis no tempo. </b>\n",
    "Já a estacionariedade forte exige que a distribuição das variáveis aleatórias geradas por um processo permaneça a mesma ao longo do tempo. Exemplo: Exige que a distribuição estatística de y1, y2, y3 seja a mesma que y101,y102, y103 para qualquer medida dessa distribuição, emve do primeiro e segundo momentos (a média e a variância). \n",
    "\n",
    "A estacionariedade forte inclui a estacionariedade fraca em média e a variância de um processo existente, mas se um processo NÃO tiver uma média ou uma variância, ele pode ser fortemente estacionário, embora não fracamente estacionário. Exemplo a distribuição de CAUCHY, que tem média indefinida e variância infinita. Um processo de Cauchy não pode atender aos requisitos de estacionariedade fraca, mas pode atender aos requisitos de estacionariedade forte. "
   ]
  },
  {
   "cell_type": "markdown",
   "id": "bce38f3b-e686-45da-a84e-7133ae54f173",
   "metadata": {},
   "source": [
    "\n",
    "# Escolhendo parâmetros para um modelo AR(p)\n",
    " \n",
    " \n",
    "Avaliar a adequabilidade de um modelo AR em seus dados, plotando a <b>função de autocorrelação parcial (PACF).</b> A <b>PACF de um processo AR deve ser reduzida a zero </b> para além da ordem p de um processo AR (p), fornecendo indícios concretos de visuais da ordem de um processo AR visto de forma empírica nos dados. "
   ]
  },
  {
   "cell_type": "markdown",
   "id": "602bf7cc-a08e-4067-99f5-dc3de51438da",
   "metadata": {},
   "source": [
    "https://archive.ics.uci.edu/datasets?search=machine-learning-databases%2F00409"
   ]
  },
  {
   "cell_type": "markdown",
   "id": "b88f672f-6868-49b4-b3e7-719a0fc4c0ff",
   "metadata": {},
   "source": [
    "https://archive.ics.uci.edu/"
   ]
  },
  {
   "cell_type": "markdown",
   "id": "81d1f514-6712-4150-abca-e36d6ec9b34e",
   "metadata": {},
   "source": [
    "https://archive.ics.uci.edu/dataset/409/daily+demand+forecasting+orders"
   ]
  },
  {
   "cell_type": "code",
   "execution_count": 170,
   "id": "14a9b620-cf1e-4896-9732-cf4c99dcfb9f",
   "metadata": {},
   "outputs": [
    {
     "name": "stdout",
     "output_type": "stream",
     "text": [
      "    Week of the month (first week, second, third, fourth or fifth week\n",
      "                                                                 <int>\n",
      " 1:                                                                  1\n",
      " 2:                                                                  1\n",
      " 3:                                                                  1\n",
      " 4:                                                                  2\n",
      " 5:                                                                  2\n",
      " 6:                                                                  2\n",
      " 7:                                                                  2\n",
      " 8:                                                                  2\n",
      " 9:                                                                  3\n",
      "10:                                                                  3\n",
      "11:                                                                  3\n",
      "12:                                                                  3\n",
      "13:                                                                  3\n",
      "14:                                                                  4\n",
      "15:                                                                  4\n",
      "16:                                                                  4\n",
      "17:                                                                  4\n",
      "18:                                                                  4\n",
      "19:                                                                  5\n",
      "20:                                                                  1\n",
      "21:                                                                  1\n",
      "22:                                                                  1\n",
      "23:                                                                  1\n",
      "24:                                                                  2\n",
      "25:                                                                  2\n",
      "26:                                                                  2\n",
      "27:                                                                  2\n",
      "28:                                                                  2\n",
      "29:                                                                  3\n",
      "30:                                                                  3\n",
      "31:                                                                  3\n",
      "32:                                                                  3\n",
      "33:                                                                  4\n",
      "34:                                                                  4\n",
      "35:                                                                  4\n",
      "36:                                                                  4\n",
      "37:                                                                  5\n",
      "38:                                                                  5\n",
      "39:                                                                  5\n",
      "40:                                                                  1\n",
      "41:                                                                  2\n",
      "42:                                                                  2\n",
      "43:                                                                  2\n",
      "44:                                                                  2\n",
      "45:                                                                  2\n",
      "46:                                                                  3\n",
      "47:                                                                  3\n",
      "48:                                                                  3\n",
      "49:                                                                  3\n",
      "50:                                                                  3\n",
      "51:                                                                  4\n",
      "52:                                                                  4\n",
      "53:                                                                  4\n",
      "54:                                                                  4\n",
      "55:                                                                  4\n",
      "56:                                                                  5\n",
      "57:                                                                  5\n",
      "58:                                                                  5\n",
      "59:                                                                  5\n",
      "60:                                                                  5\n",
      "    Week of the month (first week, second, third, fourth or fifth week\n",
      "    Day of the week (Monday to Friday) Non-urgent order Urgent order\n",
      "                                 <int>            <num>        <num>\n",
      " 1:                                  4          316.307      223.270\n",
      " 2:                                  5          128.633       96.042\n",
      " 3:                                  6           43.651       84.375\n",
      " 4:                                  2          171.297      127.667\n",
      " 5:                                  3           90.532      113.526\n",
      " 6:                                  4          110.925       96.360\n",
      " 7:                                  5          144.124      118.919\n",
      " 8:                                  6          119.379      113.870\n",
      " 9:                                  2          218.856      124.381\n",
      "10:                                  3          146.518      101.045\n",
      "11:                                  4          178.433      102.793\n",
      "12:                                  5          145.865       91.180\n",
      "13:                                  6          170.566      114.412\n",
      "14:                                  2          220.343      141.406\n",
      "15:                                  3          193.768      141.854\n",
      "16:                                  4          122.736      124.256\n",
      "17:                                  5          144.051      158.408\n",
      "18:                                  6          105.415      108.688\n",
      "19:                                  2          240.660      163.720\n",
      "20:                                  3          131.067      166.649\n",
      "21:                                  4          130.129       98.927\n",
      "22:                                  5          123.286      103.551\n",
      "23:                                  6          190.816       87.629\n",
      "24:                                  2          266.741      141.437\n",
      "25:                                  3          123.143      106.083\n",
      "26:                                  4          148.139       85.310\n",
      "27:                                  5          118.552      100.417\n",
      "28:                                  6          146.959       95.153\n",
      "29:                                  2          299.770      133.375\n",
      "30:                                  3          151.341      131.788\n",
      "31:                                  4          206.206       92.160\n",
      "32:                                  5          170.868      131.463\n",
      "33:                                  3          435.304      181.149\n",
      "34:                                  4          235.106      110.874\n",
      "35:                                  5          168.179      125.119\n",
      "36:                                  6          172.783       77.371\n",
      "37:                                  2          381.768      140.041\n",
      "38:                                  3          221.438      111.392\n",
      "39:                                  4          193.957      111.859\n",
      "40:                                  6          275.076      121.697\n",
      "41:                                  2          252.298      150.708\n",
      "42:                                  3          165.472      102.530\n",
      "43:                                  4          126.030      108.055\n",
      "44:                                  5          112.246      106.641\n",
      "45:                                  6          123.302       94.315\n",
      "46:                                  2          187.810      167.455\n",
      "47:                                  3          119.863      139.383\n",
      "48:                                  4          127.805      114.813\n",
      "49:                                  5          120.629      112.703\n",
      "50:                                  6          130.465      105.273\n",
      "51:                                  2          222.282      120.324\n",
      "52:                                  3          150.257      116.959\n",
      "53:                                  4           96.494       87.294\n",
      "54:                                  5           89.526       99.756\n",
      "55:                                  6          134.425       79.084\n",
      "56:                                  2          158.716      158.133\n",
      "57:                                  3          150.784      133.069\n",
      "58:                                  4          193.534      109.639\n",
      "59:                                  5          196.555      108.395\n",
      "60:                                  6          192.116      121.106\n",
      "    Day of the week (Monday to Friday) Non-urgent order Urgent order\n",
      "    Order type A Order type B Order type C Fiscal sector orders\n",
      "           <num>        <num>        <num>                <num>\n",
      " 1:       61.543      175.586      302.448                0.000\n",
      " 2:       38.058       56.037      130.580                0.000\n",
      " 3:       21.826       25.125       82.461                1.386\n",
      " 4:       41.542      113.294      162.284               18.156\n",
      " 5:       37.679       56.618      116.220                6.459\n",
      " 6:       30.792       50.704      125.868               79.000\n",
      " 7:       43.304       66.371      153.368                0.000\n",
      " 8:       38.584       85.961      124.413               15.709\n",
      " 9:       33.973      148.274      162.044                1.054\n",
      "10:       36.399       43.306      168.723              865.000\n",
      "11:       45.706      111.036      124.678              194.000\n",
      "12:       43.851       66.277      133.440                6.523\n",
      "13:       43.339      136.434      128.405               23.200\n",
      "14:       46.241      120.865      196.296                1.653\n",
      "15:       56.519      136.709      143.644                1.250\n",
      "16:       56.167       78.101      112.724                0.000\n",
      "17:       51.660       92.272      164.948                6.421\n",
      "18:       47.717       71.474      113.935               19.023\n",
      "19:       59.135      157.681      187.564                0.000\n",
      "20:       90.476       80.509      127.575              844.000\n",
      "21:       42.904       43.962      142.383              193.000\n",
      "22:       47.331       72.444      116.529                9.467\n",
      "23:       32.077      127.358      137.739               18.729\n",
      "24:       58.721      139.034      211.646                1.223\n",
      "25:       36.017       75.813      119.205                1.809\n",
      "26:       35.576       79.997      123.253                5.377\n",
      "27:       54.401       75.613      105.584               16.629\n",
      "28:       37.656       59.907      144.549                0.000\n",
      "29:       57.810      236.248      196.732               57.645\n",
      "30:       43.359       89.382      156.916                6.528\n",
      "31:       45.555      148.718      104.186               93.000\n",
      "32:       45.550      120.548      157.505               21.272\n",
      "33:       67.884      267.342      281.227                0.000\n",
      "34:       70.376      154.242      121.417               55.000\n",
      "35:       71.068      100.544      136.033               14.347\n",
      "36:       64.137      109.062       80.648                3.693\n",
      "37:      118.178      260.632      152.134                9.135\n",
      "38:       51.199      124.660      157.500              529.000\n",
      "39:       47.002       99.892      159.462              540.000\n",
      "40:      109.888      131.165      175.777               20.057\n",
      "41:       77.388      154.863      182.936               12.181\n",
      "42:       46.295       96.870      124.837                0.000\n",
      "43:       53.366       69.150      111.987              418.000\n",
      "44:       47.399       77.610      109.715               15.837\n",
      "45:       48.081       72.826      109.157               12.447\n",
      "46:       59.042      130.098      168.254                2.129\n",
      "47:       44.809       99.072      115.365                0.000\n",
      "48:       39.025      110.740       94.470                1.617\n",
      "49:       39.600      240.922      122.085              169.275\n",
      "50:       57.467       88.462      109.132               19.323\n",
      "51:       41.418      135.189      165.999                0.000\n",
      "52:       34.193      115.536      118.911                1.424\n",
      "53:       32.653       81.576       74.372                4.813\n",
      "54:       51.985       51.930       98.107               12.740\n",
      "55:       36.748       71.353      105.408                0.000\n",
      "56:       59.131       92.639      165.079                0.000\n",
      "57:       54.224      115.746      116.442                2.559\n",
      "58:       58.378      142.382      102.687              274.000\n",
      "59:       76.763       96.478      131.709                0.000\n",
      "60:      107.568      121.152      103.180               18.678\n",
      "    Order type A Order type B Order type C Fiscal sector orders\n",
      "    Orders from the traffic controller sector Banking orders (1)\n",
      "                                        <int>              <int>\n",
      " 1:                                     65556              44914\n",
      " 2:                                     40419              21399\n",
      " 3:                                     11992               3452\n",
      " 4:                                     49971              33703\n",
      " 5:                                     48534              19646\n",
      " 6:                                     52042               8773\n",
      " 7:                                     46573              33597\n",
      " 8:                                     35033              26278\n",
      " 9:                                     66612              19461\n",
      "10:                                     58224               7742\n",
      "11:                                     47046              17299\n",
      "12:                                     66910              17768\n",
      "13:                                     32529              34002\n",
      "14:                                     34878              32905\n",
      "15:                                     57858              23956\n",
      "16:                                     52321              10046\n",
      "17:                                     47167               6440\n",
      "18:                                     42737              26020\n",
      "19:                                     39273              32917\n",
      "20:                                     60543              19141\n",
      "21:                                     54760               9163\n",
      "22:                                     48732              21196\n",
      "23:                                     46368              36798\n",
      "24:                                     58081              43333\n",
      "25:                                     45340              22109\n",
      "26:                                     59686              14188\n",
      "27:                                     40423              24682\n",
      "28:                                     50908              45733\n",
      "29:                                     71772              57756\n",
      "30:                                     53573              42638\n",
      "31:                                     49110              36904\n",
      "32:                                     42534              79556\n",
      "33:                                     64867             210508\n",
      "34:                                     23257             163452\n",
      "35:                                     28072              95989\n",
      "36:                                     46321              66498\n",
      "37:                                     34236             194216\n",
      "38:                                     39964             136119\n",
      "39:                                     59179              94460\n",
      "40:                                     37906             138536\n",
      "41:                                     32133              69093\n",
      "42:                                     48458              43112\n",
      "43:                                     42201              13736\n",
      "44:                                     35316              25876\n",
      "45:                                     43284              30138\n",
      "46:                                     37817              36445\n",
      "47:                                     54584              17242\n",
      "48:                                     33366              21103\n",
      "49:                                     37387              20246\n",
      "50:                                     27200              41713\n",
      "51:                                     39446              29290\n",
      "52:                                     51346              19782\n",
      "53:                                     34631              22420\n",
      "54:                                     31850              32150\n",
      "55:                                     33970              28701\n",
      "56:                                     32027              33282\n",
      "57:                                     51235              34421\n",
      "58:                                     28364              88404\n",
      "59:                                     37011             109931\n",
      "60:                                     27328             108072\n",
      "    Orders from the traffic controller sector Banking orders (1)\n",
      "    Banking orders (2) Banking orders (3) Target (Total orders)\n",
      "                 <int>              <int>                 <num>\n",
      " 1:             188411              14793               539.577\n",
      " 2:              89461               7679               224.675\n",
      " 3:              21305              14947               129.412\n",
      " 4:              69054              18423               317.120\n",
      " 5:              16411              20257               210.517\n",
      " 6:              47522              24966               207.364\n",
      " 7:              48269              20973               263.043\n",
      " 8:              56665              18502               248.958\n",
      " 9:             103376              10458               344.291\n",
      "10:              82395              11948               248.428\n",
      "11:             108719              15560               281.420\n",
      "12:              36693              29046               243.568\n",
      "13:              78153              31949               308.178\n",
      "14:             117137              29188               363.402\n",
      "15:             101048              30134               336.872\n",
      "16:              62799              24233               246.992\n",
      "17:              91784              15973               308.880\n",
      "18:              27873              17600               233.126\n",
      "19:             155617               9203               404.380\n",
      "20:              78378              73839               298.560\n",
      "21:              29874              46992               229.249\n",
      "22:              47793              47574               236.304\n",
      "23:              92701              31098               297.174\n",
      "24:             135314              29716               409.401\n",
      "25:              55584              29803               231.035\n",
      "26:              67617              32319               238.826\n",
      "27:              47563              35314               235.598\n",
      "28:              43930              28998               242.112\n",
      "29:             159373              29160               490.790\n",
      "30:              62732              32386               289.657\n",
      "31:             126632              33237               298.459\n",
      "32:              50433              36483               323.603\n",
      "33:             177229              30514               616.453\n",
      "34:              63699              33805               346.035\n",
      "35:              50763              55445               307.645\n",
      "36:              61593              31625               253.847\n",
      "37:             136035              47601               530.944\n",
      "38:              66745              31031               333.359\n",
      "39:              54772              34616               306.356\n",
      "40:              85378              14020               416.830\n",
      "41:             169088              12516               415.187\n",
      "42:              72840              11304               268.002\n",
      "43:              70191              16710               234.503\n",
      "44:              38646              13989               234.724\n",
      "45:              52112              12632               230.064\n",
      "46:             103567              10443               357.394\n",
      "47:              59231              12543               259.246\n",
      "48:              84558              16683               244.235\n",
      "49:              63778              13886               402.607\n",
      "50:              59513              12260               255.061\n",
      "51:             154144              10811               342.606\n",
      "52:              89704              12182               268.640\n",
      "53:              49644              15390               188.601\n",
      "54:              21573              13807               202.022\n",
      "55:              65199              11023               213.509\n",
      "56:             128269               9287               316.849\n",
      "57:              87708              11354               286.412\n",
      "58:              91367              15003               303.447\n",
      "59:              50112              12957               304.950\n",
      "60:              56015              10690               331.900\n",
      "    Banking orders (2) Banking orders (3) Target (Total orders)\n"
     ]
    }
   ],
   "source": [
    "codigo = \"\"\" \n",
    "\n",
    "library(data.table)\n",
    "#zoo::yearmon(data)\n",
    "#zoo::yearqtr(data)\n",
    "demand <- fread(\"daily+demand+forecasting+orders/Daily_Demand_Forecasting_Orders.csv\")\n",
    "print(demand)\n",
    "\"\"\"\n",
    "robjects.r(codigo)\n",
    "\n",
    "\n"
   ]
  },
  {
   "cell_type": "code",
   "execution_count": 171,
   "id": "ff8087d7-fddf-40b9-ab36-8644166cb656",
   "metadata": {},
   "outputs": [
    {
     "name": "stdout",
     "output_type": "stream",
     "text": [
      " [1] \"Week of the month (first week, second, third, fourth or fifth week\"\n",
      " [2] \"Day of the week (Monday to Friday)\"                                \n",
      " [3] \"Non-urgent order\"                                                  \n",
      " [4] \"Urgent order\"                                                      \n",
      " [5] \"Order type A\"                                                      \n",
      " [6] \"Order type B\"                                                      \n",
      " [7] \"Order type C\"                                                      \n",
      " [8] \"Fiscal sector orders\"                                              \n",
      " [9] \"Orders from the traffic controller sector\"                         \n",
      "[10] \"Banking orders (1)\"                                                \n",
      "[11] \"Banking orders (2)\"                                                \n",
      "[12] \"Banking orders (3)\"                                                \n",
      "[13] \"Target (Total orders)\"                                             \n"
     ]
    },
    {
     "data": {
      "text/html": [
       "\n",
       "        <span>StrVector with 13 elements.</span>\n",
       "        <table>\n",
       "        <tbody>\n",
       "          <tr>\n",
       "          \n",
       "            <td>\n",
       "            'Week of ...\n",
       "            </td>\n",
       "          \n",
       "            <td>\n",
       "            'Day of t...\n",
       "            </td>\n",
       "          \n",
       "            <td>\n",
       "            'Non-urge...\n",
       "            </td>\n",
       "          \n",
       "            <td>\n",
       "            ...\n",
       "            </td>\n",
       "          \n",
       "            <td>\n",
       "            'Banking ...\n",
       "            </td>\n",
       "          \n",
       "            <td>\n",
       "            'Banking ...\n",
       "            </td>\n",
       "          \n",
       "            <td>\n",
       "            'Target (...\n",
       "            </td>\n",
       "          \n",
       "          </tr>\n",
       "        </tbody>\n",
       "        </table>\n",
       "        "
      ],
      "text/plain": [
       "<rpy2.robjects.vectors.StrVector object at 0x700d47a0c490> [16]\n",
       "R classes: ('character',)\n",
       "['Week of ..., 'Day of t..., 'Non-urge..., 'Urgent o..., ..., 'Banking ..., 'Banking ..., 'Banking ..., 'Target (...]"
      ]
     },
     "execution_count": 171,
     "metadata": {},
     "output_type": "execute_result"
    }
   ],
   "source": [
    "codigo = \"\"\" \n",
    "colnames(demand)\n",
    "\n",
    "print(colnames(demand))\n",
    "\n",
    "names(demand)\n",
    "\n",
    "\n",
    "\"\"\"\n",
    "robjects.r(codigo)"
   ]
  },
  {
   "cell_type": "code",
   "execution_count": 172,
   "id": "6f06410e-851f-489a-977e-2eba1367c255",
   "metadata": {},
   "outputs": [
    {
     "name": "stdout",
     "output_type": "stream",
     "text": [
      "\n",
      "Call:\n",
      "ar(x = coluna[[1]], method = \"mle\")\n",
      "\n",
      "Coefficients:\n",
      "      1        2        3  \n",
      " 0.7730  -0.2729   0.2887  \n",
      "\n",
      "Order selected 3  sigma^2 estimated as  890152987\n"
     ]
    }
   ],
   "source": [
    "codigo = \"\"\" \n",
    "#fit <- ar(demand['Banking orders (1)'], method ='mle')\n",
    "#print(fit)\n",
    "\n",
    "\n",
    "# Acessando uma coluna específica\n",
    "coluna <- demand[, 'Banking orders (1)', with = FALSE]\n",
    "\n",
    "# Ajustando o modelo AR na coluna específica\n",
    "fit <- ar(coluna[[1]], method ='mle')\n",
    "print(fit)\n",
    "\n",
    "\"\"\"\n",
    "robjects.r(codigo)\n",
    "\n"
   ]
  },
  {
   "cell_type": "markdown",
   "id": "0ef62482-17d0-4444-8f63-065458c9e7e5",
   "metadata": {},
   "source": [
    "Critério de informação de Akaime - AIC"
   ]
  },
  {
   "cell_type": "raw",
   "id": "27f60067-acf7-4527-be25-29986db60a50",
   "metadata": {},
   "source": [
    "ar(x, aic = TRUE, order.max = NULL,\n",
    "   method = c(\"yule-walker\", \"burg\", \"ols\", \"mle\", \"yw\"),\n",
    "   na.action, series, …)\n",
    "ar.burg(x, …)\n",
    "# S3 method for default\n",
    "ar.burg(x, aic = TRUE, order.max = NULL,\n",
    "        na.action = na.fail, demean = TRUE, series,\n",
    "        var.method = 1, …)\n",
    "# S3 method for mts\n",
    "ar.burg(x, aic = TRUE, order.max = NULL,\n",
    "        na.action = na.fail, demean = TRUE, series,\n",
    "        var.method = 1, …)\n",
    "\n",
    "ar.yw(x, …)\n",
    "# S3 method for default\n",
    "ar.yw(x, aic = TRUE, order.max = NULL,\n",
    "      na.action = na.fail, demean = TRUE, series, …)\n",
    "# S3 method for mts\n",
    "ar.yw(x, aic = TRUE, order.max = NULL,\n",
    "      na.action = na.fail, demean = TRUE, series,\n",
    "      var.method = 1, …)\n",
    "\n",
    "ar.mle(x, aic = TRUE, order.max = NULL, na.action = na.fail,\n",
    "       demean = TRUE, series, …)\n",
    "\n",
    "# S3 method for ar\n",
    "predict(object, newdata, n.ahead = 1, se.fit = TRUE, …)"
   ]
  },
  {
   "cell_type": "code",
   "execution_count": 173,
   "id": "00459721-8475-4a18-8b0a-a285d25f0912",
   "metadata": {},
   "outputs": [
    {
     "data": {
      "text/html": [
       "\n",
       "        <span>IntVector with 1 elements.</span>\n",
       "        <table>\n",
       "        <tbody>\n",
       "          <tr>\n",
       "          \n",
       "            <td>\n",
       "            3\n",
       "            </td>\n",
       "          \n",
       "          </tr>\n",
       "        </tbody>\n",
       "        </table>\n",
       "        "
      ],
      "text/plain": [
       "<rpy2.robjects.vectors.IntVector object at 0x700d487447d0> [13]\n",
       "R classes: ('integer',)\n",
       "[3]"
      ]
     },
     "execution_count": 173,
     "metadata": {},
     "output_type": "execute_result"
    }
   ],
   "source": [
    "codigo = \"\"\"\n",
    "\n",
    "\n",
    "png(filename = \"Figura4.png\")\n",
    "     \n",
    "\n",
    "y <- demand[, 'Fiscal sector orders', with = FALSE]\n",
    "\n",
    "\n",
    "#plot(y[1:30],type='b')\n",
    "\n",
    "pacf(y)\n",
    "\n",
    "dev.off()\n",
    "\"\"\"\n",
    "robjects.r(codigo)\n"
   ]
  },
  {
   "cell_type": "markdown",
   "id": "11f1eabd-08d2-4f16-9b2c-c1b4e4647e85",
   "metadata": {},
   "source": [
    "<img src=\"Figura4.png\" />"
   ]
  },
  {
   "cell_type": "markdown",
   "id": "84ce14f4-6b58-4b11-b266-5042965b3d45",
   "metadata": {},
   "source": [
    "no lat 10 o PACF ultrapassa os 5%, é compatível. A função ar() escolhe automaticamente a ordem de um modelo autorregressivo se nenhum for específicado. "
   ]
  },
  {
   "cell_type": "code",
   "execution_count": 174,
   "id": "22f1e5ef-d04d-4440-8627-24f0048a725c",
   "metadata": {},
   "outputs": [
    {
     "data": {
      "text/html": [
       "\n",
       "        <span>IntVector with 1 elements.</span>\n",
       "        <table>\n",
       "        <tbody>\n",
       "          <tr>\n",
       "          \n",
       "            <td>\n",
       "            3\n",
       "            </td>\n",
       "          \n",
       "          </tr>\n",
       "        </tbody>\n",
       "        </table>\n",
       "        "
      ],
      "text/plain": [
       "<rpy2.robjects.vectors.IntVector object at 0x700d47a0d090> [13]\n",
       "R classes: ('integer',)\n",
       "[3]"
      ]
     },
     "execution_count": 174,
     "metadata": {},
     "output_type": "execute_result"
    }
   ],
   "source": [
    "codigo = \"\"\"\n",
    "\n",
    "\n",
    "png(filename = \"Figura4.png\")\n",
    "     \n",
    "\n",
    "y <- demand[, 'Fiscal sector orders', with = FALSE]\n",
    "\n",
    "\n",
    "#plot(y[1:30],type='b')\n",
    "\n",
    "pacf(y, main = \"Função de Autocorrelação Parcial- Fiscal sector orders\")\n",
    "\n",
    "dev.off()\n",
    "\"\"\"\n",
    "robjects.r(codigo)\n",
    "\n",
    "\n"
   ]
  },
  {
   "cell_type": "markdown",
   "id": "739452ee-ca8d-4e95-9819-44e628eb0837",
   "metadata": {},
   "source": [
    "<img src=\"Figura4.png\" />"
   ]
  },
  {
   "cell_type": "code",
   "execution_count": 175,
   "id": "ea9da25d-9b86-4019-8584-239331fd0563",
   "metadata": {},
   "outputs": [
    {
     "name": "stderr",
     "output_type": "stream",
     "text": [
      "R[write to console]: Além disso: \n",
      "R[write to console]: Warning messages:\n",
      "\n",
      "R[write to console]: 1: \n",
      "R[write to console]: In plot.window(xlim, ylim, log, ...) :\n",
      "R[write to console]: \n",
      " \n",
      "R[write to console]:  parâmetro gráfico \"type\" é obsoleto\n",
      "\n",
      "R[write to console]: 2: \n",
      "R[write to console]: In axis(side = side, at = at, labels = labels, ...) :\n",
      "R[write to console]: \n",
      " \n",
      "R[write to console]:  parâmetro gráfico \"type\" é obsoleto\n",
      "\n",
      "R[write to console]: 3: \n",
      "R[write to console]: In title(xlab = xlab, ylab = ylab, ...) :\n",
      "R[write to console]: \n",
      " \n",
      "R[write to console]:  parâmetro gráfico \"type\" é obsoleto\n",
      "\n"
     ]
    },
    {
     "data": {
      "text/html": [
       "\n",
       "        <span>IntVector with 1 elements.</span>\n",
       "        <table>\n",
       "        <tbody>\n",
       "          <tr>\n",
       "          \n",
       "            <td>\n",
       "            3\n",
       "            </td>\n",
       "          \n",
       "          </tr>\n",
       "        </tbody>\n",
       "        </table>\n",
       "        "
      ],
      "text/plain": [
       "<rpy2.robjects.vectors.IntVector object at 0x700d47c2f790> [13]\n",
       "R classes: ('integer',)\n",
       "[3]"
      ]
     },
     "execution_count": 175,
     "metadata": {},
     "output_type": "execute_result"
    }
   ],
   "source": [
    "codigo = \"\"\"\n",
    "\n",
    "\n",
    "png(filename = \"Figura5.png\")\n",
    "     \n",
    "\n",
    "y <- demand[, 'Fiscal sector orders', with = FALSE]\n",
    "\n",
    "\n",
    "plot(y,type='b')\n",
    "\n",
    "#pacf(y, main = \"Função de Autocorrelação Parcial- Fiscal sector orders\")\n",
    "\n",
    "dev.off()\n",
    "\"\"\"\n",
    "robjects.r(codigo)\n"
   ]
  },
  {
   "cell_type": "markdown",
   "id": "57aa73c9-7d2a-45fa-8689-f2e3d7b67adb",
   "metadata": {},
   "source": [
    "<img src=\"Figura5.png\" />"
   ]
  },
  {
   "cell_type": "code",
   "execution_count": 176,
   "id": "43fa5fc3-7299-47c3-a620-8546c05ed6a7",
   "metadata": {},
   "outputs": [
    {
     "data": {
      "text/html": [
       "\n",
       "        <span>IntVector with 1 elements.</span>\n",
       "        <table>\n",
       "        <tbody>\n",
       "          <tr>\n",
       "          \n",
       "            <td>\n",
       "            3\n",
       "            </td>\n",
       "          \n",
       "          </tr>\n",
       "        </tbody>\n",
       "        </table>\n",
       "        "
      ],
      "text/plain": [
       "<rpy2.robjects.vectors.IntVector object at 0x700d47a0d810> [13]\n",
       "R classes: ('integer',)\n",
       "[3]"
      ]
     },
     "execution_count": 176,
     "metadata": {},
     "output_type": "execute_result"
    }
   ],
   "source": [
    "codigo = \"\"\"\n",
    "\n",
    "\n",
    "png(filename = \"Figura5.png\")\n",
    "     \n",
    "\n",
    "y <- demand[, 'Fiscal sector orders', with = FALSE]\n",
    "\n",
    "\n",
    "plot(y)\n",
    "\n",
    "#pacf(y, main = \"Função de Autocorrelação Parcial- Fiscal sector orders\")\n",
    "\n",
    "dev.off()\n",
    "\"\"\"\n",
    "robjects.r(codigo)\n"
   ]
  },
  {
   "cell_type": "markdown",
   "id": "e8b0365b-d867-4800-ad0c-d5cfa34eb15b",
   "metadata": {},
   "source": [
    "<img src=\"Figura5.png\" />"
   ]
  },
  {
   "cell_type": "code",
   "execution_count": 177,
   "id": "b40cd589-4b74-4de5-8edb-742855745a0c",
   "metadata": {},
   "outputs": [
    {
     "data": {
      "text/html": [
       "\n",
       "        <span>IntVector with 1 elements.</span>\n",
       "        <table>\n",
       "        <tbody>\n",
       "          <tr>\n",
       "          \n",
       "            <td>\n",
       "            3\n",
       "            </td>\n",
       "          \n",
       "          </tr>\n",
       "        </tbody>\n",
       "        </table>\n",
       "        "
      ],
      "text/plain": [
       "<rpy2.robjects.vectors.IntVector object at 0x700d47a0c210> [13]\n",
       "R classes: ('integer',)\n",
       "[3]"
      ]
     },
     "execution_count": 177,
     "metadata": {},
     "output_type": "execute_result"
    }
   ],
   "source": [
    "codigo = \"\"\"\n",
    "png(filename = \"Figura5.png\")\n",
    "\n",
    "\n",
    "\n",
    "\n",
    "y <- demand[, 'Fiscal sector orders', with = FALSE][[1]]\n",
    "index <- 1:length(y)  # Criar um índice sequencial\n",
    "\n",
    "\n",
    "plot(index, y, type = 'l', xlab = 'Índice', ylab = 'Fiscal sector orders', main = 'Fiscal Sector Orders')\n",
    "\n",
    "dev.off()\n",
    "\"\"\"\n",
    "robjects.r(codigo)\n"
   ]
  },
  {
   "cell_type": "markdown",
   "id": "373e7d0a-f696-41c5-be20-4e5ca45e9d6c",
   "metadata": {},
   "source": [
    "<img src=\"Figura5.png\" />"
   ]
  },
  {
   "cell_type": "markdown",
   "id": "bec1db10-57be-4ebe-85ec-ab21f267dd1d",
   "metadata": {},
   "source": [
    "## Critério de informação de Akaike (AIC)."
   ]
  },
  {
   "cell_type": "markdown",
   "id": "5f593078-b08b-4f9e-bb88-a678ad5445f0",
   "metadata": {},
   "source": [
    "Critério de um modelo é igual a AIC = 2k - 2ln(L), em que k é o número de parâmetros do modelo e L é o valor de máxima verossimilhança para essa função. Em geral, queremos diminuir a complexidade do modelo (diminuir o k), enquanto aumentamos a probabilidade/ qualidade de ajuste do modelo (L). Assim, daremos preferência aos modelos com valores de AIC menores em relação àqueles com valores de AIC maiores.  \n",
    "\n",
    "\n",
    "A verossimilhança é uma medida de quão provável determinado conjunto de parâmetros para uma função é relativo a outros parâmetros para aquela função considerando os dados fornecidos. Ajustando uma regressão linear de x em y. Ajuste y=b*x, por exemplo. Identificar um parâmetro verdadeiro mais provável de um modelo em um conjunto de dados. \n"
   ]
  },
  {
   "cell_type": "markdown",
   "id": "8d2e8c2f-fb3d-4671-b3f4-9961f45db560",
   "metadata": {},
   "source": [
    "AR, ao analisar a PACF podemos nos perguntar se queremos incluir um coeficiente para o termo lag -1 ou devemos atribuir o termo de um coeficiente obrigatório de 0, dado que seu valor PACF está bem abaixo da linha de significância. Podemos assim utilizar a função arima() do pacote stats. Na função AR(3) podemos definir o parâmetro de ordenamento para c(3,0,0) em que à ordem do componente AR."
   ]
  },
  {
   "cell_type": "markdown",
   "id": "b19758a9-4890-4290-bdc7-a12214a007e2",
   "metadata": {},
   "source": [
    "codigo = \"\"\"\n",
    "\n",
    "# adaptado \n",
    "# Banking orders (1)    Banking orders (2) Banking orders (3) Target (Total orders)\n",
    "\n",
    "est <- arima(x= demand[['Banking orders (2)']], order=c(3,0,0))\n",
    "\n",
    "print(est)\n",
    "\"\"\"\n",
    "robjects.r(codigo)\n"
   ]
  },
  {
   "cell_type": "markdown",
   "id": "9b602082-c161-4fe9-bfba-cb3ef4efe0a0",
   "metadata": {},
   "source": [
    "Para introduzir conhecimento ou opinião anterior em nosso modelo, podemos restringir  um coeficiente a 0. Por exemplo, se quisermos restringir o termo lag -1 para 0 em nosso modelo, usamos a seguinte chamada:"
   ]
  },
  {
   "cell_type": "code",
   "execution_count": 178,
   "id": "a5bca382-4054-42c1-bf74-104cee6307cb",
   "metadata": {},
   "outputs": [
    {
     "name": "stdout",
     "output_type": "stream",
     "text": [
      "\n",
      "Call:\n",
      "arima(x = demand[[\"Banking orders (2)\"]], order = c(3, 0, 0), fixed = c(0, NA, \n",
      "    NA, NA))\n",
      "\n",
      "Coefficients:\n",
      "      ar1      ar2      ar3  intercept\n",
      "        0  -0.1831  -0.3031  79190.705\n",
      "s.e.    0   0.1289   0.1298   3345.253\n",
      "\n",
      "sigma^2 estimated as 1.44e+09:  log likelihood = -717.96,  aic = 1443.91\n"
     ]
    },
    {
     "name": "stderr",
     "output_type": "stream",
     "text": [
      "R[write to console]: Além disso: \n",
      "R[write to console]: Warning message:\n",
      "\n",
      "R[write to console]: In arima(x = demand[[\"Banking orders (2)\"]], order = c(3, 0, 0),  :\n",
      "R[write to console]: \n",
      " \n",
      "R[write to console]:  Alguns parâmetros AR foram fixados: definindo transform.pars = FALSE\n",
      "\n"
     ]
    }
   ],
   "source": [
    "codigo = \"\"\"\n",
    "\n",
    "\n",
    "est.1 <- arima(x= demand[['Banking orders (2)']], order=c(3,0,0), fixed = c(0,NA, NA, NA))\n",
    "\n",
    "print(est.1)\n",
    "\"\"\"\n",
    "robjects.r(codigo)"
   ]
  },
  {
   "cell_type": "markdown",
   "id": "b7555981-b0b5-4a77-89b9-88d11ead714d",
   "metadata": {},
   "source": [
    "## Definir um valor no vetor passado ao parâmetro fixo da função arima para 0 em vez de NA restringirá esse valor em 0 (fixed)\n"
   ]
  },
  {
   "cell_type": "code",
   "execution_count": 179,
   "id": "c9f65561-7256-44b9-a40c-ab1eea70e23c",
   "metadata": {},
   "outputs": [
    {
     "name": "stdout",
     "output_type": "stream",
     "text": [
      "[1]  0 NA NA NA\n"
     ]
    }
   ],
   "source": [
    "\n",
    "codigo = \"\"\"\n",
    "\n",
    "\n",
    "fixed <- c(0,NA, NA, NA)\n",
    "\n",
    "print(fixed)\n",
    "\n",
    "\n",
    "\n",
    "\"\"\"\n",
    "robjects.r(codigo)\n"
   ]
  },
  {
   "cell_type": "markdown",
   "id": "c58025ca-05a8-4483-8c39-d9680b18ca77",
   "metadata": {},
   "source": [
    "## definir um valor no vetor passado ao parâmetro fixo da função arima para 0 em vez de NA restringirá esse valor em 0 (fixed)\n"
   ]
  },
  {
   "cell_type": "code",
   "execution_count": 180,
   "id": "fd387b4e-193f-48d7-a42f-939fc30d79bb",
   "metadata": {},
   "outputs": [
    {
     "name": "stdout",
     "output_type": "stream",
     "text": [
      "[1]  0 NA NA NA\n"
     ]
    },
    {
     "data": {
      "text/html": [
       "\n",
       "        <span>IntVector with 1 elements.</span>\n",
       "        <table>\n",
       "        <tbody>\n",
       "          <tr>\n",
       "          \n",
       "            <td>\n",
       "            3\n",
       "            </td>\n",
       "          \n",
       "          </tr>\n",
       "        </tbody>\n",
       "        </table>\n",
       "        "
      ],
      "text/plain": [
       "<rpy2.robjects.vectors.IntVector object at 0x700d47c2f010> [13]\n",
       "R classes: ('integer',)\n",
       "[3]"
      ]
     },
     "execution_count": 180,
     "metadata": {},
     "output_type": "execute_result"
    }
   ],
   "source": [
    "codigo = \"\"\"\n",
    "png(filename = \"Figura6.png\")\n",
    "\n",
    "\n",
    "fixed <- c(0,NA, NA, NA)\n",
    "\n",
    "print(fixed)\n",
    "\n",
    "# avaliar o ajuste do nosso modelo neste conjunto de dados. Há duas formas 1) plot ACF dos resíduos (ou seja, os erros) para ver se há um padrão de autocorrelação que nosso modelo não aborda. e 2) plotar os resíduos bastante simples graças à saída da função arima(). \n",
    "\n",
    "acf(est.1$residuals) \n",
    "\n",
    "\n",
    "dev.off()\n",
    "\n",
    "\"\"\"\n",
    "robjects.r(codigo)"
   ]
  },
  {
   "cell_type": "markdown",
   "id": "f5cf66c6-cf1a-4e5a-a01e-f1387cb3b90d",
   "metadata": {},
   "source": [
    "<img src=\"Figura6.png\" />"
   ]
  },
  {
   "cell_type": "markdown",
   "id": "1feb01bb-2b4f-42bf-8ca9-a533718e0f11",
   "metadata": {},
   "source": [
    "## Teste de Ljung-Box\n",
    "\n",
    "\n",
    "hipóteses nulas e alternativas:\n",
    "\n",
    "H0: os dados não apresentam correlação serial.\n",
    "\n",
    "H1: Os dados apresentam correlação serial.\n",
    "\n",
    "teste aplicado com frequência ao modelo AR / Arima, em especial aos resíduos do ajuste do modelo. "
   ]
  },
  {
   "cell_type": "code",
   "execution_count": 181,
   "id": "23541d9b-caa6-4827-94dc-81b0893b0a97",
   "metadata": {},
   "outputs": [
    {
     "data": {
      "text/html": [
       "\n",
       "        <span>ListVector with 5 elements.</span>\n",
       "        <table>\n",
       "        <tbody>\n",
       "        \n",
       "          <tr>\n",
       "            <th>\n",
       "            statistic\n",
       "            </th>\n",
       "            <td>\n",
       "            <rpy2.rinterface.FloatSexpVector object at 0x700d47a53d50> [14]\n",
       "            </td>\n",
       "          </tr>\n",
       "        \n",
       "          <tr>\n",
       "            <th>\n",
       "            parameter\n",
       "            </th>\n",
       "            <td>\n",
       "            <rpy2.rinterface.FloatSexpVector object at 0x700d47a500d0> [14]\n",
       "            </td>\n",
       "          </tr>\n",
       "        \n",
       "          <tr>\n",
       "            <th>\n",
       "            p.value\n",
       "            </th>\n",
       "            <td>\n",
       "            <rpy2.rinterface.FloatSexpVector object at 0x700d47a503d0> [14]\n",
       "            </td>\n",
       "          </tr>\n",
       "        \n",
       "          <tr>\n",
       "            <th>\n",
       "            method\n",
       "            </th>\n",
       "            <td>\n",
       "            <rpy2.rinterface_lib.sexp.StrSexpVector object at 0x700d47a519d0> [16]\n",
       "            </td>\n",
       "          </tr>\n",
       "        \n",
       "          <tr>\n",
       "            <th>\n",
       "            data.name\n",
       "            </th>\n",
       "            <td>\n",
       "            <rpy2.rinterface_lib.sexp.StrSexpVector object at 0x700d47a53c90> [16]\n",
       "            </td>\n",
       "          </tr>\n",
       "        \n",
       "        </tbody>\n",
       "        </table>\n",
       "        "
      ],
      "text/plain": [
       "<rpy2.robjects.vectors.ListVector object at 0x700dac1f2d10> [19]\n",
       "R classes: ('htest',)\n",
       "[FloatSe..., FloatSe..., FloatSe..., StrSexp..., StrSexp...]\n",
       "  statistic: <class 'rpy2.rinterface.FloatSexpVector'>\n",
       "  <rpy2.rinterface.FloatSexpVector object at 0x700d47a51690> [14]\n",
       "  parameter: <class 'rpy2.rinterface.FloatSexpVector'>\n",
       "  <rpy2.rinterface.FloatSexpVector object at 0x700d47a52690> [14]\n",
       "  p.value: <class 'rpy2.rinterface.FloatSexpVector'>\n",
       "  <rpy2.rinterface.FloatSexpVector object at 0x700d47a53d50> [14]\n",
       "  method: <class 'rpy2.rinterface_lib.sexp.StrSexpVector'>\n",
       "  <rpy2.rinterface_lib.sexp.StrSexpVector object at 0x700d47a51050> [16]\n",
       "  data.name: <class 'rpy2.rinterface_lib.sexp.StrSexpVector'>\n",
       "  <rpy2.rinterface_lib.sexp.StrSexpVector object at 0x700d47a51dd0> [16]"
      ]
     },
     "execution_count": 181,
     "metadata": {},
     "output_type": "execute_result"
    }
   ],
   "source": [
    "codigo = \"\"\"\n",
    "\n",
    "\n",
    "Box.test(est.1$residuals, lag=10, type=\"Ljung\", fitdf = 3)\n",
    "\n",
    "\n",
    "\n",
    "\"\"\"\n",
    "robjects.r(codigo)\n"
   ]
  },
  {
   "cell_type": "code",
   "execution_count": 182,
   "id": "214a342f-6c18-4351-9292-9f38ce3174ba",
   "metadata": {},
   "outputs": [
    {
     "name": "stdout",
     "output_type": "stream",
     "text": [
      "\n",
      "\tBox-Ljung test\n",
      "\n",
      "data:  est.1$residuals\n",
      "X-squared = 9.3261, df = 7, p-value = 0.2301\n",
      "\n"
     ]
    }
   ],
   "source": [
    "codigo = \"\"\"\n",
    "print(Box.test(est.1$residuals, lag=10, type=\"Ljung\", fitdf = 3))\n",
    "\"\"\"\n",
    "robjects.r(codigo)"
   ]
  },
  {
   "cell_type": "markdown",
   "id": "0825e48e-0b4b-44ee-b8e3-4b2f7285a807",
   "metadata": {},
   "source": [
    "O teste Ljung-Box ao nosso modelo est. para avaliar a qualidade do ajuste. Não podemos rejeitar a hipótese nula e que os dados não apresentam correlação serial. Essa confirmação descobrimos plotando o ACF dos resíduos. "
   ]
  },
  {
   "cell_type": "code",
   "execution_count": 183,
   "id": "aa40204d-ec0c-4fdc-8bda-9684611b6cef",
   "metadata": {},
   "outputs": [],
   "source": [
    "robjects.r('library(data.table)')\n"
   ]
  },
  {
   "cell_type": "code",
   "execution_count": 184,
   "id": "6d3fe69e-6141-4ad0-b8e6-cc450f9d8ffb",
   "metadata": {},
   "outputs": [
    {
     "data": {
      "text/html": [
       "\n",
       "        <span>IntVector with 1 elements.</span>\n",
       "        <table>\n",
       "        <tbody>\n",
       "          <tr>\n",
       "          \n",
       "            <td>\n",
       "            3\n",
       "            </td>\n",
       "          \n",
       "          </tr>\n",
       "        </tbody>\n",
       "        </table>\n",
       "        "
      ],
      "text/plain": [
       "<rpy2.robjects.vectors.IntVector object at 0x700d47ab8290> [13]\n",
       "R classes: ('integer',)\n",
       "[3]"
      ]
     },
     "execution_count": 184,
     "metadata": {},
     "output_type": "execute_result"
    }
   ],
   "source": [
    "codigo = \"\"\"\n",
    "png(filename = \"Figura7.png\")\n",
    "plot(demand[['Banking orders (2)']], type ='l')\n",
    "lines(fitted(est.1), col=3, lwd=2)\n",
    "dev.off()\n",
    "\"\"\"\n",
    "robjects.r(codigo)\n"
   ]
  },
  {
   "cell_type": "markdown",
   "id": "63c408cd-3276-4d71-b80f-c8c42e7f4f3d",
   "metadata": {},
   "source": [
    "<img src=\"Figura7.png\" />"
   ]
  },
  {
   "cell_type": "code",
   "execution_count": 185,
   "id": "cb3bdd6a-5a35-4f95-9f24-58cdcd4622da",
   "metadata": {},
   "outputs": [
    {
     "data": {
      "text/html": [
       "\n",
       "        <span>IntVector with 1 elements.</span>\n",
       "        <table>\n",
       "        <tbody>\n",
       "          <tr>\n",
       "          \n",
       "            <td>\n",
       "            3\n",
       "            </td>\n",
       "          \n",
       "          </tr>\n",
       "        </tbody>\n",
       "        </table>\n",
       "        "
      ],
      "text/plain": [
       "<rpy2.robjects.vectors.IntVector object at 0x700d47c2e910> [13]\n",
       "R classes: ('integer',)\n",
       "[3]"
      ]
     },
     "execution_count": 185,
     "metadata": {},
     "output_type": "execute_result"
    }
   ],
   "source": [
    "\n",
    "codigo = \"\"\"\n",
    "\n",
    "png(filename = \"Figura7-1.png\")\n",
    "require(forecast)\n",
    "plot(demand[['Banking orders (2)']], type ='l')\n",
    "lines(fitted(est.1),col=3, lwd=2)\n",
    " #usando o pacote forecast\n",
    "\n",
    "\n",
    "dev.off()\n",
    "\"\"\"\n",
    "robjects.r(codigo)"
   ]
  },
  {
   "cell_type": "markdown",
   "id": "d777c720-27d0-4b6c-a89f-060ee57790e2",
   "metadata": {},
   "source": [
    "<img src=\"Figura7-1.png\" />"
   ]
  },
  {
   "cell_type": "markdown",
   "id": "ea621f69-8d8f-43c2-b837-aab405be24f6",
   "metadata": {},
   "source": [
    " Trabalhando com o modelo a partir dos dados de demanda, com o coeficiente lag -1 restrito em 0 (ajustado como est.1 antes). \n",
    " Plotando a previsão como fitted. \n",
    "\n",
    " Linha sólida é a série original e a linha tracejada ou verde é a série temporal ajustada."
   ]
  },
  {
   "cell_type": "markdown",
   "id": "2826f698-98f3-425b-8bd8-d243b524ac58",
   "metadata": {},
   "source": [
    "Previsão de forma mais explícita com a função rollappy() do pacote zoo. Calcular um processo AR e funções janela. Pegaríamos os coeficientes do ajuste ar() e aplicaríamos esses pesos a um vetor de entrada que representa os valores dos diferentes lags par gerar uma previsão em cada ponto. "
   ]
  },
  {
   "cell_type": "markdown",
   "id": "7d21e659-4a9d-42eb-bf93-ab70f9e40914",
   "metadata": {},
   "source": [
    "Antes da modelagem, verificar para que os dados sejam estacionários quando ajustadas, caso não pode dar problemas ou  não ser de fato estacionários quando ajustados, de modo que uma tendência não identificada possa ser mascarada como um bom desempenho do modelo, quando na verdade não passa de uma peculiaridade dos dados que deveria ser abordada antes da modelagem."
   ]
  },
  {
   "cell_type": "code",
   "execution_count": 186,
   "id": "3431e11e-054d-43a4-88e0-9c167a487064",
   "metadata": {},
   "outputs": [
    {
     "name": "stdout",
     "output_type": "stream",
     "text": [
      "    Week of the month (first week, second, third, fourth or fifth week\n",
      "                                                                 <int>\n",
      " 1:                                                                  1\n",
      " 2:                                                                  1\n",
      " 3:                                                                  1\n",
      " 4:                                                                  2\n",
      " 5:                                                                  2\n",
      " 6:                                                                  2\n",
      " 7:                                                                  2\n",
      " 8:                                                                  2\n",
      " 9:                                                                  3\n",
      "10:                                                                  3\n",
      "11:                                                                  3\n",
      "12:                                                                  3\n",
      "13:                                                                  3\n",
      "14:                                                                  4\n",
      "15:                                                                  4\n",
      "16:                                                                  4\n",
      "17:                                                                  4\n",
      "18:                                                                  4\n",
      "19:                                                                  5\n",
      "20:                                                                  1\n",
      "21:                                                                  1\n",
      "22:                                                                  1\n",
      "23:                                                                  1\n",
      "24:                                                                  2\n",
      "25:                                                                  2\n",
      "26:                                                                  2\n",
      "27:                                                                  2\n",
      "28:                                                                  2\n",
      "29:                                                                  3\n",
      "30:                                                                  3\n",
      "31:                                                                  3\n",
      "32:                                                                  3\n",
      "33:                                                                  4\n",
      "34:                                                                  4\n",
      "35:                                                                  4\n",
      "36:                                                                  4\n",
      "37:                                                                  5\n",
      "38:                                                                  5\n",
      "39:                                                                  5\n",
      "40:                                                                  1\n",
      "41:                                                                  2\n",
      "42:                                                                  2\n",
      "43:                                                                  2\n",
      "44:                                                                  2\n",
      "45:                                                                  2\n",
      "46:                                                                  3\n",
      "47:                                                                  3\n",
      "48:                                                                  3\n",
      "49:                                                                  3\n",
      "50:                                                                  3\n",
      "51:                                                                  4\n",
      "52:                                                                  4\n",
      "53:                                                                  4\n",
      "54:                                                                  4\n",
      "55:                                                                  4\n",
      "56:                                                                  5\n",
      "57:                                                                  5\n",
      "58:                                                                  5\n",
      "59:                                                                  5\n",
      "60:                                                                  5\n",
      "    Week of the month (first week, second, third, fourth or fifth week\n",
      "    Day of the week (Monday to Friday) Non-urgent order Urgent order\n",
      "                                 <int>            <num>        <num>\n",
      " 1:                                  4          316.307      223.270\n",
      " 2:                                  5          128.633       96.042\n",
      " 3:                                  6           43.651       84.375\n",
      " 4:                                  2          171.297      127.667\n",
      " 5:                                  3           90.532      113.526\n",
      " 6:                                  4          110.925       96.360\n",
      " 7:                                  5          144.124      118.919\n",
      " 8:                                  6          119.379      113.870\n",
      " 9:                                  2          218.856      124.381\n",
      "10:                                  3          146.518      101.045\n",
      "11:                                  4          178.433      102.793\n",
      "12:                                  5          145.865       91.180\n",
      "13:                                  6          170.566      114.412\n",
      "14:                                  2          220.343      141.406\n",
      "15:                                  3          193.768      141.854\n",
      "16:                                  4          122.736      124.256\n",
      "17:                                  5          144.051      158.408\n",
      "18:                                  6          105.415      108.688\n",
      "19:                                  2          240.660      163.720\n",
      "20:                                  3          131.067      166.649\n",
      "21:                                  4          130.129       98.927\n",
      "22:                                  5          123.286      103.551\n",
      "23:                                  6          190.816       87.629\n",
      "24:                                  2          266.741      141.437\n",
      "25:                                  3          123.143      106.083\n",
      "26:                                  4          148.139       85.310\n",
      "27:                                  5          118.552      100.417\n",
      "28:                                  6          146.959       95.153\n",
      "29:                                  2          299.770      133.375\n",
      "30:                                  3          151.341      131.788\n",
      "31:                                  4          206.206       92.160\n",
      "32:                                  5          170.868      131.463\n",
      "33:                                  3          435.304      181.149\n",
      "34:                                  4          235.106      110.874\n",
      "35:                                  5          168.179      125.119\n",
      "36:                                  6          172.783       77.371\n",
      "37:                                  2          381.768      140.041\n",
      "38:                                  3          221.438      111.392\n",
      "39:                                  4          193.957      111.859\n",
      "40:                                  6          275.076      121.697\n",
      "41:                                  2          252.298      150.708\n",
      "42:                                  3          165.472      102.530\n",
      "43:                                  4          126.030      108.055\n",
      "44:                                  5          112.246      106.641\n",
      "45:                                  6          123.302       94.315\n",
      "46:                                  2          187.810      167.455\n",
      "47:                                  3          119.863      139.383\n",
      "48:                                  4          127.805      114.813\n",
      "49:                                  5          120.629      112.703\n",
      "50:                                  6          130.465      105.273\n",
      "51:                                  2          222.282      120.324\n",
      "52:                                  3          150.257      116.959\n",
      "53:                                  4           96.494       87.294\n",
      "54:                                  5           89.526       99.756\n",
      "55:                                  6          134.425       79.084\n",
      "56:                                  2          158.716      158.133\n",
      "57:                                  3          150.784      133.069\n",
      "58:                                  4          193.534      109.639\n",
      "59:                                  5          196.555      108.395\n",
      "60:                                  6          192.116      121.106\n",
      "    Day of the week (Monday to Friday) Non-urgent order Urgent order\n",
      "    Order type A Order type B Order type C Fiscal sector orders\n",
      "           <num>        <num>        <num>                <num>\n",
      " 1:       61.543      175.586      302.448                0.000\n",
      " 2:       38.058       56.037      130.580                0.000\n",
      " 3:       21.826       25.125       82.461                1.386\n",
      " 4:       41.542      113.294      162.284               18.156\n",
      " 5:       37.679       56.618      116.220                6.459\n",
      " 6:       30.792       50.704      125.868               79.000\n",
      " 7:       43.304       66.371      153.368                0.000\n",
      " 8:       38.584       85.961      124.413               15.709\n",
      " 9:       33.973      148.274      162.044                1.054\n",
      "10:       36.399       43.306      168.723              865.000\n",
      "11:       45.706      111.036      124.678              194.000\n",
      "12:       43.851       66.277      133.440                6.523\n",
      "13:       43.339      136.434      128.405               23.200\n",
      "14:       46.241      120.865      196.296                1.653\n",
      "15:       56.519      136.709      143.644                1.250\n",
      "16:       56.167       78.101      112.724                0.000\n",
      "17:       51.660       92.272      164.948                6.421\n",
      "18:       47.717       71.474      113.935               19.023\n",
      "19:       59.135      157.681      187.564                0.000\n",
      "20:       90.476       80.509      127.575              844.000\n",
      "21:       42.904       43.962      142.383              193.000\n",
      "22:       47.331       72.444      116.529                9.467\n",
      "23:       32.077      127.358      137.739               18.729\n",
      "24:       58.721      139.034      211.646                1.223\n",
      "25:       36.017       75.813      119.205                1.809\n",
      "26:       35.576       79.997      123.253                5.377\n",
      "27:       54.401       75.613      105.584               16.629\n",
      "28:       37.656       59.907      144.549                0.000\n",
      "29:       57.810      236.248      196.732               57.645\n",
      "30:       43.359       89.382      156.916                6.528\n",
      "31:       45.555      148.718      104.186               93.000\n",
      "32:       45.550      120.548      157.505               21.272\n",
      "33:       67.884      267.342      281.227                0.000\n",
      "34:       70.376      154.242      121.417               55.000\n",
      "35:       71.068      100.544      136.033               14.347\n",
      "36:       64.137      109.062       80.648                3.693\n",
      "37:      118.178      260.632      152.134                9.135\n",
      "38:       51.199      124.660      157.500              529.000\n",
      "39:       47.002       99.892      159.462              540.000\n",
      "40:      109.888      131.165      175.777               20.057\n",
      "41:       77.388      154.863      182.936               12.181\n",
      "42:       46.295       96.870      124.837                0.000\n",
      "43:       53.366       69.150      111.987              418.000\n",
      "44:       47.399       77.610      109.715               15.837\n",
      "45:       48.081       72.826      109.157               12.447\n",
      "46:       59.042      130.098      168.254                2.129\n",
      "47:       44.809       99.072      115.365                0.000\n",
      "48:       39.025      110.740       94.470                1.617\n",
      "49:       39.600      240.922      122.085              169.275\n",
      "50:       57.467       88.462      109.132               19.323\n",
      "51:       41.418      135.189      165.999                0.000\n",
      "52:       34.193      115.536      118.911                1.424\n",
      "53:       32.653       81.576       74.372                4.813\n",
      "54:       51.985       51.930       98.107               12.740\n",
      "55:       36.748       71.353      105.408                0.000\n",
      "56:       59.131       92.639      165.079                0.000\n",
      "57:       54.224      115.746      116.442                2.559\n",
      "58:       58.378      142.382      102.687              274.000\n",
      "59:       76.763       96.478      131.709                0.000\n",
      "60:      107.568      121.152      103.180               18.678\n",
      "    Order type A Order type B Order type C Fiscal sector orders\n",
      "    Orders from the traffic controller sector Banking orders (1)\n",
      "                                        <int>              <int>\n",
      " 1:                                     65556              44914\n",
      " 2:                                     40419              21399\n",
      " 3:                                     11992               3452\n",
      " 4:                                     49971              33703\n",
      " 5:                                     48534              19646\n",
      " 6:                                     52042               8773\n",
      " 7:                                     46573              33597\n",
      " 8:                                     35033              26278\n",
      " 9:                                     66612              19461\n",
      "10:                                     58224               7742\n",
      "11:                                     47046              17299\n",
      "12:                                     66910              17768\n",
      "13:                                     32529              34002\n",
      "14:                                     34878              32905\n",
      "15:                                     57858              23956\n",
      "16:                                     52321              10046\n",
      "17:                                     47167               6440\n",
      "18:                                     42737              26020\n",
      "19:                                     39273              32917\n",
      "20:                                     60543              19141\n",
      "21:                                     54760               9163\n",
      "22:                                     48732              21196\n",
      "23:                                     46368              36798\n",
      "24:                                     58081              43333\n",
      "25:                                     45340              22109\n",
      "26:                                     59686              14188\n",
      "27:                                     40423              24682\n",
      "28:                                     50908              45733\n",
      "29:                                     71772              57756\n",
      "30:                                     53573              42638\n",
      "31:                                     49110              36904\n",
      "32:                                     42534              79556\n",
      "33:                                     64867             210508\n",
      "34:                                     23257             163452\n",
      "35:                                     28072              95989\n",
      "36:                                     46321              66498\n",
      "37:                                     34236             194216\n",
      "38:                                     39964             136119\n",
      "39:                                     59179              94460\n",
      "40:                                     37906             138536\n",
      "41:                                     32133              69093\n",
      "42:                                     48458              43112\n",
      "43:                                     42201              13736\n",
      "44:                                     35316              25876\n",
      "45:                                     43284              30138\n",
      "46:                                     37817              36445\n",
      "47:                                     54584              17242\n",
      "48:                                     33366              21103\n",
      "49:                                     37387              20246\n",
      "50:                                     27200              41713\n",
      "51:                                     39446              29290\n",
      "52:                                     51346              19782\n",
      "53:                                     34631              22420\n",
      "54:                                     31850              32150\n",
      "55:                                     33970              28701\n",
      "56:                                     32027              33282\n",
      "57:                                     51235              34421\n",
      "58:                                     28364              88404\n",
      "59:                                     37011             109931\n",
      "60:                                     27328             108072\n",
      "    Orders from the traffic controller sector Banking orders (1)\n",
      "    Banking orders (2) Banking orders (3) Target (Total orders)\n",
      "                 <int>              <int>                 <num>\n",
      " 1:             188411              14793               539.577\n",
      " 2:              89461               7679               224.675\n",
      " 3:              21305              14947               129.412\n",
      " 4:              69054              18423               317.120\n",
      " 5:              16411              20257               210.517\n",
      " 6:              47522              24966               207.364\n",
      " 7:              48269              20973               263.043\n",
      " 8:              56665              18502               248.958\n",
      " 9:             103376              10458               344.291\n",
      "10:              82395              11948               248.428\n",
      "11:             108719              15560               281.420\n",
      "12:              36693              29046               243.568\n",
      "13:              78153              31949               308.178\n",
      "14:             117137              29188               363.402\n",
      "15:             101048              30134               336.872\n",
      "16:              62799              24233               246.992\n",
      "17:              91784              15973               308.880\n",
      "18:              27873              17600               233.126\n",
      "19:             155617               9203               404.380\n",
      "20:              78378              73839               298.560\n",
      "21:              29874              46992               229.249\n",
      "22:              47793              47574               236.304\n",
      "23:              92701              31098               297.174\n",
      "24:             135314              29716               409.401\n",
      "25:              55584              29803               231.035\n",
      "26:              67617              32319               238.826\n",
      "27:              47563              35314               235.598\n",
      "28:              43930              28998               242.112\n",
      "29:             159373              29160               490.790\n",
      "30:              62732              32386               289.657\n",
      "31:             126632              33237               298.459\n",
      "32:              50433              36483               323.603\n",
      "33:             177229              30514               616.453\n",
      "34:              63699              33805               346.035\n",
      "35:              50763              55445               307.645\n",
      "36:              61593              31625               253.847\n",
      "37:             136035              47601               530.944\n",
      "38:              66745              31031               333.359\n",
      "39:              54772              34616               306.356\n",
      "40:              85378              14020               416.830\n",
      "41:             169088              12516               415.187\n",
      "42:              72840              11304               268.002\n",
      "43:              70191              16710               234.503\n",
      "44:              38646              13989               234.724\n",
      "45:              52112              12632               230.064\n",
      "46:             103567              10443               357.394\n",
      "47:              59231              12543               259.246\n",
      "48:              84558              16683               244.235\n",
      "49:              63778              13886               402.607\n",
      "50:              59513              12260               255.061\n",
      "51:             154144              10811               342.606\n",
      "52:              89704              12182               268.640\n",
      "53:              49644              15390               188.601\n",
      "54:              21573              13807               202.022\n",
      "55:              65199              11023               213.509\n",
      "56:             128269               9287               316.849\n",
      "57:              87708              11354               286.412\n",
      "58:              91367              15003               303.447\n",
      "59:              50112              12957               304.950\n",
      "60:              56015              10690               331.900\n",
      "    Banking orders (2) Banking orders (3) Target (Total orders)\n"
     ]
    }
   ],
   "source": [
    "\n",
    "codigo = \"\"\" \n",
    "\n",
    "#library(data.table)\n",
    "#zoo::yearmon(data)\n",
    "#zoo::yearqtr(data)\n",
    "#demand <- fread(\"Daily_Demand_Forecasting_Orders.csv\")\n",
    "print(demand)\n",
    "\"\"\"\n",
    "robjects.r(codigo)"
   ]
  },
  {
   "cell_type": "code",
   "execution_count": 187,
   "id": "8acf7019-f5d2-449d-b32b-99dc0fe068c9",
   "metadata": {},
   "outputs": [
    {
     "name": "stdout",
     "output_type": "stream",
     "text": [
      "[1] \"nomes das colunas\"\n",
      " [1] \"Week of the month (first week, second, third, fourth or fifth week\"\n",
      " [2] \"Day of the week (Monday to Friday)\"                                \n",
      " [3] \"Non-urgent order\"                                                  \n",
      " [4] \"Urgent order\"                                                      \n",
      " [5] \"Order type A\"                                                      \n",
      " [6] \"Order type B\"                                                      \n",
      " [7] \"Order type C\"                                                      \n",
      " [8] \"Fiscal sector orders\"                                              \n",
      " [9] \"Orders from the traffic controller sector\"                         \n",
      "[10] \"Banking orders (1)\"                                                \n",
      "[11] \"Banking orders (2)\"                                                \n",
      "[12] \"Banking orders (3)\"                                                \n",
      "[13] \"Target (Total orders)\"                                             \n"
     ]
    }
   ],
   "source": [
    "codigo = \"\"\" \n",
    "\n",
    "#library(data.table)\n",
    "#demand <- fread(\"Daily_Demand_Forecasting_Orders.csv\")\n",
    "# Imprime os nomes das colunas\n",
    "\n",
    "print( 'nomes das colunas')\n",
    "print(names(demand))\n",
    "\n",
    "\"\"\"\n",
    "robjects.r(codigo)"
   ]
  },
  {
   "cell_type": "code",
   "execution_count": 188,
   "id": "87d29e09-b358-46e3-90cc-20b901d437d4",
   "metadata": {},
   "outputs": [],
   "source": [
    "\n",
    "codigo = \"\"\" \n",
    "\n",
    "# Assumindo que você tem um dataframe chamado \"df\" e a coluna que deseja copiar é \"Fiscal sector orders\"\n",
    "demand$Fiscal_sector_orders <- demand$`Fiscal sector orders`\n",
    "\n",
    "# Agora a coluna \"Fiscal sector orders\" foi copiada para \"Fiscal_sector_orders\"\n",
    "\"\"\"\n",
    "robjects.r(codigo)"
   ]
  },
  {
   "cell_type": "code",
   "execution_count": 189,
   "id": "2f94c186-111a-471d-8a6b-3259fbd839a0",
   "metadata": {},
   "outputs": [
    {
     "name": "stdout",
     "output_type": "stream",
     "text": [
      "[1] \"nomes das colunas\"\n",
      " [1] \"Week of the month (first week, second, third, fourth or fifth week\"\n",
      " [2] \"Day of the week (Monday to Friday)\"                                \n",
      " [3] \"Non-urgent order\"                                                  \n",
      " [4] \"Urgent order\"                                                      \n",
      " [5] \"Order type A\"                                                      \n",
      " [6] \"Order type B\"                                                      \n",
      " [7] \"Order type C\"                                                      \n",
      " [8] \"Fiscal sector orders\"                                              \n",
      " [9] \"Orders from the traffic controller sector\"                         \n",
      "[10] \"Banking orders (1)\"                                                \n",
      "[11] \"Banking orders (2)\"                                                \n",
      "[12] \"Banking orders (3)\"                                                \n",
      "[13] \"Target (Total orders)\"                                             \n",
      "[14] \"Fiscal_sector_orders\"                                              \n"
     ]
    }
   ],
   "source": [
    "codigo = \"\"\" \n",
    "\n",
    "#library(data.table)\n",
    "#demand <- fread(\"Daily_Demand_Forecasting_Orders.csv\")\n",
    "# Imprime os nomes das colunas\n",
    "\n",
    "print( 'nomes das colunas')\n",
    "print(names(demand))\n",
    "\n",
    "\"\"\"\n",
    "robjects.r(codigo)"
   ]
  },
  {
   "cell_type": "code",
   "execution_count": 190,
   "id": "dfb968cd-15af-458e-b6d2-288a5f94dfd7",
   "metadata": {},
   "outputs": [
    {
     "name": "stdout",
     "output_type": "stream",
     "text": [
      "   Point Forecast    Lo 80    Hi 80     Lo 95    Hi 95\n",
      "61       80824.92 32197.00 129452.8  6454.934 155194.9\n",
      "62       92248.53 43620.61 140876.5 17878.547 166618.5\n",
      "63       85916.11 36479.59 135352.6 10309.475 161522.7\n",
      "64       76304.21 24717.22 127891.2 -2591.279 155199.7\n",
      "65       74001.26 22388.51 125614.0 -4933.635 152936.2\n"
     ]
    }
   ],
   "source": [
    "\n",
    "codigo = \"\"\" \n",
    "# Carregar a biblioteca forecast\n",
    "library(forecast)\n",
    "\n",
    "# Gerar previsões\n",
    "previsoes <- forecast(est.1, h = 5) # Prever os próximos 5 períodos\n",
    "\n",
    "print(previsoes)\n",
    "\n",
    "\n",
    "\"\"\"\n",
    "robjects.r(codigo)"
   ]
  },
  {
   "cell_type": "code",
   "execution_count": 191,
   "id": "b050f5af-3bc1-4d25-80a0-a9fdfb290dde",
   "metadata": {},
   "outputs": [],
   "source": [
    "codigo = \"\"\" \n",
    "\n",
    "# Assumindo que você tem um dataframe chamado \"df\" e a coluna que deseja copiar é \"Fiscal sector orders\"\n",
    "demand$Banking_orders_1 <- demand$`Banking orders (1)`\n",
    "\n",
    "# Agora a coluna \"Banking orders (1)\" foi copiada para \"Banking_orders_1\"\n",
    "\"\"\"\n",
    "robjects.r(codigo)"
   ]
  },
  {
   "cell_type": "code",
   "execution_count": 192,
   "id": "13abae61-c405-422a-8498-1a46e9d937b5",
   "metadata": {},
   "outputs": [
    {
     "name": "stdout",
     "output_type": "stream",
     "text": [
      "[1] \"nomes das colunas\"\n",
      " [1] \"Week of the month (first week, second, third, fourth or fifth week\"\n",
      " [2] \"Day of the week (Monday to Friday)\"                                \n",
      " [3] \"Non-urgent order\"                                                  \n",
      " [4] \"Urgent order\"                                                      \n",
      " [5] \"Order type A\"                                                      \n",
      " [6] \"Order type B\"                                                      \n",
      " [7] \"Order type C\"                                                      \n",
      " [8] \"Fiscal sector orders\"                                              \n",
      " [9] \"Orders from the traffic controller sector\"                         \n",
      "[10] \"Banking orders (1)\"                                                \n",
      "[11] \"Banking orders (2)\"                                                \n",
      "[12] \"Banking orders (3)\"                                                \n",
      "[13] \"Target (Total orders)\"                                             \n",
      "[14] \"Fiscal_sector_orders\"                                              \n",
      "[15] \"Banking_orders_1\"                                                  \n"
     ]
    }
   ],
   "source": [
    "codigo = \"\"\" \n",
    "\n",
    "#library(data.table)\n",
    "#demand <- fread(\"Daily_Demand_Forecasting_Orders.csv\")\n",
    "# Imprime os nomes das colunas\n",
    "\n",
    "print( 'nomes das colunas')\n",
    "print(names(demand))\n",
    "\n",
    "\"\"\"\n",
    "robjects.r(codigo)"
   ]
  },
  {
   "cell_type": "code",
   "execution_count": 193,
   "id": "1356235f-f7f2-4af3-a93d-0d08052f90ea",
   "metadata": {},
   "outputs": [],
   "source": [
    "import rpy2.robjects as robjects\n",
    "\n",
    "# Define your R code as a string\n",
    "r_code = \"\"\"\n",
    "# Check if 'demand' exists and has the required columns\n",
    "if (\"demand\" %in% ls() && \n",
    "    \"Sepal.Banking_orders_1\" %in% colnames(demand) && \n",
    "    \"Sepal.Fiscal_sector_orders\" %in% colnames(demand) &&\n",
    "    \"Petal.Banking_orders_1\" %in% colnames(demand) &&\n",
    "    \"Petal.Fiscal_sector_orders\" %in% colnames(demand)) {\n",
    "  \n",
    "  # Calculate Pearson correlation\n",
    "  pearson_cor <- cor(demand$Sepal.Banking_orders_1, demand$Sepal.Fiscal_sector_orders)\n",
    "  \n",
    "  # Calculate Spearman correlation\n",
    "  spearman_cor <- cor(demand$Petal.Banking_orders_1, demand$Petal.Fiscal_sector_orders, method = \"spearman\")\n",
    "  \n",
    "  # Perform a hypothesis test for Pearson correlation\n",
    "  cor_test <- cor.test(demand$Sepal.Banking_orders_1, demand$Sepal.Fiscal_sector_orders)\n",
    "  \n",
    "  # Return results\n",
    "  list(pearson_cor = pearson_cor, spearman_cor = spearman_cor, cor_test = cor_test)\n",
    "} else {\n",
    "  # Return an error message if 'demand' or required columns are missing\n",
    "  list(error = \"The 'demand' dataframe or required columns are missing.\")\n",
    "}\n",
    "\"\"\"\n",
    "\n",
    "# Execute the R code\n",
    "result = robjects.r(r_code)"
   ]
  },
  {
   "cell_type": "code",
   "execution_count": 194,
   "id": "f0809f67-a02d-4951-8f88-6ed4ec42a9b9",
   "metadata": {},
   "outputs": [
    {
     "name": "stdout",
     "output_type": "stream",
     "text": [
      "$error\n",
      "[1] \"The 'demand' dataframe or required columns are missing.\"\n",
      "\n",
      "\n"
     ]
    }
   ],
   "source": [
    "# Assuming you want to print or use the result in Python\n",
    "print(result)"
   ]
  },
  {
   "cell_type": "code",
   "execution_count": 195,
   "id": "e2011224-ae2f-47f6-8026-1cd7ae9dc1a0",
   "metadata": {},
   "outputs": [
    {
     "name": "stdout",
     "output_type": "stream",
     "text": [
      "[1] 0.9986154\n"
     ]
    }
   ],
   "source": [
    "r_code = \"\"\"\n",
    "demand1 <- data.frame(\n",
    "  Sepal.Banking_orders_1 = c(10, 12, 15, 18),\n",
    "  Sepal.Fiscal_sector_orders = c(8, 9, 11, 13)\n",
    ")\n",
    "\n",
    "# Calculate Pearson correlation\n",
    "pearson_cor <- cor(demand1$Sepal.Banking_orders_1, demand1$Sepal.Fiscal_sector_orders)\n",
    "\n",
    "# Print the correlation\n",
    "print(pearson_cor) \n",
    "\n",
    "\"\"\"\n",
    "\n",
    "# Execute the R code\n",
    "r_results = robjects.r(r_code)"
   ]
  },
  {
   "cell_type": "code",
   "execution_count": 196,
   "id": "ef099359-da19-4f72-9254-885029d234cf",
   "metadata": {},
   "outputs": [
    {
     "name": "stderr",
     "output_type": "stream",
     "text": [
      "R[write to console]: Saving 6.67 x 6.67 in image\n",
      "\n"
     ]
    }
   ],
   "source": [
    "\n",
    "\n",
    "r_code = \"\"\"\n",
    "library(forecast)\n",
    "library(ggplot2)\n",
    "\n",
    "# Assuming demand$Fiscal_sector_orders is already available\n",
    "# Ensure the forecast horizon matches the length of demand$Fiscal_sector_orders\n",
    "horizon <- length(demand$Fiscal_sector_orders)\n",
    "previsao <- forecast(est.1, h=horizon)\n",
    "\n",
    "# It's crucial to ensure that previsao$mean has the same length as demand$Fiscal_sector_orders\n",
    "# If not, you might need to adjust your forecasting method or handle the discrepancy\n",
    "\n",
    "# Now, creating the dataframe should not result in an error due to length mismatch\n",
    "df_grafico <- data.frame(\n",
    "  Periodo = 1:length(demand$Fiscal_sector_orders),\n",
    "  Fiscal_sector_orders = demand$Fiscal_sector_orders,\n",
    "  Previsao = previsao$mean\n",
    ")\n",
    "\n",
    "# Plotting the graph\n",
    "ggplot(df_grafico, aes(x = Periodo)) +\n",
    "  geom_line(aes(y = Fiscal_sector_orders, color = \"Pedidos Fiscais\")) +\n",
    "  geom_line(aes(y = Previsao, color = \"Previsão\")) +\n",
    "  labs(\n",
    "    title = \"Correlação entre Pedidos Fiscais e Previsões\",\n",
    "    x = \"Período\",\n",
    "    y = \"Pedidos\"\n",
    "  ) +\n",
    "  scale_color_manual(\n",
    "    name = \"Legenda\",\n",
    "    values = c(\"Pedidos Fiscais\" = \"blue\", \"Previsão\" = \"red\")\n",
    "  ) +\n",
    "  theme_bw()\n",
    "\n",
    "# Saving the graph\n",
    "ggsave(\"grafico_correlacao.png\")\n",
    "\"\"\"\n",
    "\n",
    "robjects.r(r_code)\n"
   ]
  },
  {
   "cell_type": "markdown",
   "id": "d9df38ff-25b0-41ec-bfe8-dac22690e394",
   "metadata": {},
   "source": [
    "<img src=\"grafico_correlacao.png\" />"
   ]
  },
  {
   "cell_type": "markdown",
   "id": "add84270-36d5-4187-82a0-8e89fe3b9a83",
   "metadata": {},
   "source": [
    "predizer mais de um valor, podemos usar a função fitted() do pacote forecast. O método rollapply() pode ser mais trabalhoso e mais sujeito a erros. \n",
    "\n",
    "Função fitted() com um parâmetro adicional h para o horizonte. Vale lembrar que nosso objeto est.1 representa um processo AR(3) com o coeficiente lag -1 (tempo menos 1) restrito em 0."
   ]
  },
  {
   "cell_type": "code",
   "execution_count": 197,
   "id": "ca6e90d3-2beb-43d0-90b8-1ff126654b39",
   "metadata": {},
   "outputs": [
    {
     "name": "stdout",
     "output_type": "stream",
     "text": [
      "   Point Forecast    Lo 80    Hi 80     Lo 95    Hi 95\n",
      "61       80824.92 32197.00 129452.8  6454.934 155194.9\n",
      "62       92248.53 43620.61 140876.5 17878.547 166618.5\n",
      "63       85916.11 36479.59 135352.6 10309.475 161522.7\n"
     ]
    }
   ],
   "source": [
    "\n",
    "r_code = \"\"\"\n",
    "\n",
    "#R\n",
    "\n",
    "#fitted(est.1, h=3)\n",
    "\n",
    "#print(fitted(est.1, h=3))\n",
    "print(forecast(est.1, h=3))\n",
    "\n",
    "\"\"\"\n",
    "\n",
    "robjects.r(r_code)\n"
   ]
  },
  {
   "cell_type": "code",
   "execution_count": 198,
   "id": "a9f20127-d2cd-4337-98c3-95040472a5a9",
   "metadata": {},
   "outputs": [
    {
     "name": "stdout",
     "output_type": "stream",
     "text": [
      "          Mazda RX4       Mazda RX4 Wag          Datsun 710      Hornet 4 Drive \n",
      "           22.27914            21.46545            26.25203            20.38052 \n",
      "  Hornet Sportabout             Valiant          Duster 360           Merc 240D \n",
      "           16.64696            19.59873            16.23213            23.47588 \n",
      "           Merc 230            Merc 280           Merc 280C          Merc 450SE \n",
      "           23.60352            19.66255            19.66255            14.63665 \n",
      "         Merc 450SL         Merc 450SLC  Cadillac Fleetwood Lincoln Continental \n",
      "           15.72158            15.56203            10.87130            10.31607 \n",
      "  Chrysler Imperial            Fiat 128         Honda Civic      Toyota Corolla \n",
      "           10.56816            26.63494            28.50166            27.79965 \n",
      "      Toyota Corona    Dodge Challenger         AMC Javelin          Camaro Z28 \n",
      "           25.78934            16.39168            16.66291            15.37057 \n",
      "   Pontiac Firebird           Fiat X1-9       Porsche 914-2        Lotus Europa \n",
      "           15.35461            27.48055            26.82640            28.82714 \n",
      "     Ford Pantera L        Ferrari Dino       Maserati Bora          Volvo 142E \n",
      "           17.50852            21.80050            16.23213            24.78418 \n"
     ]
    }
   ],
   "source": [
    "\n",
    "from rpy2 import robjects\n",
    "\n",
    "r_code = \"\"\"\n",
    "#R\n",
    "\n",
    "# Example model fitting (replace with your actual model fitting code)\n",
    "data(mtcars)\n",
    "est.2 <- lm(mpg ~ wt + cyl, data=mtcars)\n",
    "\n",
    "# Now calling fitted on the model object\n",
    "print(fitted(est.2, h=3))\n",
    "\"\"\"\n",
    "\n",
    "robjects.r(r_code)\n"
   ]
  },
  {
   "cell_type": "code",
   "execution_count": 199,
   "id": "5bd721af-8498-4d05-8042-e63161e773b4",
   "metadata": {},
   "outputs": [
    {
     "name": "stdout",
     "output_type": "stream",
     "text": [
      "   Point Forecast    Lo 80    Hi 80     Lo 95    Hi 95\n",
      "61       80824.92 32197.00 129452.8  6454.934 155194.9\n",
      "62       92248.53 43620.61 140876.5 17878.547 166618.5\n",
      "63       85916.11 36479.59 135352.6 10309.475 161522.7\n"
     ]
    }
   ],
   "source": [
    "r_code = \"\"\"\n",
    "#R\n",
    "\n",
    "#print(fitted(est.1, h=3))\n",
    "#print(forecast(est.1, h=3))\n",
    "\n",
    "print(forecast(est.1, h=3), na.rm = TRUE)\n",
    "\"\"\"\n",
    "\n",
    "robjects.r(r_code)\n"
   ]
  },
  {
   "cell_type": "code",
   "execution_count": 200,
   "id": "01be1e23-03ce-447e-b8cc-4c1b78831d18",
   "metadata": {},
   "outputs": [
    {
     "name": "stdout",
     "output_type": "stream",
     "text": [
      "   Point Forecast    Lo 80    Hi 80      Lo 95    Hi 95\n",
      "61       80824.92 32197.00 129452.8  6454.9336 155194.9\n",
      "62       92248.53 43620.61 140876.5 17878.5472 166618.5\n",
      "63       85916.11 36479.59 135352.6 10309.4748 161522.7\n",
      "64       76304.21 24717.22 127891.2 -2591.2789 155199.7\n",
      "65       74001.26 22388.51 125614.0 -4933.6354 152936.2\n",
      "66       77680.78 25786.50 129575.1 -1684.6730 157046.2\n",
      "67       81015.91 28954.44 133077.4  1394.7592 160637.1\n",
      "68       81040.15 28957.57 133122.7  1386.7123 160693.6\n",
      "69       79314.14 27176.31 131452.0  -423.7935 159052.1\n",
      "70       78298.81 26151.54 130446.1 -1453.5579 158051.2\n",
      "   Point Forecast    Lo 80    Hi 80      Lo 95    Hi 95\n",
      "61       80824.92 32197.00 129452.8  6454.9336 155194.9\n",
      "62       92248.53 43620.61 140876.5 17878.5472 166618.5\n",
      "63       85916.11 36479.59 135352.6 10309.4748 161522.7\n",
      "64       76304.21 24717.22 127891.2 -2591.2789 155199.7\n",
      "65       74001.26 22388.51 125614.0 -4933.6354 152936.2\n",
      "66       77680.78 25786.50 129575.1 -1684.6730 157046.2\n",
      "67       81015.91 28954.44 133077.4  1394.7592 160637.1\n",
      "68       81040.15 28957.57 133122.7  1386.7123 160693.6\n",
      "69       79314.14 27176.31 131452.0  -423.7935 159052.1\n",
      "70       78298.81 26151.54 130446.1 -1453.5579 158051.2\n",
      "71       78607.53 26452.68 130762.4 -1156.4224 158371.5\n",
      "72       79316.62 27153.85 131479.4  -459.4483 159092.7\n",
      "73       79567.83 27404.89 131730.8  -208.5092 159344.2\n",
      "74       79344.41 27179.64 131509.2  -434.7172 159123.5\n",
      "75       79083.48 26917.85 131249.1  -696.9743 158863.9\n",
      "76       79048.25 26882.60 131213.9  -732.2275 158828.7\n",
      "77       79163.75 26997.77 131329.7  -617.2389 158944.7\n",
      "78       79249.29 27083.24 131415.3  -531.8018 159030.4\n",
      "79       79238.82 27072.75 131404.9  -542.3044 159019.9\n",
      "80       79188.15 27022.02 131354.3  -593.0543 158969.3\n",
      "   Point Forecast    Lo 80    Hi 80      Lo 95    Hi 95\n",
      "61       80824.92 32197.00 129452.8  6454.9336 155194.9\n",
      "62       92248.53 43620.61 140876.5 17878.5472 166618.5\n",
      "63       85916.11 36479.59 135352.6 10309.4748 161522.7\n",
      "64       76304.21 24717.22 127891.2 -2591.2789 155199.7\n",
      "65       74001.26 22388.51 125614.0 -4933.6354 152936.2\n",
      "66       77680.78 25786.50 129575.1 -1684.6730 157046.2\n",
      "67       81015.91 28954.44 133077.4  1394.7592 160637.1\n",
      "68       81040.15 28957.57 133122.7  1386.7123 160693.6\n",
      "69       79314.14 27176.31 131452.0  -423.7935 159052.1\n",
      "70       78298.81 26151.54 130446.1 -1453.5579 158051.2\n",
      "71       78607.53 26452.68 130762.4 -1156.4224 158371.5\n",
      "72       79316.62 27153.85 131479.4  -459.4483 159092.7\n",
      "73       79567.83 27404.89 131730.8  -208.5092 159344.2\n",
      "74       79344.41 27179.64 131509.2  -434.7172 159123.5\n",
      "75       79083.48 26917.85 131249.1  -696.9743 158863.9\n",
      "76       79048.25 26882.60 131213.9  -732.2275 158828.7\n",
      "77       79163.75 26997.77 131329.7  -617.2389 158944.7\n",
      "78       79249.29 27083.24 131415.3  -531.8018 159030.4\n",
      "79       79238.82 27072.75 131404.9  -542.3044 159019.9\n",
      "80       79188.15 27022.02 131354.3  -593.0543 158969.3\n",
      "81       79164.14 26998.01 131330.3  -617.0689 158945.3\n",
      "82       79176.59 27010.46 131342.7  -604.6262 158957.8\n",
      "83       79196.35 27030.21 131362.5  -584.8792 158977.6\n",
      "84       79201.34 27035.20 131367.5  -579.8821 158982.6\n",
      "85       79193.95 27027.81 131360.1  -587.2769 158975.2\n",
      "86       79187.05 27020.91 131353.2  -594.1810 158968.3\n",
      "87       79186.89 27020.75 131353.0  -594.3421 158968.1\n",
      "88       79190.39 27024.25 131356.5  -590.8377 158971.6\n",
      "89       79192.51 27026.37 131358.7  -588.7158 158973.7\n",
      "90       79191.92 27025.78 131358.1  -589.3089 158973.1\n"
     ]
    }
   ],
   "source": [
    "r_code = \"\"\"\n",
    "#R\n",
    "\n",
    "#print(fitted(est.1, h=3))\n",
    "#print(forecast(est.1, h=3))\n",
    "\n",
    "print(forecast(est.1, h=10), na.rm = TRUE)\n",
    "\n",
    "print(forecast(est.1, h=20), na.rm = TRUE)\n",
    "\n",
    "print(forecast(est.1, h=30), na.rm = TRUE)\n",
    "\n",
    "\"\"\"\n",
    "\n",
    "robjects.r(r_code)"
   ]
  },
  {
   "cell_type": "code",
   "execution_count": 201,
   "id": "6553a962-d377-40c7-b9a0-c2a9a525a42d",
   "metadata": {},
   "outputs": [
    {
     "name": "stderr",
     "output_type": "stream",
     "text": [
      "R[write to console]: Saving 6.67 x 6.67 in image\n",
      "\n"
     ]
    }
   ],
   "source": [
    "r_code = \"\"\"\n",
    "\n",
    "# Carrega os pacotes necessários\n",
    "library(forecast)\n",
    "library(ggplot2)\n",
    "\n",
    "# Supondo que 'est.1' é um modelo ajustado (por exemplo, de uma série temporal)\n",
    "\n",
    "# Gera previsões para diferentes horizontes\n",
    "forecast_10 <- forecast(est.1, h=10)\n",
    "forecast_20 <- forecast(est.1, h=20)\n",
    "forecast_30 <- forecast(est.1, h=30)\n",
    "\n",
    "# Plota os gráficos das previsões\n",
    "autoplot(forecast_10) + ggtitle(\"Previsão para 10 passos à frente\")\n",
    "autoplot(forecast_20) + ggtitle(\"Previsão para 20 passos à frente\")\n",
    "autoplot(forecast_30) + ggtitle(\"Previsão para 30 passos à frente\")\n",
    "\n",
    "# Saving the graph\n",
    "ggsave(\"previsao_teste.png\")\n",
    "\n",
    "\"\"\"\n",
    "\n",
    "robjects.r(r_code)\n"
   ]
  },
  {
   "cell_type": "markdown",
   "id": "ef307516-8aec-446c-a764-a344a939a202",
   "metadata": {},
   "source": [
    "<img src=\"previsao_teste.png\" />"
   ]
  },
  {
   "cell_type": "code",
   "execution_count": 202,
   "id": "2b362bee-9f8b-4ac7-83e8-f92665a8912d",
   "metadata": {},
   "outputs": [
    {
     "name": "stderr",
     "output_type": "stream",
     "text": [
      "R[write to console]: Saving 6.67 x 6.67 in image\n",
      "\n"
     ]
    }
   ],
   "source": [
    "r_code = \"\"\"\n",
    "\n",
    "# Carrega os pacotes necessários\n",
    "library(forecast)\n",
    "library(ggplot2)\n",
    "\n",
    "# Supondo que 'est.1' é um modelo ajustado (por exemplo, de uma série temporal)\n",
    "\n",
    "# Gera previsões para diferentes horizontes\n",
    "forecast_10 <- forecast(est.1, h=10)\n",
    "forecast_20 <- forecast(est.1, h=20)\n",
    "forecast_30 <- forecast(est.1, h=30)\n",
    "\n",
    "# Plota os gráficos das previsões\n",
    "autoplot(forecast_10) + ggtitle(\"Previsão para 10 passos à frente\")\n",
    "#autoplot(forecast_20) + ggtitle(\"Previsão para 20 passos à frente\")\n",
    "#autoplot(forecast_30) + ggtitle(\"Previsão para 30 passos à frente\")\n",
    "\n",
    "# Saving the graph\n",
    "ggsave(\"previsao_teste2.png\")\n",
    "\n",
    "\"\"\"\n",
    "\n",
    "robjects.r(r_code)"
   ]
  },
  {
   "cell_type": "markdown",
   "id": "962398a7-2cf3-429f-a8ff-fdfa394717f7",
   "metadata": {},
   "source": [
    "<img src=\"previsao_teste2.png\"  alt=\"previsao\" width=\"670\" height=\"100\"/>"
   ]
  },
  {
   "cell_type": "markdown",
   "id": "81c445b3-2167-43c8-8346-946c0cd5948d",
   "metadata": {},
   "source": [
    "Gráficos de previsões para o futuro, o modelo fornece uma predição constante do valor médio do processo. Os horizontes preditos aumentam, no último caso para 10 intervalos. A figura anterior para 30 intervalos."
   ]
  },
  {
   "cell_type": "markdown",
   "id": "ea05ad58-2ee2-4081-b259-1f55a1ac626f",
   "metadata": {},
   "source": [
    "# Modelos de Média Móvel (MA) "
   ]
  },
  {
   "cell_type": "markdown",
   "id": "b3588186-f9ef-43fd-80cc-b71f7a5ac4b0",
   "metadata": {},
   "source": [
    "Modelo de média móvel (MA) : O valor em cada ponto no tempo é uma função dos termos de \"erro\" do valor do passado recente, cada qual independente dos outros. \n"
   ]
  },
  {
   "cell_type": "markdown",
   "id": "df2bed13-26a0-4907-af07-c1120aeb2b5b",
   "metadata": {},
   "source": [
    "https://real-statistics.com/time-series-analysis/moving-average-processes/invertibility-ma-processes/"
   ]
  },
  {
   "cell_type": "markdown",
   "id": "e8a07336-5c6c-4ec4-b44e-9e7c2dc8e2a3",
   "metadata": {},
   "source": [
    "teorema de wold\n",
    "\n",
    "https://en.wikipedia.org/wiki/Wold's_theorem"
   ]
  },
  {
   "cell_type": "markdown",
   "id": "a56decae-e6b6-41bd-b0dd-38255a1260b8",
   "metadata": {},
   "source": [
    "Dualidade de MA/AR https://mcs.utm.utoronto.ca/~nosedal/sta457/duality-of-ma-and-ar.pdf\n",
    "\n",
    "The AR/MA duality revisited"
   ]
  },
  {
   "attachments": {
    "b99f59f7-b334-4b57-a15f-2d010851f324.png": {
     "image/png": "[encoded data removed]"
    }
   },
   "cell_type": "markdown",
   "id": "eb829a40-8570-4709-b3f9-1941a8b0afd9",
   "metadata": {},
   "source": [
    "![image.png](attachment:b99f59f7-b334-4b57-a15f-2d010851f324.png)"
   ]
  },
  {
   "cell_type": "markdown",
   "id": "f0a4d6a7-f94b-49b2-acf4-dff6678a010b",
   "metadata": {},
   "source": [
    "\n",
    "Média móvel pode ser expresso de forma semelhante a um modelo autoregressio, exceto que os termos incluídos na equação linear se referem a termos de erro presentes e passados, em vez de valores presentes e passados do próprio processo. Assim, o modelo MA de ordem q é expresso como:\n",
    "\n",
    "    y_t = μ + e_t + θ_1*e_t-1 + θ_2 *e_t-2 +...+ θ_q *e_t-q"
   ]
  },
  {
   "cell_type": "markdown",
   "id": "319001f3-97d9-47f7-8677-aea7777c551f",
   "metadata": {},
   "source": [
    "Não confunda o Modelo de Média móvel (MA) com uma média móvel. Eles não são a mesma coisa. Depois de saber como ajustar um processo de média móvel, você pode até comparar o ajuste de um modelo MA a uma média móvel da série temporal subjacente. "
   ]
  },
  {
   "cell_type": "markdown",
   "id": "f4c4d87e-bdd2-4b26-b314-6fb36f6b1bba",
   "metadata": {},
   "source": [
    "# Operador Backshift\n",
    "\n",
    "Operador Backshift ou operador de defasagem, opera em pontos de série temporais e os desloca um passo de tempo para trás cada vez que é aplicado. \n",
    "\n",
    "B^ky_t = y_t-k\n",
    "\n",
    "O operador backshift ajuda a simplificar a expressão dos modelo de série temporal. Por exemplo, um modelo MA pode ser reescrito como: \n",
    " \n",
    " \n",
    "y_t = μ + (1 + θ_1xB + θ_2xB² + ... +  θ_qxB^q)e_t\n"
   ]
  },
  {
   "cell_type": "markdown",
   "id": "87f0efc0-fcda-41a9-8483-58570b2e110c",
   "metadata": {},
   "source": [
    "Por natureza, os <b>modelos MA têm estacionariedade fraca</b> sem a necessidade de impor quaisquer restrições aos seus parâmetros. Isso ocorre por que a média e a variância de um prceoss MA são finitas e invariantes com o tempo, já que os termos de erro são considerados iid com média 0. \n",
    "\n",
    "Resultado: Var(y_t) = (1 + θ_1² + θ_2² + ... + θ_q²)x σ_e²\n",
    "\n",
    "Tanto a média quanto a vairância de um processo MA são constantes como o tempo, independentemente dos valores dos parâmetros. "
   ]
  },
  {
   "cell_type": "markdown",
   "id": "69ba2d63-365b-47e9-b1aa-da2bef424814",
   "metadata": {},
   "source": [
    "# Escolhendo os parâmetors para um proceso MA (q)"
   ]
  },
  {
   "cell_type": "code",
   "execution_count": 203,
   "id": "becae01b-1076-4165-96aa-16857c666803",
   "metadata": {},
   "outputs": [
    {
     "data": {
      "text/html": [
       "\n",
       "        <span>IntVector with 1 elements.</span>\n",
       "        <table>\n",
       "        <tbody>\n",
       "          <tr>\n",
       "          \n",
       "            <td>\n",
       "            3\n",
       "            </td>\n",
       "          \n",
       "          </tr>\n",
       "        </tbody>\n",
       "        </table>\n",
       "        "
      ],
      "text/plain": [
       "<rpy2.robjects.vectors.IntVector object at 0x700d47a26f50> [13]\n",
       "R classes: ('integer',)\n",
       "[3]"
      ]
     },
     "execution_count": 203,
     "metadata": {},
     "output_type": "execute_result"
    }
   ],
   "source": [
    "codigo = \"\"\"\n",
    "png(filename = \"Figura8.png\")\n",
    "\n",
    "\n",
    "\n",
    "\n",
    "\n",
    "acf(demand[['Banking orders (2)']]) \n",
    "\n",
    "\n",
    "dev.off()\n",
    "\n",
    "\"\"\"\n",
    "robjects.r(codigo)"
   ]
  },
  {
   "cell_type": "markdown",
   "id": "e221d1a8-e119-4bc9-b71d-cc2943bdcdc6",
   "metadata": {},
   "source": [
    "<img src=\"Figura8.png\"  alt=\"previsao\" width=\"670\" height=\"100\"/>"
   ]
  },
  {
   "cell_type": "markdown",
   "id": "7320c41d-4c0c-41b2-9948-826e78fc0c02",
   "metadata": {},
   "source": [
    "Ajustamos um modelo MA e podemos usar a ACF a fim de determinar a ordem do processo MA. \n",
    "\n",
    "ACF da série temporal de demanda para determinar a ordem do modelo MA. "
   ]
  },
  {
   "cell_type": "markdown",
   "id": "cedd476a-cf4a-4ad4-8866-98e2e93ee18e",
   "metadata": {},
   "source": [
    "\n",
    "Ao contrário de um processo autorregressivo que tem uma ACF de decaimento exponencial lento, <b>a definição do processo MA garante um cutoff acentuado da ACF para qualquer valor maior que q, a ordem do processo MA</b>. Isso ocorre porque um processo autorregressivo depende de termos anteriores, e eles incoporam impulsos anteriores ao sistema, ao passo que um modelo MA, que incorpora os impulsos diretamente por meio de seu valor, tem um mecanismo para impedir que a propagação dos impulsos progrida indefinidamente. "
   ]
  },
  {
   "cell_type": "markdown",
   "id": "cd6bfc37-6d15-4f57-9e1f-824f15082c0c",
   "metadata": {},
   "source": [
    "Vemos valores significativos nos lags 3 e 9, então ajustamos um MA com esses lags. É necessário tomar cuidado para nçao restringir sem querer os coeficientes errados em 0 no modelo, o que podemos confirmar ao exibir: \n",
    "       "
   ]
  },
  {
   "cell_type": "code",
   "execution_count": 204,
   "id": "8b83dd7b-ebb1-4d60-9c81-6139188d5eda",
   "metadata": {},
   "outputs": [
    {
     "name": "stdout",
     "output_type": "stream",
     "text": [
      " [1] 188411  89461  21305  69054  16411  47522  48269  56665 103376  82395\n",
      "[11] 108719  36693  78153 117137 101048  62799  91784  27873 155617  78378\n",
      "[21]  29874  47793  92701 135314  55584  67617  47563  43930 159373  62732\n",
      "[31] 126632  50433 177229  63699  50763  61593 136035  66745  54772  85378\n",
      "[41] 169088  72840  70191  38646  52112 103567  59231  84558  63778  59513\n",
      "[51] 154144  89704  49644  21573  65199 128269  87708  91367  50112  56015\n"
     ]
    }
   ],
   "source": [
    "\n",
    "codigo = \"\"\"\n",
    "\n",
    "data <- c(demand[[\"Banking orders (2)\"]])\n",
    "\n",
    "print(data)\n",
    "\n",
    "\"\"\"\n",
    "robjects.r(codigo)\n"
   ]
  },
  {
   "cell_type": "code",
   "execution_count": 205,
   "id": "604ea2e3-6938-4896-8244-b0dda355f22f",
   "metadata": {},
   "outputs": [
    {
     "name": "stderr",
     "output_type": "stream",
     "text": [
      "R[write to console]: Saving 6.67 x 6.67 in image\n",
      "\n"
     ]
    },
    {
     "data": {
      "text/html": [
       "\n",
       "        <span>IntVector with 1 elements.</span>\n",
       "        <table>\n",
       "        <tbody>\n",
       "          <tr>\n",
       "          \n",
       "            <td>\n",
       "            1\n",
       "            </td>\n",
       "          \n",
       "          </tr>\n",
       "        </tbody>\n",
       "        </table>\n",
       "        "
      ],
      "text/plain": [
       "<rpy2.robjects.vectors.IntVector object at 0x700daff4c550> [13]\n",
       "R classes: ('integer',)\n",
       "[1]"
      ]
     },
     "execution_count": 205,
     "metadata": {},
     "output_type": "execute_result"
    }
   ],
   "source": [
    "\n",
    "\n",
    "\n",
    "codigo = \"\"\"\n",
    "\n",
    "#png(filename = \"Figura9.png\")\n",
    "#ma.est = arima(x = demand[[\"Backing orders (2)\"]], order = c(0,0,9), fixed = c(0,0, NA, rep(0,5), NA, NA))\n",
    "#print(ma.est) \n",
    "\n",
    "\n",
    "data <- demand[[\"Banking orders (2)\"]]\n",
    "\n",
    "\n",
    "\n",
    "# Criar uma série temporal\n",
    "ts_data <- ts(data, start=c(2021, 1), frequency=12)  # Exemplo de dados mensais\n",
    "\n",
    "# Ajustar um modelo ARIMA\n",
    "est.1 <- auto.arima(ts_data)\n",
    "\n",
    "# Gerar previsões\n",
    "forecast_10 <- forecast(est.1, h=10)\n",
    "\n",
    "# Gráfico da previsão\n",
    "autoplot(forecast_10) + ggtitle(\"Previsão para 10 passos à frente\")\n",
    "ggsave(\"Figura9.png\")\n",
    "\n",
    "dev.off()\n",
    "\"\"\"\n",
    "robjects.r(codigo)\n"
   ]
  },
  {
   "cell_type": "markdown",
   "id": "950fd2c1-ebc3-4103-af3a-b4809931c164",
   "metadata": {},
   "source": [
    "<img src=\"Figura9.png\"  alt=\"previsao\" width=\"670\" height=\"100\"/>"
   ]
  },
  {
   "cell_type": "code",
   "execution_count": 208,
   "id": "e49f5e35-60ed-47ee-acf5-a3e17ef1c3dd",
   "metadata": {},
   "outputs": [
    {
     "name": "stdout",
     "output_type": "stream",
     "text": [
      "\n",
      "Call:\n",
      "arima(x = demand[[\"Banking orders (2)\"]], order = c(0, 0, 9), fixed = c(0, 0, \n",
      "    NA, rep(0, 5), NA, NA))\n",
      "\n",
      "Coefficients:\n",
      "      ma1  ma2      ma3  ma4  ma5  ma6  ma7  ma8      ma9  intercept\n",
      "        0    0  -0.4725    0    0    0    0    0  -0.0120  79689.809\n",
      "s.e.    0    0   0.1459    0    0    0    0    0   0.1444   2674.593\n",
      "\n",
      "sigma^2 estimated as 1.4e+09:  log likelihood = -717.31,  aic = 1442.61\n"
     ]
    }
   ],
   "source": [
    "codigo = \"\"\"\n",
    "\n",
    "\n",
    "ma.est = arima(x = demand[[\"Banking orders (2)\"]], \n",
    "             order = c(0,0,9), \n",
    "             fixed = c(0,0, NA, rep(0,5), NA, NA))\n",
    "\n",
    "\n",
    "print(ma.est) \n",
    "\n",
    "\n",
    "\"\"\"\n",
    "robjects.r(codigo)"
   ]
  },
  {
   "cell_type": "markdown",
   "id": "ba46f603-42ce-4011-bd26-4063d55a4904",
   "metadata": {},
   "source": [
    "\n",
    "\n",
    "Devemos verificar nosso ajuste plotando a ACF dos resíduos do modelo e, com um segundo teste de desempenho do modelo, executando o teste de Ljung-Box para verificar a aleatoriedade geral em qualquer ajuste dos resíduos. \n",
    "\n",
    "A entrada Box.test() exibe que especifiquemos o número de graus de liberdade -> quantos parâmetros do modelo estavam livres para serem estimados em vez de serem restritos a um valor específico. \n",
    "Parâmetros livres foram a interceptação, bem como os termos MA3 e MA9. "
   ]
  },
  {
   "cell_type": "code",
   "execution_count": 209,
   "id": "6bb0f63c-f6a5-460e-8e75-b1976d39feff",
   "metadata": {},
   "outputs": [
    {
     "name": "stdout",
     "output_type": "stream",
     "text": [
      "\n",
      "\tBox-Ljung test\n",
      "\n",
      "data:  ma.est$residuals\n",
      "X-squared = 7.6516, df = 7, p-value = 0.3643\n",
      "\n"
     ]
    }
   ],
   "source": [
    "codigo = \"\"\"\n",
    "\n",
    "\n",
    "print(Box.test(ma.est$residuals, lag=10, type ='Ljung', fitdf=3)) \n",
    "\n",
    "\n",
    "\"\"\"\n",
    "robjects.r(codigo)"
   ]
  },
  {
   "cell_type": "markdown",
   "id": "8ada0b94-cda8-4668-b531-35a9f5466c13",
   "metadata": {},
   "source": [
    "p-value < 0.05 probabilidade estatística alternativa Ha, não nula h0 rejeita. \n",
    "\n",
    "p-value >= 0,05 não podemos rejeitar a hipótese nula e nem tem evidência para a hipótese alternativa.\n",
    "\n",
    "\n",
    "p-value >= 0,05;\n",
    "Não podemos rejeitar a hipótese nula de que não há correlação temporal entre os pontos residuais. Do mesmo modo, um gráfico da ACF dos resíduos sugere nenhuma correlação temporal.\n",
    "\n"
   ]
  },
  {
   "cell_type": "markdown",
   "id": "9a65d64e-2a90-4c03-9ca5-d8e07b7d1cd8",
   "metadata": {},
   "source": [
    "\n",
    "# Previsão de um processo MA (q)"
   ]
  },
  {
   "cell_type": "code",
   "execution_count": 210,
   "id": "c96e1b4f-c72e-46d7-92d2-a062e2b391dd",
   "metadata": {},
   "outputs": [],
   "source": [
    "#previsão usando o método fitted ou forecast"
   ]
  },
  {
   "cell_type": "code",
   "execution_count": 211,
   "id": "578838ec-2aad-4ae1-b3c6-b8084669be00",
   "metadata": {},
   "outputs": [
    {
     "name": "stdout",
     "output_type": "stream",
     "text": [
      "Time Series:\n",
      "Start = 1 \n",
      "End = 60 \n",
      "Frequency = 1 \n",
      " [1]  90116.64  80626.91  74090.45  38321.61  74734.77 101153.20  65930.90\n",
      " [8] 106351.80 104138.05  86938.99 102868.16  80502.02  81466.01  77619.15\n",
      "[15] 100984.93  81463.10  61622.54  79660.81  88563.91  65370.99 104679.89\n",
      "[22]  48047.39  73070.29 115034.16  80034.03  70052.29  70728.85  90437.86\n",
      "[29]  80684.44  91533.59 101668.18  42273.27  93055.40  68187.65  75863.50\n",
      "[36]  40195.15  82368.91  90605.60  69924.83  54032.55  90866.20  85839.41\n",
      "[43]  64932.70  43030.64  85575.32  76561.14  82047.95  95683.35  66553.13\n",
      "[50]  89532.20  85102.64  80937.97  93926.74  47468.84  75223.67 100887.60\n",
      "[57]  92059.32  84459.85  67112.16  80917.23\n"
     ]
    }
   ],
   "source": [
    "\n",
    "codigo = \"\"\"\n",
    "\n",
    "\n",
    "forecast1 <-fitted(ma.est, h=1)\n",
    "print(forecast1)\n",
    "\n",
    "\"\"\"\n",
    "robjects.r(codigo)\n"
   ]
  },
  {
   "cell_type": "code",
   "execution_count": 212,
   "id": "e9b5f728-0df7-4df9-9d0a-7a604f7a0655",
   "metadata": {},
   "outputs": [
    {
     "name": "stdout",
     "output_type": "stream",
     "text": [
      "Time Series:\n",
      "Start = 1 \n",
      "End = 60 \n",
      "Frequency = 1 \n",
      " [1]  90116.64  80626.91  74090.45  38321.61  74734.77 101153.20  65930.90\n",
      " [8] 106351.80 104138.05  86938.99 102868.16  80502.02  81466.01  77619.15\n",
      "[15] 100984.93  81463.10  61622.54  79660.81  88563.91  65370.99 104679.89\n",
      "[22]  48047.39  73070.29 115034.16  80034.03  70052.29  70728.85  90437.86\n",
      "[29]  80684.44  91533.59 101668.18  42273.27  93055.40  68187.65  75863.50\n",
      "[36]  40195.15  82368.91  90605.60  69924.83  54032.55  90866.20  85839.41\n",
      "[43]  64932.70  43030.64  85575.32  76561.14  82047.95  95683.35  66553.13\n",
      "[50]  89532.20  85102.64  80937.97  93926.74  47468.84  75223.67 100887.60\n",
      "[57]  92059.32  84459.85  67112.16  80917.23\n"
     ]
    },
    {
     "name": "stderr",
     "output_type": "stream",
     "text": [
      "R[write to console]: Saving 7 x 7 in image\n",
      "\n"
     ]
    }
   ],
   "source": [
    "codigo = \"\"\"\n",
    "\n",
    "\n",
    "#forecast1 <-fitted(ma.est, h=1)\n",
    "print(forecast1)\n",
    "autoplot(forecast1) + ggtitle(\"Previsão com a frequência = 1 (h)\")\n",
    "\n",
    "ggsave(\"Figura10.png\")\n",
    "\n",
    "\"\"\"\n",
    "robjects.r(codigo)"
   ]
  },
  {
   "cell_type": "markdown",
   "id": "a3d8ddc6-dca1-4526-885e-7d34fe6cc865",
   "metadata": {},
   "source": [
    "<img src=\"Figura10.png\"  alt=\"previsao\" width=\"670\" height=\"100\"/>"
   ]
  },
  {
   "cell_type": "markdown",
   "id": "656bc269-6c1f-4a3f-a37c-b2b571734164",
   "metadata": {},
   "source": [
    "\n",
    "Os modelos MA exibem uma forte reversão à média, desse modo as previsões convergem rapidamente para a média do processo. Lembarndo que o processo é considerado uma função de ruído branco. \n",
    "\n",
    "Se você prevê além do intervalo do modelo estabelecido por sua ordem, por definição do processo, a previsão será necessariamente a média dele. => MA(1)\n",
    "\n",
    "\n",
    "y_t = μ + θ_1xe_t-1 + e_t\n"
   ]
  },
  {
   "cell_type": "markdown",
   "id": "dbdbdb9e-782f-4d57-bc9a-8b1e9d6daa56",
   "metadata": {},
   "source": [
    "\n",
    "\n",
    "Para predizer um intervalo de tempo no futuro, nossa estimativa para y_t+1 é μ + θ_1 × y_t + e_t . Se quisermos predizer dois intervalos de tempo no futuro, nossa estimativa:\n",
    "\n",
    "E(y_t+2 = μ + e_t+2 + θ_1 × ; e_t+1 ) = μ + 0 + θ_1 × 0 = μ\n"
   ]
  },
  {
   "cell_type": "markdown",
   "id": "d40567b7-8d92-4259-807c-c2fc471eb92a",
   "metadata": {},
   "source": [
    "Com um processo MA (1) não podemos apresentar uma predição informativa além de um passo à frente, e para um processo MA(q) em geral não conseguimos apresentar uma predição mais informativa além de q passos do que o valor médio gerado pelo processo. Por predição 'informativa', aquela em que nossas medições mais recentes impactam nossa previsão. "
   ]
  },
  {
   "cell_type": "markdown",
   "id": "3579420b-ddef-41e6-ab2f-c6ae2b33f756",
   "metadata": {},
   "source": [
    "\n",
    "\n",
    "Modelo MA o sinal na frente dos coeficientes theta tradicionalmente é negativo. Isso se deve ao fato de como ele pode ser derivado, e uma maneira de pensar um modelo MAé levar em consideração um modelo AR com restrições em seus parâmetros. Essa notação algébrica leva a coeficientes negativos no theta.  "
   ]
  },
  {
   "cell_type": "markdown",
   "id": "ebad8b34-948e-4681-9fc5-550d5e2e7cdc",
   "metadata": {},
   "source": [
    "Podemos conferir isso gerando predições com nosso modelo MA (9) que acabamos de ajustar e para o qual agora buscamos predições de dez (10) passos à frente:"
   ]
  },
  {
   "cell_type": "code",
   "execution_count": 213,
   "id": "8c59f07c-bea8-45a1-a59d-d82706fd7d79",
   "metadata": {},
   "outputs": [
    {
     "name": "stdout",
     "output_type": "stream",
     "text": [
      "Time Series:\n",
      "Start = 1 \n",
      "End = 60 \n",
      "Frequency = 1 \n",
      " [1]       NA       NA       NA       NA       NA       NA       NA       NA\n",
      " [9]       NA       NA 79689.81 79689.81 79689.81 79689.81 79689.81 79689.81\n",
      "[17] 79689.81 79689.81 79689.81 79689.81 79689.81 79689.81 79689.81 79689.81\n",
      "[25] 79689.81 79689.81 79689.81 79689.81 79689.81 79689.81 79689.81 79689.81\n",
      "[33] 79689.81 79689.81 79689.81 79689.81 79689.81 79689.81 79689.81 79689.81\n",
      "[41] 79689.81 79689.81 79689.81 79689.81 79689.81 79689.81 79689.81 79689.81\n",
      "[49] 79689.81 79689.81 79689.81 79689.81 79689.81 79689.81 79689.81 79689.81\n",
      "[57] 79689.81 79689.81 79689.81 79689.81\n"
     ]
    },
    {
     "name": "stderr",
     "output_type": "stream",
     "text": [
      "R[write to console]: Saving 7 x 7 in image\n",
      "\n"
     ]
    }
   ],
   "source": [
    "\n",
    "codigo = \"\"\"\n",
    "\n",
    "\n",
    "forecast10 <-fitted(ma.est, h=10)\n",
    "print(forecast10)\n",
    "\n",
    "autoplot(forecast10) + ggtitle(\"Previsão com a frequência = 10 (h)| 10 passos à frente de predição\")\n",
    "\n",
    "ggsave(\"Figura11.png\")\n",
    "\n",
    "\n",
    "\"\"\"\n",
    "robjects.r(codigo)\n",
    "\n"
   ]
  },
  {
   "cell_type": "markdown",
   "id": "7b582d35-bd05-41d8-bfc6-f7bc7ac3ee2d",
   "metadata": {},
   "source": [
    "<img src=\"Figura11.png\"  alt=\"previsao\" width=\"670\" height=\"100\"/>"
   ]
  },
  {
   "cell_type": "markdown",
   "id": "dff5d5ac-56d1-4d0d-8443-9dd3bee19f4f",
   "metadata": {},
   "source": [
    "\n",
    "Ao tentarmos predizer 10 passos de tempo no futuro, predizemos a média para cada intervalo de tempo. Poderíamos ter feito isso sem um modelo estatístico sofisticado. Bom senso fundamental. \n"
   ]
  },
  {
   "cell_type": "markdown",
   "id": "203ab0da-586e-45d6-a92e-7c755872515b",
   "metadata": {},
   "source": [
    "# Modelos autorregressivos integrados de Média Móvel (ARIMA)"
   ]
  },
  {
   "cell_type": "markdown",
   "id": "29d31768-854b-428e-9e82-42662618f557",
   "metadata": {},
   "source": [
    "Estudamos os modelos AR e MA individualmente, agora examinaremos o modelo autorregressivo integrado de Média Móvel (ARIMA) que os combina, reconhecendo que a mesma série temporal pode ter a dinâmica dos modelos AR e MA subjacentes. Por si só nos levaria a um modelo ARMA, mas abordaremos o modelo ARIMA, que leva em conta a diferenciação, uma forma de remover tendências e tornar uma série temporal estacionária. "
   ]
  },
  {
   "cell_type": "markdown",
   "id": "f77a55fb-fb65-434d-9767-6cf045c07eec",
   "metadata": {},
   "source": [
    "\n",
    "Diferenciação: é a conversão de uma série temporal de valores em uma série temporal de mudanças nos valores ao longo do tempo. Calculando as diferenças de pares de pontos adjacentes no tempo, de modo que o valor da série diferenciada em um tempo t é o valor no tempo t menos o valor no tempo t-1. No entanto, a diferenciação também pode ser realizada em diferentes janelas de lag, conforme conveniente. \n",
    "\n",
    "\n"
   ]
  },
  {
   "cell_type": "markdown",
   "id": "886ec235-f48f-4bb2-8261-1eb5a6424bc9",
   "metadata": {},
   "source": [
    "\n",
    "Modelo autorregressivo integrado de Média Móvel - ARIMA, quando se trata de conjuntos PEQUENOS de dados, em que o aprendizado de máquina mais sofisticado ou modelos de aprendizado profundo NÃO são os melhores. Contudo, até os modelos ARIMA apresentam RISCO de sobreajuste, apesar de sua relativa simplicidade. "
   ]
  },
  {
   "attachments": {
    "4642095a-811a-43d0-bbb8-6f12ab82b4c3.png": {
     "image/png": "[encoded data removed]"
    }
   },
   "cell_type": "markdown",
   "id": "7b051398-626c-4fa4-9b7e-33fcd6f3b5d5",
   "metadata": {},
   "source": [
    "![image.png](attachment:4642095a-811a-43d0-bbb8-6f12ab82b4c3.png)"
   ]
  },
  {
   "cell_type": "markdown",
   "id": "3d57ab16-9f11-4d82-a728-d9451515b17b",
   "metadata": {},
   "source": [
    "\n",
    "Modelo autorregressivo de média móvel (ARMA), aplicado nos casos em que nem os termos AR e MA são suficientes para representar a dinâmica empírica. Isso pode ocorrer quando os <b> diagnósticos para estatísticas de ordem AR e MA (PACF e ACF, respectivamente) sinalizam valores diferentes de zero</b>, indicando um termo de uma determinada ordem para um termo AR ou MA."
   ]
  },
  {
   "cell_type": "markdown",
   "id": "f347358a-de4f-4d36-9614-a10a884c5df7",
   "metadata": {},
   "source": [
    "\n",
    "O teorema de Wold afirma que toda <b>série temporal com covariância e estacionária pode ser escrita como a soma de duas séries temporais, uma determinística e outras estocástica</b>. Com base nesse teorema, também podemos alegar que um processo estacionário pode ser razoavelmente aproximado por um modelo ARMA, embora seja muito difícil identificar o modelo apropriado. \n",
    "\n",
    "\n",
    "\n",
    "\n",
    "Padrão estocástico é aquele cujo estado é indeterminado, com origem em eventos aleatórios. Por exemplo, o lançar de dados resulta num processo estocástico, pois qualquer uma das 6 faces do dado tem iguais probabilidades de ficar para cima após o arremesso.\n",
    "\n",
    "\n",
    "É determinístico quando repetido inúmeras vezes, em condições semelhantes, conduz a resultados essencialmente idênticos. Dizemos que um experimento é determinístico quando repetido inúmeras vezes, em condições semelhantes, conduz a resultados essencialmente idênticos.\n"
   ]
  },
  {
   "cell_type": "markdown",
   "id": "52660d95-59d8-4c57-94fc-bd40a79f5e87",
   "metadata": {},
   "source": [
    "\n",
    "Mudamos para a notação estatística mais tradicional, aplicando sinais negativos aos coeficientes do processo MA. \n",
    "\n",
    "y_t = ϕ_0 + ∑ (ϕ_i × ; r_t-i ) + e_t – ∑ ( θ_i × e_t-i )\n"
   ]
  },
  {
   "cell_type": "markdown",
   "id": "f0562014-8875-43eb-8814-0e6e65012916",
   "metadata": {},
   "source": [
    "# O modelo ARMA não é necessariamente exclusivo\n",
    "\n",
    "\n",
    "\n",
    "Um método simples de identifcar os casos em que isso pode acontecer é usar o operador backshift do modelo ARMA e a boa velha fatoração de polinômios para identificar fatores comuns em seus modelos AR e MA, que poderiam se dividir para gerar um modelo equivalente, porém mais simples. \n",
    "\n",
    "Uma forma de expressar um modelo ARMA é colocar os componentes AR de um lado e os componentes MA do outro. \n",
    "\n",
    "yt = 0.5 × yt-1 + 0.24 × yt-2 + et + 0.6 × et-1 + 0.09 × et-2\n",
    "\n",
    "Podemos reescrever o modelo de maneira fatorada, deslocando os termos AR (os coeficientes x) de um lado e deixando os termos MA do outro lado:\n",
    "\n",
    "yt – 0.5 × yt-1 – 0.24 × yt-2 = et + 0.6 × et-1 + 0.09 × et-2\n",
    "\n",
    "reescrever o operador backshift. yt-2 e reescrevo L^2y\n",
    "\n",
    "yt – 0.5 × L × yt – 0.24 × L2 × yt = et + 0.6 × L × et + 0.09 × L 2 × et\n",
    "\n",
    "Simplificando ao realizar a fatoração dos fatores comuns de yt no lado esquerdo e et no lado direito e depois, fatorando os polinômios. \n",
    "\n",
    "(1 + 0.3L) × (1 – 0.8L) × yt = (1 + 0.3L) × (1 + 0.3L) × et\n",
    "\n",
    "Fator (1+0,3L)\n",
    "\n",
    "\n",
    "(1 – 0.8L) × yt = (1 + 0.3L) × et"
   ]
  },
  {
   "cell_type": "markdown",
   "id": "96ba7e48-e794-47a0-82da-e0e8f3740045",
   "metadata": {},
   "source": [
    "\n",
    "\n",
    "A estacionariedade do processo ARMA se resume à estacionariedade de seu componente AR, sendo controlada pela mesma equação característica que controla se um modelo AR é estacionário. Transição de ARMA para ARIMA é simples. O ARIMA inclui o termo integrado, qua se refere a quantas vezes a série temporal modelada deve ser diferenciada para gerar a estacionariedade. \n"
   ]
  },
  {
   "cell_type": "markdown",
   "id": "de0d239a-c056-4d6b-9c7f-ef1dffb6fd48",
   "metadata": {},
   "source": [
    "ARIMA: passageiros no avião, demanda de energia por combustível, vendas diárias \n",
    "\n",
    "O valor de cada parâmetro de um modelo ARIMA (p, d , q) deve ser o menor possível a fim de evitar complexidade injustificada e ajuste excessivo aos dados da amostra. Devemos desconfiar dos valores <b>d</b> quando estiverem <b>acima de 2 e dos valores p e q quando estiverem acima de 5 ou perto disso. Além disso, espera-se que os termos p ou q sejam maiores e outros sejam relativamente menores</b>."
   ]
  },
  {
   "cell_type": "markdown",
   "id": "0ea44f24-2d72-4465-a37d-9c1d3b7389f3",
   "metadata": {},
   "source": [
    "## Selecionando parâmetros "
   ]
  },
  {
   "cell_type": "markdown",
   "id": "263e144d-61dc-456c-a7a4-4e3ebc9b3ccd",
   "metadata": {},
   "source": [
    "O modelo ARIMA é especificado em termos de parâmetros (p,q, d). \n",
    "\n",
    "ARIMA(0,0,0) é um modelo de ruído branco.\n",
    "\n",
    "ARIMA(0,1,0) é um passeio aleatório e com uma constante diferente de zero é um passeio aleatório com drift (deslocamento). \n",
    "\n",
    "ARIMA(0,1,1) é um modelo de suavizaçõa exponencial; \n",
    "\n",
    "ARIMA(0,2,2) é o mesmo método linear de Holt, que estende a suavização exponencial para dados com uma tendência, de modo que possa ser usado para prever dados com uma tendência subjacente. \n",
    "\n",
    "\n",
    "\n",
    "Escolhemos a ordem de nosso modelo de nosso modelo com base em uma combinação de conhecimento de domínio, diversas métricas de avaliação de ajuste (como o AIC) e conhecimento de como a PACF e a ACF devem figurar em um determinado processo subjacente. "
   ]
  },
  {
   "cell_type": "markdown",
   "id": "57f95bff-b1ff-4bf7-a63b-eca3633e40e2",
   "metadata": {},
   "source": [
    "* Heurísticas são estratégias práticas que diminuem o tempo de tomada de decisão e permitem que as pessoas funcionem sem parar constantemente para pensar em seu próximo curso de ação."
   ]
  },
  {
   "cell_type": "markdown",
   "id": "44d61803-d02e-4d0a-849d-d180c3dfc742",
   "metadata": {},
   "source": [
    "Ajustando um modelo manualmente\n",
    "\n",
    "Existem heurística para escolher os parâmetros de um modelo ARIMA, em que a <I>parcimônia é fundamental</I>. Um método popular e há muito defendido é o <b>método de Box-Jenkins</b> , um processo iterativo com várias etapas:\n",
    "\n",
    "1) dados com visualizações e conhecimentos subjacentes, para selecionra a classe de modelo apropriado. \n",
    "\n",
    "2) Estime os parâmetos de acordo com seus dados de treinamento. \n",
    "\n",
    "3) Avalie o desempenho de seu modelo com base em seus dados de treinamento e ajuste os parâmetros do modelo para abordar as lacunas que você identifica no diagnóstico de desempenho. "
   ]
  },
  {
   "cell_type": "code",
   "execution_count": 214,
   "id": "340860f7-84c9-49fa-8d96-d9329d56b7ef",
   "metadata": {},
   "outputs": [
    {
     "name": "stdout",
     "output_type": "stream",
     "text": [
      "Time Series:\n",
      "Start = 1 \n",
      "End = 1000 \n",
      "Frequency = 1 \n",
      "   [1]  0.145082882 -0.719479501  0.379200350  0.362177574 -0.734863292\n",
      "   [6] -1.168732577 -0.722946693  1.053495484  2.584695265  0.845664767\n",
      "  [11] -1.060635661 -1.928536860  0.064958384 -0.370060248 -0.063783559\n",
      "  [16]  0.337245986  0.099786752  0.892604584  1.366952541  0.548364987\n",
      "  [21]  1.523129284  1.858301901  1.609180427  1.944678679 -0.217201898\n",
      "  [26] -1.317013313 -1.558892547 -1.433040223 -0.739582003 -1.460597212\n",
      "  [31] -1.475732925 -1.080219824 -0.886875094  0.748755843  0.719219834\n",
      "  [36] -0.237036243 -0.676247828 -1.806257977 -2.321765215 -0.576322352\n",
      "  [41] -0.022955122 -1.223113505 -2.807898773 -1.636945366 -0.289155673\n",
      "  [46]  0.123820265  1.275942240 -0.858120287 -2.736984116 -0.790638396\n",
      "  [51] -0.374754466 -0.738625965 -0.053453378  1.308427497  0.170784296\n",
      "  [56] -1.046535448 -0.769788255 -0.076017664 -0.620633375 -0.329561210\n",
      "  [61] -0.730705598 -0.574193130 -1.980462832 -1.727204554 -0.084188466\n",
      "  [66]  0.251317796  0.016454210  0.090063567 -1.431444176 -1.956694947\n",
      "  [71] -1.141938629 -1.074284119  0.777714732  1.986660061  0.845376202\n",
      "  [76] -0.551148957 -1.435130848 -3.056234896 -1.569010756 -1.014434140\n",
      "  [81] -2.082248878 -1.610359349 -0.725067251  1.437461644  1.224040706\n",
      "  [86] -0.156103839 -0.784919946  0.684234322 -0.452669415 -1.776351154\n",
      "  [91] -2.896446240 -4.623040529 -4.860701011 -2.463841600 -1.021870376\n",
      "  [96] -1.149734652  0.083361203  0.888499554 -0.950819805 -0.084099204\n",
      " [101]  0.202240697 -0.934338043 -0.057781184 -1.469276750 -0.810089391\n",
      " [106]  0.877282959  1.980477077 -0.469554012 -0.438648959 -3.475462504\n",
      " [111] -2.554881650 -1.078120805  0.034542169  0.086293353 -0.271044014\n",
      " [116]  1.323077034  1.582504682  0.411203454  0.671484013  1.473942244\n",
      " [121]  1.275362641  1.006508735 -0.786494049 -0.274952486  0.629942914\n",
      " [126]  0.621168902  1.114712649  0.345897068  0.804857144  1.505282644\n",
      " [131]  0.884347134  0.147219363 -2.734402357 -2.998518922 -2.887997849\n",
      " [136] -1.102735632 -0.346978243  1.674022190  1.695676876  0.510648352\n",
      " [141] -0.308824345 -1.350831537 -1.959416091 -1.900612886 -1.015470439\n",
      " [146]  0.373899687  0.657065527  2.626083604  2.924338588  3.189046595\n",
      " [151]  0.093237532 -0.974711752 -0.237464140  0.398566839 -1.462482994\n",
      " [156] -3.222774665 -3.683072311 -1.984306777 -1.156430897 -2.064415423\n",
      " [161] -1.205614980 -1.590563422 -2.438396046 -0.975830878 -1.226101960\n",
      " [166] -1.783314610  0.135668829  2.278385642  2.039550852 -0.551584850\n",
      " [171]  0.077538527  1.630087976  3.322509998  2.719700547  0.261278422\n",
      " [176] -0.915932844 -2.105426999 -1.331634888 -0.719145256  0.114203925\n",
      " [181]  0.226483369  0.412813974  0.782406119  1.766060210  0.418902743\n",
      " [186]  1.749077550  1.766896503  1.945524288  3.352961068  3.348224531\n",
      " [191]  2.053691054  1.130319513  0.848063348 -0.418416075 -0.635771858\n",
      " [196]  0.548269100 -0.724658956 -0.702182294 -2.299161490 -4.757942726\n",
      " [201] -3.460474179 -0.364968012  0.725469325  0.808309989  0.406537364\n",
      " [206]  0.696990488 -0.406122213 -0.867479485  1.762689920  2.845928745\n",
      " [211]  1.466434484  2.554947830  1.392108647 -0.250921252 -1.235187219\n",
      " [216] -2.020518727 -0.305549581  0.075259284  1.217416814  2.296733538\n",
      " [221]  2.016188262 -0.395408930 -0.401762609 -1.020955508  1.513155131\n",
      " [226]  1.195901234 -1.407967274 -2.013946533 -0.338973443 -0.390055267\n",
      " [231] -0.921782905 -1.771676386 -1.354810725 -0.167437946  1.199826944\n",
      " [236]  0.934260299 -0.081753333  0.167566143  0.558308380  0.246625376\n",
      " [241]  1.999008180  0.620693817  0.606069048  1.316663915  0.774788081\n",
      " [246]  1.778377972  1.965766104  1.202913469 -0.564176044 -0.987637639\n",
      " [251]  0.128486693  1.352465197 -1.098683460 -2.658165407 -2.146977080\n",
      " [256]  0.084021644  1.932793929 -0.623288308 -1.103959589 -0.406995410\n",
      " [261]  0.413943216  0.263053206 -1.088255948 -1.156453463 -1.763780928\n",
      " [266] -2.139910542 -1.626121699 -0.252591687  0.520765613  0.426427972\n",
      " [271] -1.412620240 -1.339839098 -1.091394814 -2.812875051 -3.983111735\n",
      " [276] -3.466664682 -2.231138737 -1.377465430 -0.700032730  0.269859982\n",
      " [281]  0.085047320 -0.797618163 -0.958965257 -1.862687872 -2.114859547\n",
      " [286]  0.884387386  1.844539388  1.329646924  2.413790152  0.291578503\n",
      " [291] -2.181603071 -0.681788981 -0.885553331 -1.006760778 -0.630093880\n",
      " [296]  1.334035865  0.505315479  0.111427495 -1.479698724  0.298857778\n",
      " [301]  0.811296404  0.004026983 -0.651788378  0.025095600 -0.185166171\n",
      " [306] -0.085693255 -0.572383364 -0.959096375  0.843600126  0.484524531\n",
      " [311] -0.797793397 -2.104512855 -0.719988892 -0.499045842 -0.179443277\n",
      " [316] -0.212579728 -1.333182979  0.623223434  0.776351415 -0.216479633\n",
      " [321] -0.472252090  0.399522072  2.172102712  1.827779017  2.046570627\n",
      " [326]  0.598674529  1.909681046 -0.782672075 -0.924237811  0.819567984\n",
      " [331]  1.937510343  2.232425632  0.548733955 -1.286390354 -1.006386689\n",
      " [336]  1.735963263  2.579432095  1.336073639 -0.534402982 -1.053294644\n",
      " [341] -0.358943663  0.769829144  0.549823449  2.172852261  1.869142103\n",
      " [346]  2.712510227  3.362642453  1.098782264  1.711269122  1.102780670\n",
      " [351]  0.675328650  1.214608172  0.049219670 -0.556311139  1.645647946\n",
      " [356]  2.320305253 -1.264047378 -1.675965978 -0.936489943 -0.535575033\n",
      " [361] -0.838941267  0.906554832  0.089290987 -1.259977579 -1.974378563\n",
      " [366] -0.326631105 -1.628351476 -2.156331265 -1.801833420 -2.813121187\n",
      " [371] -0.599461385 -1.468229652 -1.911484210 -1.178482357 -0.694145218\n",
      " [376] -0.406133405  1.155597744 -0.147171979  1.242525588  0.414436764\n",
      " [381] -0.283749781 -1.139094287 -0.196504514  1.216738001  0.751776628\n",
      " [386]  0.675641269 -0.445536053 -1.265219977 -2.289933525 -0.811631011\n",
      " [391]  1.001563141  2.052037132  0.907035350 -1.606529301 -0.890648366\n",
      " [396]  0.105134039  0.342623287 -1.084406225  0.731226950 -0.062281306\n",
      " [401]  0.929770432  0.613143384 -0.807889620 -1.860915068 -0.929527436\n",
      " [406] -0.915164728  0.324222248 -0.721617066 -0.490653845 -1.141318230\n",
      " [411] -0.648031262 -0.861978201 -0.940430867  0.075862130  1.193390771\n",
      " [416]  0.941113493  1.036181516  0.386540097  0.313689411  0.213536431\n",
      " [421]  0.782358013 -0.512108800 -0.324338832  1.659296054  0.148997114\n",
      " [426] -0.514502628 -2.009320626 -0.126216360  1.042205475  2.306655698\n",
      " [431]  3.446811134  2.734472157  0.121134206 -0.061383234  0.396978423\n",
      " [436] -0.281888639 -0.939071733 -2.460003005 -1.578789080  0.040758894\n",
      " [441] -0.455820643 -0.465020954  0.039770370 -1.301903268 -1.117501195\n",
      " [446] -1.794889370 -2.044854344 -1.735864741 -0.999029833  0.511247845\n",
      " [451]  1.495620256 -1.499869018 -1.120385516  1.017515462  0.314613323\n",
      " [456]  0.688447582 -0.442957598 -1.029541504 -1.679794479 -1.337742993\n",
      " [461] -1.918182916 -2.560157894 -2.938841496 -1.197654726  0.577398524\n",
      " [466]  1.680017606  1.823268623  2.863411286  1.065646382 -0.167226698\n",
      " [471]  0.376550323  0.245795022  0.887787368  0.423480892  0.334607740\n",
      " [476]  1.166501490  1.999581429  2.110790802  2.032795899  0.647190338\n",
      " [481]  0.690449410 -0.636018305 -0.930171310 -1.946659817 -2.189823845\n",
      " [486] -1.469439018 -0.386453614 -1.434131486  0.436432240  1.945861190\n",
      " [491]  1.620170898 -0.834352128 -1.208395154  0.264615139  0.408548975\n",
      " [496]  0.013672594  0.897545601  0.769474175  0.123487351  1.020544191\n",
      " [501] -0.372538860  0.402552420  1.175899655  2.403040282  1.605918117\n",
      " [506]  1.860637789  1.874976393  0.260157467  0.087098161  0.025519810\n",
      " [511]  1.743339712  2.126838318  2.300228889  0.034806013 -1.617237038\n",
      " [516] -0.799719449 -1.796012767 -1.242985645  0.130079848 -0.137496394\n",
      " [521] -0.622079185  0.094504017  0.048199316 -1.163229757 -0.962077393\n",
      " [526]  0.677312981 -0.145530930  0.410478015  1.079607471  0.205851680\n",
      " [531] -0.401969382 -0.926606649 -0.269962019 -0.332246090 -0.056871657\n",
      " [536]  0.073800755  0.962885013 -0.017233915 -0.442931289 -0.607369509\n",
      " [541]  0.883687233  2.570621737  1.792676316  2.109651163  3.043183168\n",
      " [546]  3.585073451  1.143572139  0.726609539  1.056084986  1.000879231\n",
      " [551]  0.522842115 -2.247865189 -2.274577901 -1.088194723 -0.220163634\n",
      " [556] -0.346556270 -1.388634487 -2.541072152 -1.318459263  0.429443923\n",
      " [561] -0.669920327 -1.390364553  0.069380531  1.258358644  2.631380483\n",
      " [566]  2.391189221  1.942820587  0.260928824 -0.142722593 -0.314596720\n",
      " [571]  0.521021673  1.261375033  1.980160952  2.686423165  2.498159282\n",
      " [576]  2.351897399  2.443354649  3.557076416  0.862060325 -0.104327625\n",
      " [581]  0.030408327 -1.139033146 -1.684347321 -1.857466424 -2.011665922\n",
      " [586] -1.083099257 -2.355483273 -2.876640454 -1.748362459 -0.667419179\n",
      " [591] -0.526146171 -0.726079292 -0.505537060 -0.470744869  0.128144460\n",
      " [596] -0.164517816  1.007550133  2.059438658  0.711404414 -1.777538824\n",
      " [601]  1.443536055  1.870271728  1.262862620  0.214219061 -0.309257970\n",
      " [606] -0.257054631 -0.073705224  0.868153558 -0.074192734 -0.615687143\n",
      " [611] -1.777898158 -0.654202679  0.757900292  0.937970083 -0.533705239\n",
      " [616] -0.551796843 -0.853325072 -0.791082811  0.800658967 -0.336552442\n",
      " [621] -0.924235062  0.120170183 -0.961673247 -0.944385770 -0.423712646\n",
      " [626]  0.713904702 -0.231954576  0.875642993  1.007856130  2.202225400\n",
      " [631]  1.804941484  1.437495725 -0.237531996 -1.315492272 -0.737528833\n",
      " [636] -1.118787261  1.661981505  0.872475493 -0.417187492 -0.623913504\n",
      " [641]  0.509805404 -0.243907211  0.439900273  0.353437625  0.135413709\n",
      " [646]  1.688581430  1.137006864 -1.016556643 -0.692450925  0.326362145\n",
      " [651]  1.429258835  2.100270140  0.548044691 -1.960362252 -1.687165034\n",
      " [656] -0.987488440 -2.199463302 -1.890031547 -0.292176661  0.872721833\n",
      " [661]  0.052476319 -1.676156476 -2.206571781 -1.798026139 -1.183244162\n",
      " [666] -0.875165307  1.454469515  0.475642910 -0.059744033  0.582741921\n",
      " [671] -0.522459750 -0.337249921  0.097076072  0.020690419 -0.646602409\n",
      " [676] -0.185424698  1.298077175  3.007158235 -0.010246326 -0.186716843\n",
      " [681]  0.226450885 -0.252397140  0.748349052  1.178002120 -0.682470759\n",
      " [686] -0.148964101 -0.264318970  0.081522241  0.218114810  0.904854005\n",
      " [691]  2.178714026  1.774571283  0.810059161 -0.604447796 -0.480036768\n",
      " [696] -0.554316037 -2.453371707 -2.713995791 -1.179028086  0.906032095\n",
      " [701] -0.403225498  0.926499227  1.205018296  0.214056937 -0.017737189\n",
      " [706]  0.642263374  1.412784145  1.558297590 -0.304655549  0.642096160\n",
      " [711]  1.655965525  1.487058696  0.017770730  0.804221731  1.015446909\n",
      " [716]  1.528972142  0.717701189  1.549997146  1.074920902  0.804214117\n",
      " [721]  1.854287573  1.611553186  0.951751528  0.875921101 -0.499281170\n",
      " [726] -1.003184389 -0.311775518 -0.659566466 -1.350771541  0.087107036\n",
      " [731]  0.393961354  1.274473296  3.265933036  1.561299051 -0.556547808\n",
      " [736]  0.118042694  1.973020817  1.491313562  1.247409598 -0.326437789\n",
      " [741] -0.906043615 -1.135969792 -1.960315062 -1.848169446 -2.001973427\n",
      " [746] -1.785611017  1.609327108 -0.020124620 -1.584053741 -1.165481726\n",
      " [751]  0.247952917  1.387251990  1.905941726  0.925898355  0.244173101\n",
      " [756]  1.726020637  0.151354796 -0.087540179 -0.134296436 -0.190800476\n",
      " [761]  0.607110735 -0.083303350 -0.558041298 -1.323207410  1.149247456\n",
      " [766]  4.308893409  3.329652666  1.511566803  1.339528649  1.605734259\n",
      " [771]  1.270041731  0.967189970  1.674616084  0.462149835 -2.206592778\n",
      " [776] -1.423787904 -1.938513265 -2.161217403 -2.827271008 -2.012874025\n",
      " [781] -0.661503010 -0.328907686 -1.057215792 -1.257794622 -0.267166085\n",
      " [786] -1.065491109  0.281512782  0.583569486  1.251387967  2.923870993\n",
      " [791]  1.978875537  1.554027211 -1.054391894 -2.011867941 -2.358373607\n",
      " [796] -1.101893320 -0.315573804  0.478939184 -0.764166525 -0.122251832\n",
      " [801] -1.237553016 -1.007200832 -1.004768129 -2.185548008 -1.901644958\n",
      " [806] -2.289098257 -2.978298870 -2.116650044  0.085246866 -0.167687822\n",
      " [811]  0.482890081  0.985112302  1.099826088  0.130318526  0.347071555\n",
      " [816] -0.750319753  0.907131083  2.577781778  2.392464521  1.176788944\n",
      " [821] -0.183119579  0.839458385  1.445420151  1.166256289  1.877640541\n",
      " [826]  1.250534075 -0.956384136 -2.865736401 -3.020791563 -2.322919571\n",
      " [831] -1.527761952 -0.319517847 -0.652740873  0.124008588  0.090705731\n",
      " [836]  0.205177965 -0.067927077 -0.001594560  1.840108061  1.197326267\n",
      " [841] -0.879137975  0.091330016 -0.555085845 -0.950892043 -0.098668113\n",
      " [846] -0.140703823 -0.912467674 -1.156891410 -0.764290043 -1.467217329\n",
      " [851] -3.713584802 -2.330144962 -1.395259194 -0.407819389 -0.596443562\n",
      " [856]  2.141136408  2.784369661  2.171339912  3.071134306  2.510048907\n",
      " [861]  2.027405568  0.629321786  0.248063964 -0.194632622  0.861003293\n",
      " [866]  0.510124475 -0.004633184 -0.117471949  0.513427793  0.858163676\n",
      " [871]  1.664159802  1.082395676  1.440677105  2.911452261  3.883555123\n",
      " [876]  3.068935011  3.377097094  3.364149611  3.505999617  2.727673442\n",
      " [881]  1.521420031  0.429547472 -1.520565000 -0.866323350  0.713883768\n",
      " [886] -1.074161565 -1.950492112 -0.972247478  1.061135799 -0.481258553\n",
      " [891] -0.532278542  0.701622332  1.201880581  1.020422795 -0.952655579\n",
      " [896] -1.990781383 -2.395794309 -1.931272387 -1.270259984  1.308750824\n",
      " [901]  0.475876299  1.387287876 -1.219138218 -2.560877854 -1.413162854\n",
      " [906] -0.425918557  0.694934412  0.148632728  0.426903804  0.609796275\n",
      " [911]  1.102701116  1.827933085  1.366001450 -0.397383806 -0.510752513\n",
      " [916] -1.687977489 -0.160292920 -0.406752591 -1.922446954 -2.070485136\n",
      " [921] -0.063047502  0.493576091 -0.070746335 -0.760502872 -0.649368960\n",
      " [926] -1.155895367  0.462494905  1.646419794 -0.015774040 -2.618963061\n",
      " [931] -2.379194593 -0.841288450 -0.906022763 -0.607000351 -0.779541236\n",
      " [936] -2.805744311 -3.934862091 -3.773535514  0.008712435  0.800475626\n",
      " [941] -1.491922258 -2.652498983 -3.680752925 -3.459752850 -2.217499466\n",
      " [946] -2.363522946 -0.597086383 -0.779804451  0.241100288 -0.170890862\n",
      " [951] -0.423605101 -0.732914896 -1.630256778 -1.601751250 -0.449524330\n",
      " [956]  1.139101577  1.469505612 -0.952047380  0.565658608  0.878840434\n",
      " [961]  2.557346344  2.270883343  1.045066597  1.122158226  1.901608928\n",
      " [966]  1.512856203  1.195335167  0.601805462  0.498142688  0.947916291\n",
      " [971]  2.050970125  1.358859484  0.963829001  2.278461487  0.708904995\n",
      " [976]  1.103366409  0.497414718  0.125758618 -0.438032545 -2.381959319\n",
      " [981] -1.710780540 -0.373624885 -0.150643015 -0.834990240  0.983819011\n",
      " [986]  1.313549703  0.441389271 -0.593326759 -0.396024490  0.769578672\n",
      " [991]  0.828979757  0.794614839  2.331013673  0.200401237 -0.803154699\n",
      " [996] -1.464778612 -1.989101823  0.218007055 -2.686718536 -2.365369139\n"
     ]
    },
    {
     "name": "stderr",
     "output_type": "stream",
     "text": [
      "R[write to console]: Saving 7 x 7 in image\n",
      "\n"
     ]
    }
   ],
   "source": [
    "import rpy2.robjects as robjects\n",
    "\n",
    "codigo = \"\"\"\n",
    "require(forecast)\n",
    "require(ggplot2)\n",
    "\n",
    "set.seed(1017)\n",
    "y = arima.sim(n = 1000, list(ar = 0.5, ma = 0.3))\n",
    "\n",
    "y1 <- y\n",
    "print(y1)\n",
    "autoplot(y1) + ggtitle('Série temporal gerada')\n",
    "\n",
    "ggsave('Figura12.png')\n",
    "\"\"\"\n",
    "robjects.r(codigo)"
   ]
  },
  {
   "cell_type": "markdown",
   "id": "bdfb3dc1-c21d-4f8e-a7b9-098989ea4dba",
   "metadata": {},
   "source": [
    "<img src=\"Figura12.png\"  alt=\"previsao\" width=\"670\" height=\"100\"/>\n"
   ]
  },
  {
   "cell_type": "code",
   "execution_count": 215,
   "id": "71829a80-7c85-4951-9e17-d4ee8f303e81",
   "metadata": {},
   "outputs": [
    {
     "name": "stderr",
     "output_type": "stream",
     "text": [
      "R[write to console]: Saving 7 x 7 in image\n",
      "\n"
     ]
    }
   ],
   "source": [
    "import rpy2.robjects as robjects\n",
    "\n",
    "# Código R como string\n",
    "codigo = \"\"\"\n",
    "require(forecast)\n",
    "require(ggplot2)\n",
    "\n",
    "set.seed(1017)\n",
    "y <- arima.sim(n = 1000, list(ar = 0.5, ma = 0.3))\n",
    "\n",
    "y1 <- y\n",
    "autoplot(y1) + ggtitle('Série temporal gerada')\n",
    "\n",
    "# Salva o gráfico como um arquivo PNG\n",
    "ggsave('Figura12-1.png', plot = last_plot(), device = 'png')\n",
    "\"\"\"\n",
    "robjects.r(codigo)"
   ]
  },
  {
   "cell_type": "markdown",
   "id": "cfb69ac5-86e7-4653-8ce9-57d8447789b8",
   "metadata": {},
   "source": [
    "<img src=\"Figura12-1.png\"  alt=\"previsao\" width=\"670\" height=\"100\"/>"
   ]
  },
  {
   "cell_type": "code",
   "execution_count": 216,
   "id": "c68fa204-5cab-43a3-a1d7-356ee651006f",
   "metadata": {},
   "outputs": [
    {
     "data": {
      "text/html": [
       "\n",
       "        <span>IntVector with 1 elements.</span>\n",
       "        <table>\n",
       "        <tbody>\n",
       "          <tr>\n",
       "          \n",
       "            <td>\n",
       "            1\n",
       "            </td>\n",
       "          \n",
       "          </tr>\n",
       "        </tbody>\n",
       "        </table>\n",
       "        "
      ],
      "text/plain": [
       "<rpy2.robjects.vectors.IntVector object at 0x700d4c20dc90> [13]\n",
       "R classes: ('integer',)\n",
       "[1]"
      ]
     },
     "execution_count": 216,
     "metadata": {},
     "output_type": "execute_result"
    }
   ],
   "source": [
    "\n",
    "codigo = \"\"\"\n",
    "\n",
    "\n",
    "png(filename = \"Figura13.png\")\n",
    "     \n",
    "acf(y1)\n",
    "\n",
    "dev.off()\n",
    "\"\"\"\n",
    "robjects.r(codigo)\n"
   ]
  },
  {
   "cell_type": "markdown",
   "id": "05857bf0-09d3-4d71-b2c7-34e6335b4320",
   "metadata": {},
   "source": [
    "<img src=\"Figura13.png\"  alt=\"previsao\" width=\"670\" height=\"100\"/>"
   ]
  },
  {
   "cell_type": "code",
   "execution_count": 217,
   "id": "74281039-e6a0-48a9-9948-316d3ebd10c6",
   "metadata": {},
   "outputs": [
    {
     "data": {
      "text/html": [
       "\n",
       "        <span>IntVector with 1 elements.</span>\n",
       "        <table>\n",
       "        <tbody>\n",
       "          <tr>\n",
       "          \n",
       "            <td>\n",
       "            1\n",
       "            </td>\n",
       "          \n",
       "          </tr>\n",
       "        </tbody>\n",
       "        </table>\n",
       "        "
      ],
      "text/plain": [
       "<rpy2.robjects.vectors.IntVector object at 0x700dac1fb6d0> [13]\n",
       "R classes: ('integer',)\n",
       "[1]"
      ]
     },
     "execution_count": 217,
     "metadata": {},
     "output_type": "execute_result"
    }
   ],
   "source": [
    "codigo = \"\"\"\n",
    "\n",
    "\n",
    "png(filename = \"Figura14.png\")\n",
    "     \n",
    "pacf(y1)\n",
    "\n",
    "dev.off()\n",
    "\"\"\"\n",
    "robjects.r(codigo)"
   ]
  },
  {
   "cell_type": "markdown",
   "id": "f59d9683-a396-46ce-8476-a913113e874e",
   "metadata": {},
   "source": [
    "<img src=\"Figura14.png\"  alt=\"previsao\" width=\"670\" height=\"100\"/>"
   ]
  },
  {
   "cell_type": "markdown",
   "id": "87d3eabf-29f4-46c8-8444-bc2468d4a10e",
   "metadata": {},
   "source": [
    "\n",
    "Podemos ver que nem a função ACF tampouco a PACF têm um cutoff acentuado, sugerindo que temos um proceso ARMA. Começamos ajustando um modelo ARIMA (1,0,1) relativamente simples, pois não vemos necessidade de diferenciação e nenhuma evidência:\n",
    "\n"
   ]
  },
  {
   "cell_type": "code",
   "execution_count": 218,
   "id": "bd93503b-3f79-4b59-960a-37b71fbe1b99",
   "metadata": {},
   "outputs": [
    {
     "name": "stdout",
     "output_type": "stream",
     "text": [
      "Series: y \n",
      "ARIMA(1,0,1) with non-zero mean \n",
      "\n",
      "Coefficients:\n",
      "         ar1     ma1     mean\n",
      "      0.5080  0.3595  -0.0410\n",
      "s.e.  0.0365  0.0387   0.0878\n",
      "\n",
      "sigma^2 = 1.016:  log likelihood = -1425.64\n",
      "AIC=2859.28   AICc=2859.32   BIC=2878.91\n"
     ]
    }
   ],
   "source": [
    "codigo = \"\"\"\n",
    "\n",
    "ari.ma1.model = Arima(y, order= c(1,0,1))\n",
    "par(mfrow = c(2,1))\n",
    "print(ari.ma1.model)\n",
    "\n",
    "\n",
    "\n",
    "\"\"\"\n",
    "robjects.r(codigo)\n"
   ]
  },
  {
   "cell_type": "code",
   "execution_count": 219,
   "id": "32fd34b6-1ebd-448f-b62b-288c82bf0c84",
   "metadata": {},
   "outputs": [
    {
     "data": {
      "text/html": [
       "\n",
       "        <span>IntVector with 1 elements.</span>\n",
       "        <table>\n",
       "        <tbody>\n",
       "          <tr>\n",
       "          \n",
       "            <td>\n",
       "            2\n",
       "            </td>\n",
       "          \n",
       "          </tr>\n",
       "        </tbody>\n",
       "        </table>\n",
       "        "
      ],
      "text/plain": [
       "<rpy2.robjects.vectors.IntVector object at 0x700d48fbd810> [13]\n",
       "R classes: ('integer',)\n",
       "[2]"
      ]
     },
     "execution_count": 219,
     "metadata": {},
     "output_type": "execute_result"
    }
   ],
   "source": [
    "codigo = \"\"\"\n",
    "\n",
    "\n",
    "png(filename = \"Figura15.png\")\n",
    "     \n",
    "acf(ari.ma1.model$residuals)\n",
    "\n",
    "dev.off()\n",
    "\"\"\"\n",
    "robjects.r(codigo)"
   ]
  },
  {
   "cell_type": "markdown",
   "id": "7cfb5327-7d22-4eac-8b5f-f64a70b0803d",
   "metadata": {},
   "source": [
    "<img src=\"Figura15.png\"  alt=\"previsao\" width=\"670\" height=\"100\"/>"
   ]
  },
  {
   "cell_type": "code",
   "execution_count": 220,
   "id": "2437a7d8-17e5-4d6b-b08a-c6b6ce39e275",
   "metadata": {},
   "outputs": [
    {
     "data": {
      "text/html": [
       "\n",
       "        <span>IntVector with 1 elements.</span>\n",
       "        <table>\n",
       "        <tbody>\n",
       "          <tr>\n",
       "          \n",
       "            <td>\n",
       "            2\n",
       "            </td>\n",
       "          \n",
       "          </tr>\n",
       "        </tbody>\n",
       "        </table>\n",
       "        "
      ],
      "text/plain": [
       "<rpy2.robjects.vectors.IntVector object at 0x700dac1f90d0> [13]\n",
       "R classes: ('integer',)\n",
       "[2]"
      ]
     },
     "execution_count": 220,
     "metadata": {},
     "output_type": "execute_result"
    }
   ],
   "source": [
    "codigo = \"\"\"\n",
    "\n",
    "\n",
    "png(filename = \"Figura16.png\")\n",
    "     \n",
    "pacf(ari.ma1.model$residuals)\n",
    "\n",
    "dev.off()\n",
    "\"\"\"\n",
    "robjects.r(codigo)"
   ]
  },
  {
   "cell_type": "markdown",
   "id": "60199b90-0d05-4ca5-be3d-0d634d47b0f8",
   "metadata": {},
   "source": [
    "<img src=\"Figura16.png\"  alt=\"previsao\" width=\"670\" height=\"100\"/>"
   ]
  },
  {
   "cell_type": "markdown",
   "id": "7754e135-c6dd-4193-b047-01821a198f37",
   "metadata": {},
   "source": [
    "\n",
    "ACF e PACF dos resíduos de um modelo ARIMA(1,0,1)"
   ]
  },
  {
   "cell_type": "markdown",
   "id": "3e063c83-ddee-4cd6-b001-1d5a4bacfe96",
   "metadata": {},
   "source": [
    "\n",
    "Os resíduos quando mostram valores PACF enormes sugerem que não representamos totalmente o comportamento autorregressivo. Por isso, criamos o modelo adiconando um comportamento AR de ordem superior, testamos um modelo ARIMA (2,0,1) no código a seguir e, depois plotamos a ACF e PACF dos resíduos desse modelo mais complexo. \n",
    "\n",
    "\n",
    "\n"
   ]
  },
  {
   "cell_type": "code",
   "execution_count": 221,
   "id": "d98a3f88-81e9-44e2-b083-decd155f12e5",
   "metadata": {},
   "outputs": [
    {
     "data": {
      "text/html": [
       "\n",
       "        <span>IntVector with 1 elements.</span>\n",
       "        <table>\n",
       "        <tbody>\n",
       "          <tr>\n",
       "          \n",
       "            <td>\n",
       "            2\n",
       "            </td>\n",
       "          \n",
       "          </tr>\n",
       "        </tbody>\n",
       "        </table>\n",
       "        "
      ],
      "text/plain": [
       "<rpy2.robjects.vectors.IntVector object at 0x700d47ba2c10> [13]\n",
       "R classes: ('integer',)\n",
       "[2]"
      ]
     },
     "execution_count": 221,
     "metadata": {},
     "output_type": "execute_result"
    }
   ],
   "source": [
    "\n",
    "\n",
    "codigo = \"\"\"\n",
    "png(filename = \"Figura17.png\")\n",
    "ar2.ma1.model = Arima(y, order= c(2,0,1))\n",
    "plot(y, type ='l')\n",
    "lines(ar2.ma1.model$fitted, col =2)\n",
    "plot(y, ar2.ma1.model$fitted)\n",
    "\n",
    "dev.off()\n",
    "\"\"\"\n",
    "robjects.r(codigo)\n",
    "\n"
   ]
  },
  {
   "cell_type": "markdown",
   "id": "ffeba0bf-7c58-45ae-accb-f46603eedc11",
   "metadata": {},
   "source": [
    "<img src=\"Figura17.png\"  alt=\"previsao\" width=\"670\" height=\"100\"/>"
   ]
  },
  {
   "cell_type": "code",
   "execution_count": 223,
   "id": "4315b8dd-5f5d-4d88-93d8-8b6e45170939",
   "metadata": {},
   "outputs": [
    {
     "data": {
      "text/html": [
       "\n",
       "        <span>IntVector with 1 elements.</span>\n",
       "        <table>\n",
       "        <tbody>\n",
       "          <tr>\n",
       "          \n",
       "            <td>\n",
       "            2\n",
       "            </td>\n",
       "          \n",
       "          </tr>\n",
       "        </tbody>\n",
       "        </table>\n",
       "        "
      ],
      "text/plain": [
       "<rpy2.robjects.vectors.IntVector object at 0x700d47ba5d10> [13]\n",
       "R classes: ('integer',)\n",
       "[2]"
      ]
     },
     "execution_count": 223,
     "metadata": {},
     "output_type": "execute_result"
    }
   ],
   "source": [
    "\n",
    "codigo = \"\"\"\n",
    "\n",
    "par(mfrow = c(2,1))\n",
    "\n",
    "png(filename = \"Figura18.png\")\n",
    "     \n",
    "acf(ar2.ma1.model$residuals)\n",
    "\n",
    "dev.off()\n",
    "\"\"\"\n",
    "robjects.r(codigo)\n"
   ]
  },
  {
   "cell_type": "markdown",
   "id": "cfaeb99c-38fd-4a18-a7a2-2ac78e5902b8",
   "metadata": {},
   "source": [
    "<img src=\"Figura18.png\"  alt=\"previsao\" width=\"670\" height=\"100\"/>"
   ]
  },
  {
   "cell_type": "code",
   "execution_count": 224,
   "id": "c1daa3cf-0fc0-4ac3-a3d0-70a2b893e21b",
   "metadata": {},
   "outputs": [
    {
     "data": {
      "text/html": [
       "\n",
       "        <span>IntVector with 1 elements.</span>\n",
       "        <table>\n",
       "        <tbody>\n",
       "          <tr>\n",
       "          \n",
       "            <td>\n",
       "            2\n",
       "            </td>\n",
       "          \n",
       "          </tr>\n",
       "        </tbody>\n",
       "        </table>\n",
       "        "
      ],
      "text/plain": [
       "<rpy2.robjects.vectors.IntVector object at 0x700d47ba3110> [13]\n",
       "R classes: ('integer',)\n",
       "[2]"
      ]
     },
     "execution_count": 224,
     "metadata": {},
     "output_type": "execute_result"
    }
   ],
   "source": [
    "codigo = \"\"\"\n",
    "\n",
    "par(mfrow = c(2,1))\n",
    "\n",
    "png(filename = \"Figura19.png\")\n",
    "     \n",
    "pacf(ar2.ma1.model$residuals)\n",
    "\n",
    "dev.off()\n",
    "\"\"\"\n",
    "robjects.r(codigo)\n"
   ]
  },
  {
   "cell_type": "markdown",
   "id": "d11d2acc-e069-4f09-9aa5-42b72edea114",
   "metadata": {},
   "source": [
    "<img src=\"Figura19.png\"  alt=\"previsao\" width=\"670\" height=\"100\"/>"
   ]
  },
  {
   "cell_type": "markdown",
   "id": "43580618-5498-4e5e-8a7e-b24e0fce87bf",
   "metadata": {},
   "source": [
    "Figuras ACF e PACF com o ARIMA (2, 0, 1)"
   ]
  },
  {
   "cell_type": "markdown",
   "id": "989553f9-d294-4931-9d28-2765aff8c6d8",
   "metadata": {},
   "source": [
    "\n",
    "\n",
    "Os resíduos não devem mostrar valores enormes para as respectivas ACF  e PACF. Dada nossa vontade de um modelo parcimonoioso e os riscos de sobreajustes de um modelo ARIMA, um analista sábaio pararia por aqui mesmo, já que não temos nenhum comportamento adicional nos resíduos que precisem ser ajustados por meio de um comportamento autorregressivo, de média móvel ou de diferenciação. \n",
    "\n",
    "Os testes abaixo não teve uma melhora substancial no ajuste do modelo aos dados nem contribuíram para dminurir mais os valores ACF ou PACF. \n",
    "\n"
   ]
  },
  {
   "cell_type": "code",
   "execution_count": 225,
   "id": "32ae30aa-f15e-48ca-8501-406a179365ff",
   "metadata": {},
   "outputs": [
    {
     "name": "stdout",
     "output_type": "stream",
     "text": [
      "Series: y \n",
      "ARIMA(2,0,2) with non-zero mean \n",
      "\n",
      "Coefficients:\n",
      "          ar1     ar2     ma1     ma2     mean\n",
      "      -0.1265  0.2945  0.9997  0.2626  -0.0409\n",
      "s.e.   0.3449  0.1835  0.3437  0.1239   0.0864\n",
      "\n",
      "sigma^2 = 1.017:  log likelihood = -1425.08\n",
      "AIC=2862.16   AICc=2862.24   BIC=2891.6\n"
     ]
    },
    {
     "name": "stderr",
     "output_type": "stream",
     "text": [
      "R[write to console]: Saving 6.99 x 7 in image\n",
      "\n"
     ]
    }
   ],
   "source": [
    "codigo = \"\"\"\n",
    "\n",
    "ar2.ma2.model = Arima(y, order= c(2,0,2))\n",
    "plot(y, type ='l')\n",
    "lines(ar2.ma2.model$fitted, col =2)\n",
    "plot(y, ar2.ma2.model$fitted)\n",
    "\n",
    "par(mfrow = c(2,1))\n",
    "print(ar2.ma2.model)\n",
    "\n",
    "autoplot(ar2.ma2.model) + ggtitle(\"Arima 2,0,2\")\n",
    "\n",
    "ggsave(\"Figura20.png\")\n",
    "\n",
    "\n",
    "\"\"\"\n",
    "robjects.r(codigo)\n"
   ]
  },
  {
   "cell_type": "markdown",
   "id": "0622bfba-df4c-4406-8e1a-f5ba0a40baec",
   "metadata": {},
   "source": [
    "<img src=\"Figura20.png\"  alt=\"previsao\" width=\"670\" height=\"100\"/>"
   ]
  },
  {
   "cell_type": "code",
   "execution_count": 226,
   "id": "d0b822cb-8ba7-4798-8109-3d5208154074",
   "metadata": {},
   "outputs": [
    {
     "data": {
      "text/html": [
       "\n",
       "        <span>IntVector with 1 elements.</span>\n",
       "        <table>\n",
       "        <tbody>\n",
       "          <tr>\n",
       "          \n",
       "            <td>\n",
       "            2\n",
       "            </td>\n",
       "          \n",
       "          </tr>\n",
       "        </tbody>\n",
       "        </table>\n",
       "        "
      ],
      "text/plain": [
       "<rpy2.robjects.vectors.IntVector object at 0x700d47aa2e10> [13]\n",
       "R classes: ('integer',)\n",
       "[2]"
      ]
     },
     "execution_count": 226,
     "metadata": {},
     "output_type": "execute_result"
    }
   ],
   "source": [
    "\n",
    "codigo = \"\"\"\n",
    "\n",
    "#par(mfrow = c(2,1))\n",
    "\n",
    "png(filename = \"Figura21.png\")\n",
    "     \n",
    "acf(ar2.ma2.model$residuals)\n",
    "\n",
    "dev.off()\n",
    "\"\"\"\n",
    "robjects.r(codigo)\n"
   ]
  },
  {
   "cell_type": "markdown",
   "id": "7e59d00e-d1ef-4cd0-af3c-d82b970f4c30",
   "metadata": {},
   "source": [
    "<img src=\"Figura21.png\"  alt=\"previsao\" width=\"670\" height=\"100\"/>"
   ]
  },
  {
   "cell_type": "code",
   "execution_count": 227,
   "id": "29e3083c-be92-499b-b314-328f22d5f373",
   "metadata": {},
   "outputs": [
    {
     "data": {
      "text/html": [
       "\n",
       "        <span>IntVector with 1 elements.</span>\n",
       "        <table>\n",
       "        <tbody>\n",
       "          <tr>\n",
       "          \n",
       "            <td>\n",
       "            2\n",
       "            </td>\n",
       "          \n",
       "          </tr>\n",
       "        </tbody>\n",
       "        </table>\n",
       "        "
      ],
      "text/plain": [
       "<rpy2.robjects.vectors.IntVector object at 0x700d47ba2f90> [13]\n",
       "R classes: ('integer',)\n",
       "[2]"
      ]
     },
     "execution_count": 227,
     "metadata": {},
     "output_type": "execute_result"
    }
   ],
   "source": [
    "codigo = \"\"\"\n",
    "\n",
    "#par(mfrow = c(2,1))\n",
    "\n",
    "png(filename = \"Figura22.png\")\n",
    "     \n",
    "pacf(ar2.ma2.model$residuals)\n",
    "\n",
    "dev.off()\n",
    "\"\"\"\n",
    "robjects.r(codigo)"
   ]
  },
  {
   "cell_type": "markdown",
   "id": "4261a258-1ac2-4eb2-ae54-afb4fb02fccb",
   "metadata": {},
   "source": [
    "<img src=\"Figura22.png\"  alt=\"previsao\" width=\"670\" height=\"100\"/>"
   ]
  },
  {
   "cell_type": "code",
   "execution_count": 229,
   "id": "ec6dfddf-5ea4-447d-8778-3770d1302f88",
   "metadata": {},
   "outputs": [
    {
     "name": "stdout",
     "output_type": "stream",
     "text": [
      "Series: y \n",
      "ARIMA(2,0,2) with non-zero mean \n",
      "\n",
      "Coefficients:\n",
      "          ar1     ar2     ma1     ma2     mean\n",
      "      -0.1265  0.2945  0.9997  0.2626  -0.0409\n",
      "s.e.   0.3449  0.1835  0.3437  0.1239   0.0864\n",
      "\n",
      "sigma^2 = 1.017:  log likelihood = -1425.08\n",
      "AIC=2862.16   AICc=2862.24   BIC=2891.6\n"
     ]
    },
    {
     "name": "stderr",
     "output_type": "stream",
     "text": [
      "R[write to console]: Saving 6.99 x 7 in image\n",
      "\n"
     ]
    }
   ],
   "source": [
    "codigo = \"\"\"\n",
    "\n",
    "ar2.d1.ma2.model = Arima(y, order= c(2,1,2))\n",
    "plot(y, type ='l')\n",
    "lines(ar2.d1.ma2.model $fitted, col =2)\n",
    "plot(y, ar2.d1.ma2.model $fitted)\n",
    "\n",
    "par(mfrow = c(2,1))\n",
    "print(ar2.ma2.model)\n",
    "\n",
    "autoplot(ar2.d1.ma2.model ) + ggtitle(\"Arima 2,1,2\")\n",
    "\n",
    "ggsave(\"Figura23.png\")\n",
    "\n",
    "\n",
    "\"\"\"\n",
    "robjects.r(codigo)\n"
   ]
  },
  {
   "cell_type": "markdown",
   "id": "bf1e486b-70ba-47f1-8dbd-fa045d2f8709",
   "metadata": {},
   "source": [
    "<img src=\"Figura23.png\"  alt=\"previsao\" width=\"670\" height=\"100\"/>"
   ]
  },
  {
   "cell_type": "markdown",
   "id": "16066959-1ef5-45b7-b50d-abcd3ea9d583",
   "metadata": {},
   "source": [
    "Verificamos uma rápida comparação entre os moedlos, na qual verificamos como as previsões de um modelo ajustado se correlacionam com os valores reais."
   ]
  },
  {
   "cell_type": "code",
   "execution_count": 232,
   "id": "0b7e3020-19d0-4962-b808-1ca0b8e56329",
   "metadata": {},
   "outputs": [
    {
     "name": "stdout",
     "output_type": "stream",
     "text": [
      "[1] \"cor(y, ari.ma1.model$fitted)  \"\n",
      "[1] 0.7097294\n",
      "[1] \"cor(y, ar2.ma1.model$fitted)  \"\n",
      "[1] 0.7098755\n",
      "[1] \" cor(y, ar2.ma2.model$fitted))  \"\n",
      "[1] 0.7101243\n",
      "[1] \"cor(y, ar2.d1.ma2.model$fitted)\"\n",
      "[1] 0.7101199\n"
     ]
    }
   ],
   "source": [
    "codigo = \"\"\"\n",
    "\n",
    "print('cor(y, ari.ma1.model$fitted)  ')\n",
    "print(cor(y, ari.ma1.model$fitted))\n",
    "\n",
    "print('cor(y, ar2.ma1.model$fitted)  ')\n",
    "print(cor(y, ar2.ma1.model$fitted))\n",
    "\n",
    "\n",
    "print(' cor(y, ar2.ma2.model$fitted))  ')\n",
    "print(cor(y, ar2.ma2.model$fitted))\n",
    "\n",
    "\n",
    "print('cor(y, ar2.d1.ma2.model$fitted)')\n",
    "print(cor(y, ar2.d1.ma2.model$fitted))\n",
    "\n",
    "\"\"\"\n",
    "robjects.r(codigo)\n"
   ]
  },
  {
   "cell_type": "markdown",
   "id": "265b5fab-5955-435a-90da-0911f5d70eae",
   "metadata": {},
   "source": [
    "\n",
    "Observamos uma melhoria substancial na transição de um modelo ARIMA (1,0,1) para um modelo ARIMA (2,0,1) (os dois primeiros modelos), pois a correlação vai de 0,7097294 para 0,7098755. Por outro lado, conforme adicionamos mais complexidade, vemos mehorias substaciais na correlação, em especial ARIMA(2,0,2) como o 0,7101243.\n",
    "\n",
    "Isso valida nossa conclusão anterior de que o modelo ARIMA(2,0,2) aparentemente representava bem o comportamento do modelo, sem necessidade de adicionar mais componentes AR ou MA para melhorar o ajuste.\n",
    "\n"
   ]
  },
  {
   "cell_type": "markdown",
   "id": "b755ebf7-6ec0-4674-a0da-bfcb5d7ee4aa",
   "metadata": {},
   "source": [
    "Aliás, podemos ver a seguir até que ponto o ajuste se saiu bem, comparando os coeficientes originais ajustados com os coeficientes ajustados:"
   ]
  },
  {
   "cell_type": "code",
   "execution_count": 234,
   "id": "cbf76882-5067-4aa8-83af-747bd58b8ac1",
   "metadata": {},
   "outputs": [
    {
     "data": {
      "text/html": [
       "\n",
       "        <span>FloatVector with 4 elements.</span>\n",
       "        <table>\n",
       "        <tbody>\n",
       "          <tr>\n",
       "          \n",
       "            <td>\n",
       "            0.571831\n",
       "            </td>\n",
       "          \n",
       "            <td>\n",
       "            -0.051871\n",
       "            </td>\n",
       "          \n",
       "            <td>\n",
       "            0.299684\n",
       "            </td>\n",
       "          \n",
       "            <td>\n",
       "            -0.040888\n",
       "            </td>\n",
       "          \n",
       "          </tr>\n",
       "        </tbody>\n",
       "        </table>\n",
       "        "
      ],
      "text/plain": [
       "<rpy2.robjects.vectors.FloatVector object at 0x700d47a76f50> [14]\n",
       "R classes: ('numeric',)\n",
       "[0.571831, -0.051871, 0.299684, -0.040888]"
      ]
     },
     "execution_count": 234,
     "metadata": {},
     "output_type": "execute_result"
    }
   ],
   "source": [
    "\n",
    "\n",
    "codigo = \"\"\"\n",
    "#R\n",
    "\n",
    "y = arima.sim(n = 1000, list(ar = c(0.8,-0.4), ma = c(-0.7)))\n",
    "ar2.ma1.model$coef\n",
    "\n",
    "\n",
    "\n",
    "\n",
    "\"\"\"\n",
    "robjects.r(codigo)"
   ]
  },
  {
   "cell_type": "code",
   "execution_count": 235,
   "id": "a6f2e6a4-55bb-4e6f-a60e-b9178ee61287",
   "metadata": {},
   "outputs": [],
   "source": [
    "# ar1  ar2 ma1 intercept\n",
    "#\t-0.051871\t0.299684\t-0.040888"
   ]
  },
  {
   "cell_type": "markdown",
   "id": "f51c8ecd-fe7d-4e01-a9b1-b3c31d97a3a0",
   "metadata": {},
   "source": [
    "Isso é para uma boa correspondência entre os coeficientes ajustados e os coeficientes reais utilizados para simular os dados.\n",
    "\n",
    "\n",
    "\n",
    "a diferenciação excessiva de um modelo, quando o padrão nos resíduos sinaliza determinados problemas e assim por diante. "
   ]
  },
  {
   "cell_type": "markdown",
   "id": "cb8a9ad6-62f6-498e-bd43-b005ce69537d",
   "metadata": {},
   "source": [
    "\n",
    "\n",
    "\n",
    "# ajuste de modelo automatizado.\n",
    "O modelo automatizado, ou seja a seleção do modelo dependerá de vários critérios de perda de informação de perda de informação, como o AIC visto brevemente por meio da função auto.arima() do pacote forecast. \n",
    "\n"
   ]
  },
  {
   "cell_type": "code",
   "execution_count": 239,
   "id": "ac97caa1-0cb5-4a1d-8f94-9e6c8de7ca64",
   "metadata": {},
   "outputs": [
    {
     "name": "stdout",
     "output_type": "stream",
     "text": [
      "Series: demand[[\"Banking orders (2)\"]] \n",
      "ARIMA(0,0,3) with non-zero mean \n",
      "\n",
      "Coefficients:\n",
      "          ma1      ma2      ma3       mean\n",
      "      -0.0645  -0.1144  -0.4796  79914.783\n",
      "s.e.   0.1327   0.1150   0.1915   1897.407\n",
      "\n",
      "sigma^2 = 1.467e+09:  log likelihood = -716.71\n",
      "AIC=1443.42   AICc=1444.53   BIC=1453.89\n"
     ]
    }
   ],
   "source": [
    "\n",
    "\n",
    "codigo = \"\"\"\n",
    "#R\n",
    "\n",
    "est = auto.arima(demand[[\"Banking orders (2)\"]],\n",
    "                  stepwise = FALSE, ## é bem lento, \n",
    "                  ## mas nos permite uma pesquisa mais completa. \n",
    "                max.p=3, max.q = 9)\n",
    "                \n",
    "print(est)\n",
    "\n",
    "\n",
    "\n",
    "\"\"\"\n",
    "robjects.r(codigo)\n"
   ]
  },
  {
   "cell_type": "markdown",
   "id": "2dfd15fd-2b3b-4071-890a-887280c46bb1",
   "metadata": {},
   "source": [
    "A escolha foi esta ARIMA(0,0,3) with non-zero mean "
   ]
  },
  {
   "cell_type": "code",
   "execution_count": 240,
   "id": "42a9b97f-9d28-4639-adde-db1f70f2d549",
   "metadata": {},
   "outputs": [],
   "source": [
    "# snooping =>bisbilhotando"
   ]
  },
  {
   "cell_type": "code",
   "execution_count": 241,
   "id": "20dc1af7-82fb-446a-b0c0-429712e337ac",
   "metadata": {},
   "outputs": [
    {
     "data": {
      "text/html": [
       "\n",
       "        <span>ListVector with 18 elements.</span>\n",
       "        <table>\n",
       "        <tbody>\n",
       "        \n",
       "          <tr>\n",
       "            <th>\n",
       "            coef\n",
       "            </th>\n",
       "            <td>\n",
       "            \n",
       "        <span>FloatVector with 3 elements.</span>\n",
       "        <table>\n",
       "        <tbody>\n",
       "          <tr>\n",
       "          \n",
       "            <td>\n",
       "            0.824325\n",
       "            </td>\n",
       "          \n",
       "            <td>\n",
       "            -0.423327\n",
       "            </td>\n",
       "          \n",
       "            <td>\n",
       "            -0.734218\n",
       "            </td>\n",
       "          \n",
       "          </tr>\n",
       "        </tbody>\n",
       "        </table>\n",
       "        \n",
       "            </td>\n",
       "          </tr>\n",
       "        \n",
       "          <tr>\n",
       "            <th>\n",
       "            sigma2\n",
       "            </th>\n",
       "            <td>\n",
       "            \n",
       "        <span>FloatVector with 1 elements.</span>\n",
       "        <table>\n",
       "        <tbody>\n",
       "          <tr>\n",
       "          \n",
       "            <td>\n",
       "            0.946375\n",
       "            </td>\n",
       "          \n",
       "          </tr>\n",
       "        </tbody>\n",
       "        </table>\n",
       "        \n",
       "            </td>\n",
       "          </tr>\n",
       "        \n",
       "          <tr>\n",
       "            <th>\n",
       "            var.coef\n",
       "            </th>\n",
       "            <td>\n",
       "            \n",
       "        <span>FloatMatrix with 9 elements.</span>\n",
       "        <table>\n",
       "        <tbody>\n",
       "          <tr>\n",
       "          \n",
       "            <td>\n",
       "            0.001735\n",
       "            </td>\n",
       "          \n",
       "            <td>\n",
       "            -0.000228\n",
       "            </td>\n",
       "          \n",
       "            <td>\n",
       "            -0.001210\n",
       "            </td>\n",
       "          \n",
       "            <td>\n",
       "            ...\n",
       "            </td>\n",
       "          \n",
       "            <td>\n",
       "            -0.001210\n",
       "            </td>\n",
       "          \n",
       "            <td>\n",
       "            -0.000327\n",
       "            </td>\n",
       "          \n",
       "            <td>\n",
       "            0.001603\n",
       "            </td>\n",
       "          \n",
       "          </tr>\n",
       "        </tbody>\n",
       "        </table>\n",
       "        \n",
       "            </td>\n",
       "          </tr>\n",
       "        \n",
       "          <tr>\n",
       "            <th>\n",
       "            ...\n",
       "            </th>\n",
       "            <td>\n",
       "            ...\n",
       "            </td>\n",
       "          </tr>\n",
       "        \n",
       "          <tr>\n",
       "            <th>\n",
       "            aicc\n",
       "            </th>\n",
       "            <td>\n",
       "            \n",
       "        <span>FloatVector with 1 elements.</span>\n",
       "        <table>\n",
       "        <tbody>\n",
       "          <tr>\n",
       "          \n",
       "            <td>\n",
       "            2788.427488\n",
       "            </td>\n",
       "          \n",
       "          </tr>\n",
       "        </tbody>\n",
       "        </table>\n",
       "        \n",
       "            </td>\n",
       "          </tr>\n",
       "        \n",
       "          <tr>\n",
       "            <th>\n",
       "            x\n",
       "            </th>\n",
       "            <td>\n",
       "            \n",
       "        <span>FloatVector with 1000 elements.</span>\n",
       "        <table>\n",
       "        <tbody>\n",
       "          <tr>\n",
       "          \n",
       "            <td>\n",
       "            -0.380321\n",
       "            </td>\n",
       "          \n",
       "            <td>\n",
       "            0.019680\n",
       "            </td>\n",
       "          \n",
       "            <td>\n",
       "            0.937640\n",
       "            </td>\n",
       "          \n",
       "            <td>\n",
       "            ...\n",
       "            </td>\n",
       "          \n",
       "            <td>\n",
       "            0.097905\n",
       "            </td>\n",
       "          \n",
       "            <td>\n",
       "            -0.009199\n",
       "            </td>\n",
       "          \n",
       "            <td>\n",
       "            -1.419897\n",
       "            </td>\n",
       "          \n",
       "          </tr>\n",
       "        </tbody>\n",
       "        </table>\n",
       "        \n",
       "            </td>\n",
       "          </tr>\n",
       "        \n",
       "          <tr>\n",
       "            <th>\n",
       "            fitted\n",
       "            </th>\n",
       "            <td>\n",
       "            \n",
       "        <span>FloatVector with 1000 elements.</span>\n",
       "        <table>\n",
       "        <tbody>\n",
       "          <tr>\n",
       "          \n",
       "            <td>\n",
       "            -0.041828\n",
       "            </td>\n",
       "          \n",
       "            <td>\n",
       "            -0.056679\n",
       "            </td>\n",
       "          \n",
       "            <td>\n",
       "            0.164069\n",
       "            </td>\n",
       "          \n",
       "            <td>\n",
       "            ...\n",
       "            </td>\n",
       "          \n",
       "            <td>\n",
       "            -0.074322\n",
       "            </td>\n",
       "          \n",
       "            <td>\n",
       "            -0.138604\n",
       "            </td>\n",
       "          \n",
       "            <td>\n",
       "            -0.144040\n",
       "            </td>\n",
       "          \n",
       "          </tr>\n",
       "        </tbody>\n",
       "        </table>\n",
       "        \n",
       "            </td>\n",
       "          </tr>\n",
       "        \n",
       "        </tbody>\n",
       "        </table>\n",
       "        "
      ],
      "text/plain": [
       "<rpy2.robjects.vectors.ListVector object at 0x700dd8b5be50> [19]\n",
       "R classes: ('forecast_ARIMA', 'ARIMA', 'Arima')\n",
       "[FloatSexp..., FloatSexp..., FloatSexp..., BoolSexpV..., ..., FloatSexp..., FloatSexp..., FloatSexp..., FloatSexp...]\n",
       "  coef: <class 'rpy2.robjects.vectors.FloatVector'>\n",
       "  <rpy2.robjects.vectors.FloatVector object at 0x700dac1e9ed0> [14]\n",
       "R classes: ('numeric',)\n",
       "[0.824325, -0.423327, -0.734218]\n",
       "  sigma2: <class 'rpy2.robjects.vectors.FloatVector'>\n",
       "  <rpy2.robjects.vectors.FloatVector object at 0x700d4795fb10> [14]\n",
       "R classes: ('numeric',)\n",
       "[0.946375]\n",
       "  var.coef: <class 'rpy2.robjects.vectors.FloatMatrix'>\n",
       "  <rpy2.robjects.vectors.FloatMatrix object at 0x700d47b32dd0> [14]\n",
       "R classes: ('matrix', 'array')\n",
       "[0.001735, -0.000228, -0.001210, -0.000228, ..., -0.000327, -0.001210, -0.000327, 0.001603]\n",
       "  mask: <class 'rpy2.robjects.vectors.BoolVector'>\n",
       "  <rpy2.robjects.vectors.BoolVector object at 0x700d4795e210> [10]\n",
       "R classes: ('logical',)\n",
       "[       1,        1,        1]\n",
       "...\n",
       "  aic: <class 'rpy2.robjects.vectors.FloatVector'>\n",
       "  <rpy2.robjects.vectors.FloatVector object at 0x700d4795fd50> [14]\n",
       "R classes: ('numeric',)\n",
       "[2808.018308]\n",
       "  arma: <class 'rpy2.robjects.vectors.FloatVector'>\n",
       "  <rpy2.robjects.vectors.FloatVector object at 0x700d4795d350> [14]\n",
       "R classes: ('numeric',)\n",
       "[2788.427488]\n",
       "  residuals: <class 'rpy2.robjects.vectors.FloatVector'>\n",
       "  <rpy2.robjects.vectors.FloatVector object at 0x700d4795f590> [14]\n",
       "R classes: ('ts',)\n",
       "[-0.380321, 0.019680, 0.937640, 0.846360, ..., 0.219353, 0.097905, -0.009199, -1.419897]\n",
       "  call: <class 'rpy2.robjects.vectors.FloatVector'>\n",
       "  <rpy2.robjects.vectors.FloatVector object at 0x700d4795c3d0> [14]\n",
       "R classes: ('ts',)\n",
       "[-0.041828, -0.056679, 0.164069, 0.237513, ..., -0.470292, -0.074322, -0.138604, -0.144040]"
      ]
     },
     "execution_count": 241,
     "metadata": {},
     "output_type": "execute_result"
    }
   ],
   "source": [
    "codigo = \"\"\"\n",
    "#R\n",
    "\n",
    "auto.model = auto.arima(y)\n",
    "auto.model\n",
    "\n",
    "\n",
    "\"\"\"\n",
    "robjects.r(codigo)\n",
    "\n"
   ]
  },
  {
   "cell_type": "code",
   "execution_count": 242,
   "id": "857f6a82-5eb4-4a40-98ef-a90a6da5da9e",
   "metadata": {},
   "outputs": [
    {
     "name": "stdout",
     "output_type": "stream",
     "text": [
      "Series: y \n",
      "ARIMA(2,0,1) with zero mean \n",
      "\n",
      "Coefficients:\n",
      "         ar1      ar2      ma1\n",
      "      0.8243  -0.4233  -0.7342\n",
      "s.e.  0.0417   0.0298   0.0400\n",
      "\n",
      "sigma^2 = 0.9464:  log likelihood = -1390.19\n",
      "AIC=2788.39   AICc=2788.43   BIC=2808.02\n"
     ]
    }
   ],
   "source": [
    "codigo = \"\"\"\n",
    "#R\n",
    "\n",
    "auto.model = auto.arima(y)\n",
    "print(auto.model)\n",
    "\n",
    "\n",
    "\"\"\"\n",
    "robjects.r(codigo)"
   ]
  },
  {
   "cell_type": "markdown",
   "id": "250997d1-ffc0-4e68-a0db-9114b51ca470",
   "metadata": {},
   "source": [
    "# modelo selecionado ARIMA(2,0,1) with zero mean "
   ]
  },
  {
   "cell_type": "markdown",
   "id": "d1b06247-6070-461a-89ea-086f8264585f",
   "metadata": {},
   "source": [
    "# Autocorrelação Vetorial"
   ]
  },
  {
   "cell_type": "markdown",
   "id": "fe08fedf-f490-4b49-82d5-84ca5eefbb0d",
   "metadata": {},
   "source": [
    "- variáveis influenciáceis\n",
    "não há y privilegiado enquanto todo o resto é designado como x. Pelo contrário, o ajuste é simétrico em todas as variáveis. "
   ]
  },
  {
   "cell_type": "code",
   "execution_count": null,
   "id": "2b0f954b-c217-4c43-8e1f-55bafea70732",
   "metadata": {},
   "outputs": [],
   "source": []
  }
 ],
 "metadata": {
  "kernelspec": {
   "display_name": "Python 3 (ipykernel)",
   "language": "python",
   "name": "python3"
  },
  "language_info": {
   "codemirror_mode": {
    "name": "ipython",
    "version": 3
   },
   "file_extension": ".py",
   "mimetype": "text/x-python",
   "name": "python",
   "nbconvert_exporter": "python",
   "pygments_lexer": "ipython3",
   "version": "3.12.4"
  }
 },
 "nbformat": 4,
 "nbformat_minor": 5
}
