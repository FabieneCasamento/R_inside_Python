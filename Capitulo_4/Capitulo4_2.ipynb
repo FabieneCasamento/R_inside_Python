{
 "cells": [
  {
   "cell_type": "markdown",
   "id": "955ece16-c1bd-4596-b676-a00d9a3076a6",
   "metadata": {},
   "source": [
    "# Universo de simulação Autogerido\n",
    "\n",
    " Simulação de táxi. Uma frota de táxis, programada para iniciar seus turnos em horários diferentes, pode se comportar em conjunto. É necessário criar muitos táxis individuais, soltá-los em uma cidade cibernética e fazer com que relatem suas atividades. "
   ]
  },
  {
   "cell_type": "code",
   "execution_count": 1,
   "id": "a067ef63-b523-4593-af14-68a4991dd424",
   "metadata": {},
   "outputs": [],
   "source": [
    "import pandas as pd\n",
    "import numpy as np \n",
    "\n",
    "\n",
    "\n",
    "#geradores para simular os turnos dos táxis\n",
    "\n",
    "def taxi_id_number(num_taxis): \n",
    "\n",
    "    arr= np.arange(num_taxis)\n",
    "    np.random.shuffle(arr)\n",
    "    for i in range(num_taxis): \n",
    "        yield arr[i]\n",
    "\n"
   ]
  },
  {
   "cell_type": "code",
   "execution_count": 2,
   "id": "80b69fad-0896-4dc9-8976-2117e85c18c1",
   "metadata": {},
   "outputs": [
    {
     "name": "stdout",
     "output_type": "stream",
     "text": [
      "8\n",
      "5\n",
      "9\n"
     ]
    }
   ],
   "source": [
    "ids= taxi_id_number(10)\n",
    "print(next(ids))\n",
    "print(next(ids))\n",
    "print(next(ids))"
   ]
  },
  {
   "cell_type": "markdown",
   "id": "bcaca0c6-ae82-4f3e-a202-6586e9b156e4",
   "metadata": {},
   "source": [
    "\n",
    "Fará a iteração até gerar dez números, quando sairá do loop for dentro do gerador e lançará uma exceção StopIteration. "
   ]
  },
  {
   "cell_type": "code",
   "execution_count": 3,
   "id": "bcddf49d-72b5-4dac-8903-7007ae0f765a",
   "metadata": {},
   "outputs": [],
   "source": [
    "\n",
    "def shift_info():\n",
    "    # simulação de série temporal\n",
    "    start_times_and_freqs = [(0,8), (8,30), (16, 15)]\n",
    "    \n",
    "    indices = np.arrange(len(start_times_and_freqs))\n",
    "    \n",
    "    while True: \n",
    "         idx = np.random.choice(indices, p=[0.25, 0.5,0.25])\n",
    "         start= start_times_and_freqs[idx]\n",
    "         yield(start[0], start[0] +7.5, start[1])\n",
    "         "
   ]
  },
  {
   "cell_type": "markdown",
   "id": "fc080537-5da7-4376-9625-f623ec663b05",
   "metadata": {},
   "source": [
    "horas distintas do dia têm um número médio de viagens diferentes. \n",
    "\n",
    "Geração mais complexa"
   ]
  },
  {
   "cell_type": "code",
   "execution_count": 4,
   "id": "3c861ae6-9567-4655-83bc-b8ae016ca4e8",
   "metadata": {},
   "outputs": [],
   "source": [
    "\n",
    "def taxi_process(taxi_id_generator, shift_info_generator):\n",
    "    taxi_id = next(taxi_id_generator)\n",
    "    shift_start, shift_end, shift_mean_trips = next(shift_info_generator)\n",
    "    \n",
    "    actual_trips = round(np.random.normal(loc = shift_mean_trips, scale =2))\n",
    "    \n",
    "    average_trip_time = 6.5/ shift_mean_trips*60\n",
    "    \n",
    "    # Converte tempo médio de viagem em minutos.\n",
    "    between_events_time = 1.0/(shift_mean_trips-1)*60\n",
    "    \n",
    "    #Esta é uma cidade eficiente na qual os táxis raramente ficam sem rodar. \n",
    "    \n",
    "    time = shift_start\n",
    "    \n",
    "    yield TimePoint(taxi_id, 'start shift', time)\n",
    "    \n",
    "    deltaT = np.random.poisson(between_events_time)/60\n",
    "    time += deltaT\n",
    "    \n",
    "    for i in range(actual_trips):\n",
    "        yield TimePoint(taxi_id, 'pick up   ', time)  \n",
    "        deltaT = np.random.poisson(average_trip_time)/60        \n",
    "        time += deltaT\n",
    "        yield TimePoint(taxi_id, 'drop off  ', time)\n",
    "        deltaT = np.random.poisson(between_events_time)/60\n",
    "        time += deltaT\n",
    "     \n",
    "    deltaT = np.random.poisson(between_events_time) /60\n",
    "    \n",
    "    time += deltaT\n",
    "    yield TimePoint(taxi_id,'end shift  ', time)"
   ]
  },
  {
   "cell_type": "code",
   "execution_count": 5,
   "id": "d93a2dff-8bc8-4e00-abd1-82f9ef779cb4",
   "metadata": {},
   "outputs": [],
   "source": [
    "\n",
    "from dataclasses import dataclass\n",
    "\n",
    "#simplifica o código, versão python3.7 @dataclass\n",
    "@dataclass\n",
    "\n",
    "class TimePoint:\n",
    "     taxi_id: int\n",
    "     name:str\n",
    "     time: float\n",
    "     \n",
    "     \n",
    "     def __lt__(self, other):\n",
    "          return self.time < other.time\n",
    "    "
   ]
  },
  {
   "cell_type": "markdown",
   "id": "9b3ff7b9-2b92-48db-8e5f-97ed2f36b554",
   "metadata": {},
   "source": [
    "Tipo abstrato de dados, conhecido como first-in-first-out(FIFO)- objeto s sejam gerados a partir da estrutura de dados na mesma ordem em que foram inseridos nela. "
   ]
  },
  {
   "cell_type": "code",
   "execution_count": 6,
   "id": "f5b0f3fc-949a-47d9-aa42-b27a83317d1a",
   "metadata": {},
   "outputs": [],
   "source": [
    "#método dunder , métodos integrados ára toda a classe. Base em seu tempo.\n",
    "\n",
    "#Double under = dunder\n",
    "\n",
    "#__lt__ comparar os TimePoints e str(para exibir TimePoints)"
   ]
  },
  {
   "cell_type": "code",
   "execution_count": 27,
   "id": "b5675e1a-42a7-4ebe-be12-1f02c3085e98",
   "metadata": {},
   "outputs": [],
   "source": [
    "import queue\n",
    "\n",
    "class Simulator: \n",
    "     def __init__(self, num_taxis):\n",
    "         self._time_points = queue.PriorityQueue()\n",
    "         taxi_id_generator = taxi_id_number(num_taxis)\n",
    "         shift_info_generator = shift_info()\n",
    "         self._taxis = [taxi_process(taxi_id_generator, shift_info_generator) for i in range(num_taxis)]\n",
    "         \n",
    "         self._prepare_run()\n",
    "         #print('entrou 1')\n",
    "\n",
    "    \n",
    "     def _prepare_run(self):\n",
    "         for t in self._taxis:\n",
    "            # print('entrou 2')\n",
    "             while True :\n",
    "                try:\n",
    "                   e = next(t)\n",
    "                   self._time_points.put(e)\n",
    "                except:\n",
    "                   break\n",
    "                   \n",
    "     def run(self):\n",
    "         sim_time=0\n",
    "         print('entrou 3')\n",
    "         print('vazio')\n",
    "         print(sim_time)\n",
    "         print(self)\n",
    "         while sim_time <24:\n",
    "             if self._time_points.empty():\n",
    "                print('vazio')\n",
    "                break\n",
    "             p = self._time_points.get()\n",
    "             sim_time = p.time\n",
    "             print('entrou')\n",
    "             print(p)\n",
    "\n",
    "\n",
    "             "
   ]
  },
  {
   "cell_type": "code",
   "execution_count": 28,
   "id": "7d63a24f-c232-46f0-8dfb-66298c15babd",
   "metadata": {},
   "outputs": [
    {
     "name": "stdout",
     "output_type": "stream",
     "text": [
      "entrou 3\n",
      "vazio\n",
      "0\n",
      "<__main__.Simulator object at 0x78ce107ce090>\n",
      "vazio\n"
     ]
    }
   ],
   "source": [
    "#fila de prioridades\n",
    "sim = Simulator(1000)\n",
    "\n",
    "sim.run() "
   ]
  },
  {
   "cell_type": "code",
   "execution_count": 34,
   "id": "e3c58b57-b690-4087-9952-c6917d626648",
   "metadata": {},
   "outputs": [
    {
     "name": "stdout",
     "output_type": "stream",
     "text": [
      "entrou 3\n",
      "vazio\n",
      "0\n",
      "<__main__.Simulator object at 0x78ce101550d0>\n",
      "vazio\n"
     ]
    }
   ],
   "source": [
    "#fila de prioridades\n",
    "sim = Simulator(10)\n",
    "\n",
    "sim.run() "
   ]
  },
  {
   "cell_type": "code",
   "execution_count": 35,
   "id": "db0845e5-e67b-408c-b0dc-5a55d6c9dc11",
   "metadata": {},
   "outputs": [
    {
     "data": {
      "text/plain": [
       "[<generator object taxi_process at 0x78ce1188d6d0>,\n",
       " <generator object taxi_process at 0x78ce1188d800>,\n",
       " <generator object taxi_process at 0x78ce1188d930>,\n",
       " <generator object taxi_process at 0x78ce1188da60>,\n",
       " <generator object taxi_process at 0x78ce1188db90>,\n",
       " <generator object taxi_process at 0x78ce1188dcc0>,\n",
       " <generator object taxi_process at 0x78ce1188ddf0>,\n",
       " <generator object taxi_process at 0x78ce1188df20>,\n",
       " <generator object taxi_process at 0x78ce1188e050>,\n",
       " <generator object taxi_process at 0x78ce1188e180>]"
      ]
     },
     "execution_count": 35,
     "metadata": {},
     "output_type": "execute_result"
    }
   ],
   "source": [
    "sim._taxis "
   ]
  },
  {
   "cell_type": "markdown",
   "id": "6c490603-1c59-45a4-8608-487dad76f8fb",
   "metadata": {},
   "source": [
    "https://github.com/PracticalTimeSeriesAnalysis/BookRepo/blob/master/Ch04/Ising.ipynb"
   ]
  },
  {
   "cell_type": "code",
   "execution_count": 37,
   "id": "6551d891-cb80-4c66-8acf-061daf2600da",
   "metadata": {},
   "outputs": [],
   "source": [
    "#sim._time_points.get()"
   ]
  },
  {
   "cell_type": "markdown",
   "id": "f6a19fcc-451e-4242-bed4-49e6d42a32be",
   "metadata": {},
   "source": [
    "\n",
    "MCMC \n",
    "Simulações Monte Carlo e Cadeias de Markov\n",
    "\n",
    "Simulação Monte Carlo é encontrar meios perspicazes de aplicar números aleatórios a situações que deveriam, em teoria, ter solução exata, mas que na prática sã mais fáceis de resolver com meios probabilísticos. A cadeia de Markov é útil em uma simulação Monte Carlo geral, ainda mais na simulação de séries temporais. \n",
    "\n",
    "Uma simulação Monte Carlo o ajudará a identificar como é uma determinada distribuição ou série de termos, mas não como esses termos devem evoluir ao longo dAo tempo. E é aqui a cadeia de Markov entra em cena, calculando a probabilidade de transição entre estados e, quando fatoramos isso, damos \"passos\" em vez de simplesmente calcular uma integral global. Agora podemos ter uma simualção de série temporal em vez de somente o cálculo de uma integral. "
   ]
  },
  {
   "cell_type": "markdown",
   "id": "086212ba-df1c-4b33-bea5-c8e314569882",
   "metadata": {},
   "source": [
    "- processo markov => a probabilidade de uma transição para um estado no futuro depende somente do estado presente (não de informações anteriores).\n",
    "\n",
    "- Condições físicas espeíficas de uma distribuição de Boltzmann para energia: Tij/Tji = e ^-b(Ej-Ei)"
   ]
  },
  {
   "cell_type": "markdown",
   "id": "54704221-b717-493c-96b8-cdd4c76d4305",
   "metadata": {},
   "source": [
    "ISING é o modelo mecânico clássico estatístico de ímãs."
   ]
  },
  {
   "cell_type": "code",
   "execution_count": null,
   "id": "1eab48e0-5569-40fd-9263-93d6c5ca74a3",
   "metadata": {},
   "outputs": [],
   "source": []
  }
 ],
 "metadata": {
  "kernelspec": {
   "display_name": "Python 3 (ipykernel)",
   "language": "python",
   "name": "python3"
  },
  "language_info": {
   "codemirror_mode": {
    "name": "ipython",
    "version": 3
   },
   "file_extension": ".py",
   "mimetype": "text/x-python",
   "name": "python",
   "nbconvert_exporter": "python",
   "pygments_lexer": "ipython3",
   "version": "3.12.4"
  }
 },
 "nbformat": 4,
 "nbformat_minor": 5
}
